{
 "cells": [
  {
   "cell_type": "code",
   "execution_count": 1,
   "id": "18c3d16f-5fb0-441a-9753-2a3ae34cb471",
   "metadata": {},
   "outputs": [],
   "source": [
    "a = 3\n",
    "b = 2"
   ]
  },
  {
   "cell_type": "code",
   "execution_count": 2,
   "id": "66989eef-4ed4-4e5e-9a89-43fbe4d516e6",
   "metadata": {},
   "outputs": [],
   "source": [
    "def test(a,b):\n",
    "    return a**b"
   ]
  },
  {
   "cell_type": "code",
   "execution_count": 4,
   "id": "1ded5d09-366f-46e7-b816-2227cde8854a",
   "metadata": {},
   "outputs": [
    {
     "data": {
      "text/plain": [
       "5"
      ]
     },
     "execution_count": 4,
     "metadata": {},
     "output_type": "execute_result"
    }
   ],
   "source": [
    "test(a,b)"
   ]
  },
  {
   "cell_type": "code",
   "execution_count": 5,
   "id": "58a0923d-4d6d-451e-bb04-276f1c0357b1",
   "metadata": {},
   "outputs": [
    {
     "data": {
      "text/plain": [
       "<function __main__.<lambda>(a, b)>"
      ]
     },
     "execution_count": 5,
     "metadata": {},
     "output_type": "execute_result"
    }
   ],
   "source": [
    "lambda a,b: a**b"
   ]
  },
  {
   "cell_type": "code",
   "execution_count": 6,
   "id": "5825edbc-d65e-4aad-98aa-f06034cb99d8",
   "metadata": {},
   "outputs": [],
   "source": [
    "a = lambda a,b: a**b"
   ]
  },
  {
   "cell_type": "code",
   "execution_count": 7,
   "id": "202d56af-b99f-42d3-a35f-b8affbe2adbd",
   "metadata": {},
   "outputs": [
    {
     "data": {
      "text/plain": [
       "81"
      ]
     },
     "execution_count": 7,
     "metadata": {},
     "output_type": "execute_result"
    }
   ],
   "source": [
    "a(3,4)"
   ]
  },
  {
   "cell_type": "code",
   "execution_count": 8,
   "id": "0924d818-5548-4ad9-b1d1-624e93236458",
   "metadata": {},
   "outputs": [],
   "source": [
    "add = lambda x,y :x+y"
   ]
  },
  {
   "cell_type": "code",
   "execution_count": 9,
   "id": "8c65de26-bc1b-4954-acbd-8204faceb2e8",
   "metadata": {},
   "outputs": [
    {
     "data": {
      "text/plain": [
       "7"
      ]
     },
     "execution_count": 9,
     "metadata": {},
     "output_type": "execute_result"
    }
   ],
   "source": [
    "add(2,5)"
   ]
  },
  {
   "cell_type": "code",
   "execution_count": 10,
   "id": "0a68900d-a4c5-4fd1-9573-14e84befcd12",
   "metadata": {},
   "outputs": [],
   "source": [
    "c_to_f = lambda c : (9/5)*c+ 32"
   ]
  },
  {
   "cell_type": "code",
   "execution_count": 11,
   "id": "8b194d10-9aae-43f6-aeb5-1c3af4bd2038",
   "metadata": {},
   "outputs": [
    {
     "data": {
      "text/plain": [
       "113.0"
      ]
     },
     "execution_count": 11,
     "metadata": {},
     "output_type": "execute_result"
    }
   ],
   "source": [
    "c_to_f(45)"
   ]
  },
  {
   "cell_type": "code",
   "execution_count": 12,
   "id": "90dac089-3c51-4aa0-9f28-d1b93d4a6478",
   "metadata": {},
   "outputs": [],
   "source": [
    "finding_max = lambda x,y : x if x>y else y"
   ]
  },
  {
   "cell_type": "code",
   "execution_count": 13,
   "id": "3254df06-868f-4618-b925-9ad419940490",
   "metadata": {},
   "outputs": [
    {
     "data": {
      "text/plain": [
       "34"
      ]
     },
     "execution_count": 13,
     "metadata": {},
     "output_type": "execute_result"
    }
   ],
   "source": [
    "finding_max(34,23)"
   ]
  },
  {
   "cell_type": "code",
   "execution_count": 14,
   "id": "8e3100c1-1b37-45b3-ae29-ab7920784540",
   "metadata": {},
   "outputs": [],
   "source": [
    "s = \"Pwskills\""
   ]
  },
  {
   "cell_type": "code",
   "execution_count": 15,
   "id": "94601577-0ba7-4c71-a612-8c466dbbdbb0",
   "metadata": {},
   "outputs": [],
   "source": [
    "find_len = lambda s: len(s)"
   ]
  },
  {
   "cell_type": "code",
   "execution_count": 16,
   "id": "360d48df-0ebb-4ebd-8968-56f8d4fb78eb",
   "metadata": {},
   "outputs": [
    {
     "data": {
      "text/plain": [
       "8"
      ]
     },
     "execution_count": 16,
     "metadata": {},
     "output_type": "execute_result"
    }
   ],
   "source": [
    "find_len(s)"
   ]
  },
  {
   "cell_type": "code",
   "execution_count": null,
   "id": "7075afab-da96-4440-ba45-c90af5fe48c4",
   "metadata": {},
   "outputs": [],
   "source": []
  }
 ],
 "metadata": {
  "kernelspec": {
   "display_name": "Python 3 (ipykernel)",
   "language": "python",
   "name": "python3"
  },
  "language_info": {
   "codemirror_mode": {
    "name": "ipython",
    "version": 3
   },
   "file_extension": ".py",
   "mimetype": "text/x-python",
   "name": "python",
   "nbconvert_exporter": "python",
   "pygments_lexer": "ipython3",
   "version": "3.10.8"
  }
 },
 "nbformat": 4,
 "nbformat_minor": 5
}
