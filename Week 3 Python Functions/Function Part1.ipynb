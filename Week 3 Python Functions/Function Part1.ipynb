{
 "cells": [
  {
   "cell_type": "code",
   "execution_count": 1,
   "id": "6ac3f45e-fead-450a-86fe-cb9200d9cc62",
   "metadata": {},
   "outputs": [
    {
     "name": "stdout",
     "output_type": "stream",
     "text": [
      "This is my Print\n"
     ]
    }
   ],
   "source": [
    "print(\"This is my Print\")"
   ]
  },
  {
   "cell_type": "code",
   "execution_count": 2,
   "id": "d3779e53-cc1c-4c6d-9170-5bc795993069",
   "metadata": {},
   "outputs": [],
   "source": [
    "l = [324,45,45,46]"
   ]
  },
  {
   "cell_type": "code",
   "execution_count": 3,
   "id": "8d0e3326-70e7-4178-8c26-fafc47f4bcec",
   "metadata": {},
   "outputs": [
    {
     "data": {
      "text/plain": [
       "4"
      ]
     },
     "execution_count": 3,
     "metadata": {},
     "output_type": "execute_result"
    }
   ],
   "source": [
    "len(l)"
   ]
  },
  {
   "cell_type": "code",
   "execution_count": 4,
   "id": "e9736bf4-2a5b-49b0-af9b-3af3057c7308",
   "metadata": {},
   "outputs": [
    {
     "data": {
      "text/plain": [
       "list"
      ]
     },
     "execution_count": 4,
     "metadata": {},
     "output_type": "execute_result"
    }
   ],
   "source": [
    "type(l)"
   ]
  },
  {
   "cell_type": "code",
   "execution_count": 5,
   "id": "560eb1e2-458a-4e63-92d5-6dbe78602a73",
   "metadata": {},
   "outputs": [],
   "source": [
    "def  test():\n",
    "    pass"
   ]
  },
  {
   "cell_type": "code",
   "execution_count": 6,
   "id": "f6dbcdc1-c09f-41b2-bc07-212ce5f6b212",
   "metadata": {},
   "outputs": [],
   "source": [
    "def test1():\n",
    "    print(\"This is my very very first function \")"
   ]
  },
  {
   "cell_type": "code",
   "execution_count": 7,
   "id": "7053e90e-df6a-446d-867b-2b83ca39463b",
   "metadata": {},
   "outputs": [
    {
     "name": "stdout",
     "output_type": "stream",
     "text": [
      "This is my very very first function \n"
     ]
    }
   ],
   "source": [
    "test1()"
   ]
  },
  {
   "cell_type": "code",
   "execution_count": 8,
   "id": "6a8210ae-df46-4a24-9a50-077217755b3d",
   "metadata": {},
   "outputs": [],
   "source": [
    "def test2():\n",
    "    return \"This is my very first return\""
   ]
  },
  {
   "cell_type": "code",
   "execution_count": 9,
   "id": "f9fa5d3c-a96e-4bf5-9a67-bf60f77151e8",
   "metadata": {},
   "outputs": [
    {
     "data": {
      "text/plain": [
       "'This is my very first return'"
      ]
     },
     "execution_count": 9,
     "metadata": {},
     "output_type": "execute_result"
    }
   ],
   "source": [
    "test2()"
   ]
  },
  {
   "cell_type": "code",
   "execution_count": 10,
   "id": "30cf107a-5c55-4714-af15-36faea93c5c5",
   "metadata": {},
   "outputs": [
    {
     "data": {
      "text/plain": [
       "'This is my very first return Lokesh'"
      ]
     },
     "execution_count": 10,
     "metadata": {},
     "output_type": "execute_result"
    }
   ],
   "source": [
    "test2()+\" Lokesh\""
   ]
  },
  {
   "cell_type": "code",
   "execution_count": 11,
   "id": "e57cfbda-6edf-4a93-9fc3-75cb8969a047",
   "metadata": {},
   "outputs": [],
   "source": [
    "def test3():\n",
    "    return \"Lokesh\",23,345.56,[1,2,3,3]"
   ]
  },
  {
   "cell_type": "code",
   "execution_count": 12,
   "id": "623812f5-80a5-4327-b38a-cf63ea7889b2",
   "metadata": {},
   "outputs": [
    {
     "data": {
      "text/plain": [
       "('Lokesh', 23, 345.56, [1, 2, 3, 3])"
      ]
     },
     "execution_count": 12,
     "metadata": {},
     "output_type": "execute_result"
    }
   ],
   "source": [
    "test3()"
   ]
  },
  {
   "cell_type": "code",
   "execution_count": 13,
   "id": "bed1a2e2-24ea-431f-87dd-d476402f02d2",
   "metadata": {},
   "outputs": [],
   "source": [
    "a,b,c,d = test3()"
   ]
  },
  {
   "cell_type": "code",
   "execution_count": 14,
   "id": "bb099088-e9a4-4dbc-bd9a-c458cb24a9b7",
   "metadata": {},
   "outputs": [
    {
     "data": {
      "text/plain": [
       "'Lokesh'"
      ]
     },
     "execution_count": 14,
     "metadata": {},
     "output_type": "execute_result"
    }
   ],
   "source": [
    "a"
   ]
  },
  {
   "cell_type": "code",
   "execution_count": 15,
   "id": "2bfb09f6-62b5-4596-842a-7d06e65a475a",
   "metadata": {},
   "outputs": [
    {
     "data": {
      "text/plain": [
       "23"
      ]
     },
     "execution_count": 15,
     "metadata": {},
     "output_type": "execute_result"
    }
   ],
   "source": [
    "b"
   ]
  },
  {
   "cell_type": "code",
   "execution_count": 16,
   "id": "fd6ac140-84dd-4197-94e5-74ff02ab06c3",
   "metadata": {},
   "outputs": [
    {
     "data": {
      "text/plain": [
       "345.56"
      ]
     },
     "execution_count": 16,
     "metadata": {},
     "output_type": "execute_result"
    }
   ],
   "source": [
    "c"
   ]
  },
  {
   "cell_type": "code",
   "execution_count": 17,
   "id": "6d7caa9c-946d-4ba5-8fae-870bf69aba19",
   "metadata": {},
   "outputs": [
    {
     "data": {
      "text/plain": [
       "[1, 2, 3, 3]"
      ]
     },
     "execution_count": 17,
     "metadata": {},
     "output_type": "execute_result"
    }
   ],
   "source": [
    "d"
   ]
  },
  {
   "cell_type": "code",
   "execution_count": 18,
   "id": "85e1ce26-50f8-4752-9e6b-b1076fb3d74a",
   "metadata": {},
   "outputs": [],
   "source": [
    "def test4():\n",
    "    a = 5+6/7\n",
    "    return a"
   ]
  },
  {
   "cell_type": "code",
   "execution_count": 19,
   "id": "970fa15c-8941-4efa-87da-b91c5534b81d",
   "metadata": {},
   "outputs": [
    {
     "data": {
      "text/plain": [
       "5.857142857142857"
      ]
     },
     "execution_count": 19,
     "metadata": {},
     "output_type": "execute_result"
    }
   ],
   "source": [
    "test4()"
   ]
  },
  {
   "cell_type": "code",
   "execution_count": 20,
   "id": "4a9b8c54-e790-45c9-ba8e-96f449cb0b35",
   "metadata": {},
   "outputs": [],
   "source": [
    "def test5(a,b,c):\n",
    "    d=a=b/c\n",
    "    return d"
   ]
  },
  {
   "cell_type": "code",
   "execution_count": 21,
   "id": "4b3baecf-74a1-412e-8b2e-ca60b8161bf3",
   "metadata": {},
   "outputs": [
    {
     "data": {
      "text/plain": [
       "0.625"
      ]
     },
     "execution_count": 21,
     "metadata": {},
     "output_type": "execute_result"
    }
   ],
   "source": [
    "test5(2,5,8)"
   ]
  },
  {
   "cell_type": "code",
   "execution_count": 22,
   "id": "5e0ce61d-4863-4425-8ad5-0f7d544a79e7",
   "metadata": {},
   "outputs": [],
   "source": [
    "def test6(a,b):\n",
    "    return a+b"
   ]
  },
  {
   "cell_type": "code",
   "execution_count": 23,
   "id": "b0c60af6-e004-4385-8136-e3e9b26a36c3",
   "metadata": {},
   "outputs": [
    {
     "data": {
      "text/plain": [
       "66"
      ]
     },
     "execution_count": 23,
     "metadata": {},
     "output_type": "execute_result"
    }
   ],
   "source": [
    "test6(22,44)"
   ]
  },
  {
   "cell_type": "code",
   "execution_count": 24,
   "id": "1561e2a9-fe66-4185-be52-1b4a70cd25b5",
   "metadata": {},
   "outputs": [
    {
     "data": {
      "text/plain": [
       "'LokeshMendke'"
      ]
     },
     "execution_count": 24,
     "metadata": {},
     "output_type": "execute_result"
    }
   ],
   "source": [
    "test6(\"Lokesh\",\"Mendke\")"
   ]
  },
  {
   "cell_type": "code",
   "execution_count": 25,
   "id": "79d13e03-ef59-4333-97ca-11cf5f039ded",
   "metadata": {},
   "outputs": [
    {
     "data": {
      "text/plain": [
       "[1, 2, 3, 4, 5, 6, 7, 8, 9]"
      ]
     },
     "execution_count": 25,
     "metadata": {},
     "output_type": "execute_result"
    }
   ],
   "source": [
    "test6([1,2,3,4,5],[6,7,8,9])"
   ]
  },
  {
   "cell_type": "code",
   "execution_count": 26,
   "id": "75e9262a-c580-4ebe-9ff6-94d5b9a52fee",
   "metadata": {},
   "outputs": [],
   "source": [
    "l = [1,2,3,4,\"Lokesh\",\" Mendke\",[1,2,3,4,5,6]]"
   ]
  },
  {
   "cell_type": "code",
   "execution_count": 27,
   "id": "9454eaa6-d9fc-46a7-8601-211f43239156",
   "metadata": {},
   "outputs": [],
   "source": [
    "def test7(l):\n",
    "    li = []\n",
    "    for i in l :\n",
    "        if type(i) == int or type(i) == float:\n",
    "            li.append(i)\n",
    "    return li\n",
    "    "
   ]
  },
  {
   "cell_type": "code",
   "execution_count": 28,
   "id": "e0a66f76-edce-4a1c-962a-3c44df255158",
   "metadata": {},
   "outputs": [
    {
     "data": {
      "text/plain": [
       "[1, 2, 3, 4]"
      ]
     },
     "execution_count": 28,
     "metadata": {},
     "output_type": "execute_result"
    }
   ],
   "source": [
    "test7(l)"
   ]
  },
  {
   "cell_type": "code",
   "execution_count": 29,
   "id": "088c427d-eebd-4f95-944e-f1d31957d6d6",
   "metadata": {},
   "outputs": [],
   "source": [
    "def test8(l):\n",
    "    l1=[]\n",
    "    for i in l:\n",
    "        if type(i) == list :\n",
    "            for j in i:\n",
    "                l1.append(j)\n",
    "        else :\n",
    "             if type(i) == int or type(i) == float:\n",
    "                l1.append(i)\n",
    "    return l1\n",
    "        "
   ]
  },
  {
   "cell_type": "code",
   "execution_count": 30,
   "id": "4eb0615b-7450-404f-8967-6c60cfe0e408",
   "metadata": {},
   "outputs": [
    {
     "data": {
      "text/plain": [
       "[1, 2, 3, 4, 1, 2, 3, 4, 5, 6]"
      ]
     },
     "execution_count": 30,
     "metadata": {},
     "output_type": "execute_result"
    }
   ],
   "source": [
    "test8(l)"
   ]
  },
  {
   "cell_type": "code",
   "execution_count": 31,
   "id": "bbd7c4d0-cfcd-4371-99c4-077fcf97ff0e",
   "metadata": {},
   "outputs": [
    {
     "data": {
      "text/plain": [
       "[1, 2, 3, 4, 1, 2, 3, 4, 5, 6]"
      ]
     },
     "execution_count": 31,
     "metadata": {},
     "output_type": "execute_result"
    }
   ],
   "source": [
    "test8(l)"
   ]
  },
  {
   "cell_type": "code",
   "execution_count": 32,
   "id": "418a1f92-44fb-43a9-9779-bd374fb1efaa",
   "metadata": {},
   "outputs": [],
   "source": [
    "def test9(l):\n",
    "    '''This is my function to extract num from list'''\n",
    "    l1=[]\n",
    "    for i in l:\n",
    "        if type(i) == list :\n",
    "            for j in i:\n",
    "                l1.append(j)\n",
    "        else :\n",
    "             if type(i) == int or type(i) == float:\n",
    "                l1.append(i)\n",
    "    return l1\n",
    "        "
   ]
  },
  {
   "cell_type": "code",
   "execution_count": 33,
   "id": "51683185-5032-42bd-bed3-d584e7062ae0",
   "metadata": {},
   "outputs": [
    {
     "data": {
      "text/plain": [
       "[1, 2, 3, 4, 1, 2, 3, 4, 5, 6]"
      ]
     },
     "execution_count": 33,
     "metadata": {},
     "output_type": "execute_result"
    }
   ],
   "source": [
    "test9(l)"
   ]
  },
  {
   "cell_type": "code",
   "execution_count": 34,
   "id": "352ae8c4-342e-4908-b2e0-ad69babc8901",
   "metadata": {},
   "outputs": [],
   "source": [
    "def test10(a,b):\n",
    "    return a+b"
   ]
  },
  {
   "cell_type": "code",
   "execution_count": 36,
   "id": "943b66d2-5aa3-45c9-8f7f-16f8704a0fc1",
   "metadata": {},
   "outputs": [],
   "source": [
    "def test11(*args):\n",
    "    return args"
   ]
  },
  {
   "cell_type": "code",
   "execution_count": 37,
   "id": "b7dc989c-2a98-411e-b48b-d27fe3570004",
   "metadata": {},
   "outputs": [
    {
     "data": {
      "text/plain": [
       "tuple"
      ]
     },
     "execution_count": 37,
     "metadata": {},
     "output_type": "execute_result"
    }
   ],
   "source": [
    "type(test11())"
   ]
  },
  {
   "cell_type": "code",
   "execution_count": 38,
   "id": "3f7f8c18-d732-4973-85fc-4f92e3c6a713",
   "metadata": {},
   "outputs": [
    {
     "data": {
      "text/plain": [
       "(1, 2, 3)"
      ]
     },
     "execution_count": 38,
     "metadata": {},
     "output_type": "execute_result"
    }
   ],
   "source": [
    "test11(1,2,3)"
   ]
  },
  {
   "cell_type": "code",
   "execution_count": 39,
   "id": "8e19d35b-4f9e-4a53-9b24-7dd20bc29e70",
   "metadata": {},
   "outputs": [
    {
     "data": {
      "text/plain": [
       "(1, 2, 3, 'lokesh', 'mendke', [1, 2, 3, 4, 4])"
      ]
     },
     "execution_count": 39,
     "metadata": {},
     "output_type": "execute_result"
    }
   ],
   "source": [
    "test11(1,2,3,\"lokesh\",\"mendke\",[1,2,3,4,4])"
   ]
  },
  {
   "cell_type": "code",
   "execution_count": 41,
   "id": "7d28771e-955f-4a43-b14c-693a4ddccb57",
   "metadata": {},
   "outputs": [],
   "source": [
    "def test12(*lokesh):\n",
    "    return lokesh"
   ]
  },
  {
   "cell_type": "code",
   "execution_count": 43,
   "id": "3476b917-128b-4b2f-9ccb-5bf44baa0042",
   "metadata": {},
   "outputs": [
    {
     "data": {
      "text/plain": [
       "(1, 233.4, 5)"
      ]
     },
     "execution_count": 43,
     "metadata": {},
     "output_type": "execute_result"
    }
   ],
   "source": [
    "test12(1,233.4,5)"
   ]
  },
  {
   "cell_type": "code",
   "execution_count": 48,
   "id": "cfcb0f8a-52de-47a6-9918-3a44758b2db5",
   "metadata": {},
   "outputs": [],
   "source": [
    "def test13(args , a):\n",
    "    return args,a"
   ]
  },
  {
   "cell_type": "code",
   "execution_count": 49,
   "id": "321256c4-cdbc-4ec1-a15f-4a8d2a369555",
   "metadata": {},
   "outputs": [
    {
     "ename": "TypeError",
     "evalue": "test13() takes 2 positional arguments but 3 were given",
     "output_type": "error",
     "traceback": [
      "\u001b[0;31m---------------------------------------------------------------------------\u001b[0m",
      "\u001b[0;31mTypeError\u001b[0m                                 Traceback (most recent call last)",
      "Cell \u001b[0;32mIn[49], line 1\u001b[0m\n\u001b[0;32m----> 1\u001b[0m \u001b[43mtest13\u001b[49m\u001b[43m(\u001b[49m\u001b[38;5;241;43m1\u001b[39;49m\u001b[43m,\u001b[49m\u001b[38;5;241;43m233.4\u001b[39;49m\u001b[43m,\u001b[49m\u001b[38;5;241;43m5\u001b[39;49m\u001b[43m)\u001b[49m\n",
      "\u001b[0;31mTypeError\u001b[0m: test13() takes 2 positional arguments but 3 were given"
     ]
    }
   ],
   "source": [
    "test13(1,233.4,5)"
   ]
  },
  {
   "cell_type": "code",
   "execution_count": 54,
   "id": "0a2b1ccc-f514-4c51-a7d7-cf5f434458fa",
   "metadata": {},
   "outputs": [
    {
     "data": {
      "text/plain": [
       "((1, 2, 3, 4), 22)"
      ]
     },
     "execution_count": 54,
     "metadata": {},
     "output_type": "execute_result"
    }
   ],
   "source": [
    "test13((1,2,3,4) , a=22)"
   ]
  },
  {
   "cell_type": "code",
   "execution_count": 55,
   "id": "f19d4e67-eabb-4e65-ae14-9bc62471deaf",
   "metadata": {},
   "outputs": [],
   "source": [
    "def test14(c,d,a = 23 ,b =1):\n",
    "    return a,b,c,d"
   ]
  },
  {
   "cell_type": "code",
   "execution_count": 57,
   "id": "b21f2be4-bac9-4239-91be-90145f6d7601",
   "metadata": {},
   "outputs": [
    {
     "data": {
      "text/plain": [
       "(23, 1, 3, 4)"
      ]
     },
     "execution_count": 57,
     "metadata": {},
     "output_type": "execute_result"
    }
   ],
   "source": [
    "test14(3,4)"
   ]
  },
  {
   "cell_type": "code",
   "execution_count": 58,
   "id": "d2d23aa7-3477-4aee-aba3-06cc5ec7033e",
   "metadata": {},
   "outputs": [
    {
     "data": {
      "text/plain": [
       "(3456, 1, 2, 5)"
      ]
     },
     "execution_count": 58,
     "metadata": {},
     "output_type": "execute_result"
    }
   ],
   "source": [
    "test14(2,5,a =3456)"
   ]
  },
  {
   "cell_type": "code",
   "execution_count": 61,
   "id": "9d8460ef-3074-4d0d-b127-7cb0785f8163",
   "metadata": {},
   "outputs": [],
   "source": [
    " def test15(**kwags):\n",
    "        return kwags"
   ]
  },
  {
   "cell_type": "code",
   "execution_count": 62,
   "id": "0e3993ce-105e-4301-b2ca-e3096b8357cd",
   "metadata": {},
   "outputs": [
    {
     "data": {
      "text/plain": [
       "{}"
      ]
     },
     "execution_count": 62,
     "metadata": {},
     "output_type": "execute_result"
    }
   ],
   "source": [
    "test15()"
   ]
  },
  {
   "cell_type": "code",
   "execution_count": 63,
   "id": "fbe82beb-5871-40ea-a958-cef01837442e",
   "metadata": {},
   "outputs": [
    {
     "data": {
      "text/plain": [
       "dict"
      ]
     },
     "execution_count": 63,
     "metadata": {},
     "output_type": "execute_result"
    }
   ],
   "source": [
    "type(test15())"
   ]
  },
  {
   "cell_type": "code",
   "execution_count": 64,
   "id": "a2796100-2152-4c3d-8648-173a08262702",
   "metadata": {},
   "outputs": [
    {
     "data": {
      "text/plain": [
       "{'a': [1, 2, 3, 4], 'b': 'Lokesh', 'c': 23.45}"
      ]
     },
     "execution_count": 64,
     "metadata": {},
     "output_type": "execute_result"
    }
   ],
   "source": [
    "test15(a = [1,2,3,4], b = \"Lokesh\" , c = 23.45  )"
   ]
  }
 ],
 "metadata": {
  "kernelspec": {
   "display_name": "Python 3 (ipykernel)",
   "language": "python",
   "name": "python3"
  },
  "language_info": {
   "codemirror_mode": {
    "name": "ipython",
    "version": 3
   },
   "file_extension": ".py",
   "mimetype": "text/x-python",
   "name": "python",
   "nbconvert_exporter": "python",
   "pygments_lexer": "ipython3",
   "version": "3.10.8"
  }
 },
 "nbformat": 4,
 "nbformat_minor": 5
}
