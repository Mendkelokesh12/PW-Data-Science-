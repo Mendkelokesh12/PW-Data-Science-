{
 "cells": [
  {
   "cell_type": "code",
   "execution_count": null,
   "id": "68132a82-d406-470c-8901-4ec9b67a4d49",
   "metadata": {},
   "outputs": [],
   "source": [
    "a='Lokesh'\n"
   ]
  },
  {
   "cell_type": "code",
   "execution_count": 3,
   "id": "1d2d504c-6a58-42aa-b2b9-eac7defd71cc",
   "metadata": {},
   "outputs": [
    {
     "data": {
      "text/plain": [
       "str"
      ]
     },
     "execution_count": 3,
     "metadata": {},
     "output_type": "execute_result"
    }
   ],
   "source": [
    "type(a)"
   ]
  },
  {
   "cell_type": "code",
   "execution_count": 5,
   "id": "56f92181-3460-4a00-a29c-f55d28260101",
   "metadata": {},
   "outputs": [],
   "source": [
    " l=[45,-27,90,6.0,'Ayush',8-7j]"
   ]
  },
  {
   "cell_type": "code",
   "execution_count": 7,
   "id": "9568a7f5-6890-4044-88a9-078dc07978ca",
   "metadata": {},
   "outputs": [
    {
     "data": {
      "text/plain": [
       "list"
      ]
     },
     "execution_count": 7,
     "metadata": {},
     "output_type": "execute_result"
    }
   ],
   "source": [
    "type(l)"
   ]
  },
  {
   "cell_type": "code",
   "execution_count": 9,
   "id": "fcdd8aeb-9d3d-4c2b-b443-3032881f827b",
   "metadata": {},
   "outputs": [
    {
     "data": {
      "text/plain": [
       "45"
      ]
     },
     "execution_count": 9,
     "metadata": {},
     "output_type": "execute_result"
    }
   ],
   "source": [
    "l[0]"
   ]
  },
  {
   "cell_type": "code",
   "execution_count": 11,
   "id": "af7636f4-73d1-4095-97e4-2592c500af96",
   "metadata": {},
   "outputs": [
    {
     "data": {
      "text/plain": [
       "[45, -27, 90, 6.0, 'Ayush', (8-7j)]"
      ]
     },
     "execution_count": 11,
     "metadata": {},
     "output_type": "execute_result"
    }
   ],
   "source": [
    "l[0:7]"
   ]
  },
  {
   "cell_type": "code",
   "execution_count": 18,
   "id": "13035e4d-50bf-4f19-b65d-aae28b843ad8",
   "metadata": {},
   "outputs": [
    {
     "data": {
      "text/plain": [
       "[45, -27, 90, 6.0, 'Ayush', (8-7j)]"
      ]
     },
     "execution_count": 18,
     "metadata": {},
     "output_type": "execute_result"
    }
   ],
   "source": [
    "l[:7]"
   ]
  },
  {
   "cell_type": "code",
   "execution_count": 20,
   "id": "b340db5a-f6e5-482c-a897-f636e07e51c8",
   "metadata": {},
   "outputs": [
    {
     "data": {
      "text/plain": [
       "[]"
      ]
     },
     "execution_count": 20,
     "metadata": {},
     "output_type": "execute_result"
    }
   ],
   "source": [
    "l[7:0]"
   ]
  },
  {
   "cell_type": "code",
   "execution_count": 21,
   "id": "34fe5502-01d7-413d-b75f-a8ce18c6bb0b",
   "metadata": {},
   "outputs": [],
   "source": [
    "l[0]=33"
   ]
  },
  {
   "cell_type": "code",
   "execution_count": 22,
   "id": "b3e00554-ef9d-4133-8ff4-eac305b449c3",
   "metadata": {},
   "outputs": [
    {
     "data": {
      "text/plain": [
       "[33, -27, 90, 6.0, 'Ayush', (8-7j)]"
      ]
     },
     "execution_count": 22,
     "metadata": {},
     "output_type": "execute_result"
    }
   ],
   "source": [
    "l"
   ]
  },
  {
   "cell_type": "code",
   "execution_count": null,
   "id": "1322f283-21cb-49bb-afe2-31bc80e67403",
   "metadata": {},
   "outputs": [],
   "source": [
    "a"
   ]
  }
 ],
 "metadata": {
  "kernelspec": {
   "display_name": "Python 3 (ipykernel)",
   "language": "python",
   "name": "python3"
  },
  "language_info": {
   "codemirror_mode": {
    "name": "ipython",
    "version": 3
   },
   "file_extension": ".py",
   "mimetype": "text/x-python",
   "name": "python",
   "nbconvert_exporter": "python",
   "pygments_lexer": "ipython3",
   "version": "3.10.8"
  }
 },
 "nbformat": 4,
 "nbformat_minor": 5
}
