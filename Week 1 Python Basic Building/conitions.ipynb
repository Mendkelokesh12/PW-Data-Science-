{
 "cells": [
  {
   "cell_type": "code",
   "execution_count": 9,
   "id": "fe897e2f-8960-4712-b6b3-192bcfcfed88",
   "metadata": {},
   "outputs": [],
   "source": [
    "a = 10\n",
    "if a > 10 :\n",
    "    print(\"Yes a is greater than 10\")"
   ]
  },
  {
   "cell_type": "code",
   "execution_count": 7,
   "id": "33a2e282-8772-4bbe-8b00-e731dc307863",
   "metadata": {},
   "outputs": [
    {
     "data": {
      "text/plain": [
       "False"
      ]
     },
     "execution_count": 7,
     "metadata": {},
     "output_type": "execute_result"
    }
   ],
   "source": [
    "a > 10"
   ]
  },
  {
   "cell_type": "code",
   "execution_count": 6,
   "id": "cf59c05b-eee6-406c-b940-80370113298e",
   "metadata": {},
   "outputs": [
    {
     "name": "stdout",
     "output_type": "stream",
     "text": [
      "Yes a is greater than 10\n"
     ]
    }
   ],
   "source": [
    "a = 10\n",
    "if a >= 10 :\n",
    "    print(\"Yes a is greater than 10\")"
   ]
  },
  {
   "cell_type": "code",
   "execution_count": 5,
   "id": "1818940a-2d76-4bfd-93ff-bf8eca088058",
   "metadata": {},
   "outputs": [
    {
     "name": "stdout",
     "output_type": "stream",
     "text": [
      "yes b is lesser than 40\n"
     ]
    }
   ],
   "source": [
    "b = 20\n",
    "if b > 30 :\n",
    "    print(\"yes b is greter than 30\")\n",
    "elif b < 40 :\n",
    "    print(\"yes b is lesser than 40\")\n",
    "elif b > 100 :\n",
    "    print(\"Yes b is greater than 100\")\n",
    "else :\n",
    "    print(\"this is my default\")\n"
   ]
  },
  {
   "cell_type": "code",
   "execution_count": 4,
   "id": "44075a69-c257-4f63-8f9a-cc3ab20e887a",
   "metadata": {},
   "outputs": [
    {
     "name": "stdin",
     "output_type": "stream",
     "text": [
      " 2\n"
     ]
    },
    {
     "name": "stdout",
     "output_type": "stream",
     "text": [
      "yes b is lesser than 40\n"
     ]
    }
   ],
   "source": [
    "b = int(input())\n",
    "if b > 30 :\n",
    "    print(\"yes b is greter than 30\")\n",
    "elif b < 40 :\n",
    "    print(\"yes b is lesser than 40\")\n",
    "elif b > 100 :\n",
    "    print(\"Yes b is greater than 100\")\n",
    "else :\n",
    "    print(\"this is my default\")"
   ]
  },
  {
   "cell_type": "code",
   "execution_count": 10,
   "id": "c4a07cb3-349e-4638-aa44-86a175dcccbb",
   "metadata": {},
   "outputs": [
    {
     "name": "stdout",
     "output_type": "stream",
     "text": [
      "1\n",
      "2\n"
     ]
    }
   ],
   "source": [
    "n = 4\n",
    "i = 1\n",
    "while i < n :\n",
    "    print(i)\n",
    "    i = i + 1\n",
    "    if  i == 3 :\n",
    "        break\n",
    "else :\n",
    "    print(\"this is my else\")\n",
    "    "
   ]
  },
  {
   "cell_type": "code",
   "execution_count": 1,
   "id": "63584bc2-a4d8-49cf-a6bd-63ef0524f2c2",
   "metadata": {},
   "outputs": [
    {
     "name": "stdout",
     "output_type": "stream",
     "text": [
      "L\n",
      "o\n",
      "k\n",
      "e\n",
      "s\n",
      "h\n"
     ]
    }
   ],
   "source": [
    "s = \"Lokesh\" \n",
    "for  i  in s :\n",
    "    print(i)\n",
    "    \n",
    "    "
   ]
  },
  {
   "cell_type": "code",
   "execution_count": 6,
   "id": "42472fa4-2477-4538-ae95-d91b8603d063",
   "metadata": {},
   "outputs": [
    {
     "name": "stdout",
     "output_type": "stream",
     "text": [
      "<class 'int'>\n",
      "<class 'int'>\n",
      "<class 'int'>\n",
      "<class 'int'>\n",
      "<class 'int'>\n",
      "<class 'str'>\n",
      "<class 'str'>\n",
      "<class 'float'>\n",
      "<class 'bool'>\n",
      "This will be executed once for loopwill complete itself succesfully\n"
     ]
    }
   ],
   "source": [
    "l = [2,3,4,5,6,\"Lokesh\",\"Mendke\",23.4,True]\n",
    "\n",
    "for i in l :\n",
    "    print(type(i))\n",
    "    if i == 6 :\n",
    "        continue\n",
    "else :\n",
    "    print(\"This will be executed once for loopwill complete itself succesfully\")"
   ]
  },
  {
   "cell_type": "code",
   "execution_count": 7,
   "id": "104cda6b-4ea1-4630-8be9-032f9c55715c",
   "metadata": {},
   "outputs": [
    {
     "name": "stdout",
     "output_type": "stream",
     "text": [
      "<class 'int'>\n",
      "2\n",
      "<class 'int'>\n",
      "3\n",
      "<class 'int'>\n",
      "4\n",
      "<class 'int'>\n",
      "5\n",
      "<class 'int'>\n",
      "<class 'str'>\n",
      "Lokesh\n",
      "<class 'str'>\n",
      "Mendke\n",
      "<class 'float'>\n",
      "23.4\n",
      "<class 'bool'>\n",
      "True\n",
      "This will be executed once for loopwill complete itself succesfully\n"
     ]
    }
   ],
   "source": [
    "for i in l :\n",
    "    print(type(i))\n",
    "    if i == 6 :\n",
    "        continue\n",
    "    print(i)\n",
    "else :\n",
    "    print(\"This will be executed once for loopwill complete itself succesfully\")"
   ]
  },
  {
   "cell_type": "code",
   "execution_count": 8,
   "id": "aa5660fe-e48a-43b8-8330-09df7b17948a",
   "metadata": {},
   "outputs": [
    {
     "data": {
      "text/plain": [
       "range(0, 10)"
      ]
     },
     "execution_count": 8,
     "metadata": {},
     "output_type": "execute_result"
    }
   ],
   "source": [
    "range(10)"
   ]
  },
  {
   "cell_type": "code",
   "execution_count": 9,
   "id": "a2f73ef8-47bf-4d1f-86e4-29b508af5d36",
   "metadata": {},
   "outputs": [
    {
     "data": {
      "text/plain": [
       "[0, 1, 2, 3, 4, 5, 6, 7, 8, 9, 10, 11, 12, 13, 14, 15, 16, 17, 18, 19]"
      ]
     },
     "execution_count": 9,
     "metadata": {},
     "output_type": "execute_result"
    }
   ],
   "source": [
    "list(range(20))"
   ]
  },
  {
   "cell_type": "code",
   "execution_count": 17,
   "id": "68c5ae24-ac62-42f2-925d-261f11773d6d",
   "metadata": {},
   "outputs": [
    {
     "name": "stdout",
     "output_type": "stream",
     "text": [
      "[1, 2, 3, 4]\n"
     ]
    }
   ],
   "source": [
    "my_list = [1, 2, 3]\n",
    "\n",
    "new_list = my_list\n",
    "\n",
    "new_list.append(4)\n",
    "\n",
    "print(my_list)"
   ]
  },
  {
   "cell_type": "code",
   "execution_count": null,
   "id": "c4de0c68-135a-4a5d-9db7-38cdb4aef60a",
   "metadata": {},
   "outputs": [],
   "source": []
  }
 ],
 "metadata": {
  "kernelspec": {
   "display_name": "Python 3 (ipykernel)",
   "language": "python",
   "name": "python3"
  },
  "language_info": {
   "codemirror_mode": {
    "name": "ipython",
    "version": 3
   },
   "file_extension": ".py",
   "mimetype": "text/x-python",
   "name": "python",
   "nbconvert_exporter": "python",
   "pygments_lexer": "ipython3",
   "version": "3.10.8"
  }
 },
 "nbformat": 4,
 "nbformat_minor": 5
}
