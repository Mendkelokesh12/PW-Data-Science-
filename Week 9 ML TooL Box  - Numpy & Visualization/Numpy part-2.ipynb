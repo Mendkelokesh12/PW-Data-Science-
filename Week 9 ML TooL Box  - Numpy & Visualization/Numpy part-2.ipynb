{
 "cells": [
  {
   "cell_type": "code",
   "execution_count": 1,
   "id": "4dfc454b-d87f-46b9-96cc-bce957a1d569",
   "metadata": {},
   "outputs": [],
   "source": [
    "#Numpy - Array Manipulation"
   ]
  },
  {
   "cell_type": "code",
   "execution_count": 2,
   "id": "58a70924-367d-4ebf-a275-01c5d906240f",
   "metadata": {},
   "outputs": [],
   "source": [
    "import numpy as np"
   ]
  },
  {
   "cell_type": "code",
   "execution_count": 3,
   "id": "f78df3af-e65b-4803-bb89-d137f8dddbe4",
   "metadata": {},
   "outputs": [],
   "source": [
    "arr = np.random.randint(1,10 , (3,4))"
   ]
  },
  {
   "cell_type": "code",
   "execution_count": 4,
   "id": "463c8dc3-5b10-4b86-aafe-4998d8dc98f0",
   "metadata": {},
   "outputs": [
    {
     "data": {
      "text/plain": [
       "array([[5, 2, 9, 4],\n",
       "       [5, 7, 8, 2],\n",
       "       [9, 3, 6, 3]])"
      ]
     },
     "execution_count": 4,
     "metadata": {},
     "output_type": "execute_result"
    }
   ],
   "source": [
    "arr"
   ]
  },
  {
   "cell_type": "code",
   "execution_count": 5,
   "id": "6ba1f1ac-b1e8-4972-8166-69559b38805f",
   "metadata": {},
   "outputs": [
    {
     "data": {
      "text/plain": [
       "array([[5, 2, 9, 4, 5, 7],\n",
       "       [8, 2, 9, 3, 6, 3]])"
      ]
     },
     "execution_count": 5,
     "metadata": {},
     "output_type": "execute_result"
    }
   ],
   "source": [
    "arr.reshape(2,6)"
   ]
  },
  {
   "cell_type": "code",
   "execution_count": 7,
   "id": "d6336f23-04d6-44d7-a214-f0b954855f18",
   "metadata": {},
   "outputs": [
    {
     "data": {
      "text/plain": [
       "array([[5, 2, 9, 4, 5, 7],\n",
       "       [8, 2, 9, 3, 6, 3]])"
      ]
     },
     "execution_count": 7,
     "metadata": {},
     "output_type": "execute_result"
    }
   ],
   "source": [
    "arr.reshape(2,-2423456)"
   ]
  },
  {
   "cell_type": "code",
   "execution_count": 8,
   "id": "d7c47bab-a4ac-43d2-8754-98bfde19ce53",
   "metadata": {},
   "outputs": [
    {
     "data": {
      "text/plain": [
       "array([[5, 5, 9],\n",
       "       [2, 7, 3],\n",
       "       [9, 8, 6],\n",
       "       [4, 2, 3]])"
      ]
     },
     "execution_count": 8,
     "metadata": {},
     "output_type": "execute_result"
    }
   ],
   "source": [
    "arr.T"
   ]
  },
  {
   "cell_type": "code",
   "execution_count": 9,
   "id": "be24c507-9de9-471b-8d7e-7badb36a074c",
   "metadata": {},
   "outputs": [
    {
     "data": {
      "text/plain": [
       "array([5, 2, 9, 4, 5, 7, 8, 2, 9, 3, 6, 3])"
      ]
     },
     "execution_count": 9,
     "metadata": {},
     "output_type": "execute_result"
    }
   ],
   "source": [
    "arr.flatten()"
   ]
  },
  {
   "cell_type": "code",
   "execution_count": 10,
   "id": "504f18c5-605a-4366-ab4b-5c9a32222c6b",
   "metadata": {},
   "outputs": [],
   "source": [
    "arr1 = np.array([1,2,3,4,5])"
   ]
  },
  {
   "cell_type": "code",
   "execution_count": 12,
   "id": "4be6e6b6-841c-467e-ac60-70749c7c365a",
   "metadata": {},
   "outputs": [
    {
     "data": {
      "text/plain": [
       "1"
      ]
     },
     "execution_count": 12,
     "metadata": {},
     "output_type": "execute_result"
    }
   ],
   "source": [
    "arr1.ndim"
   ]
  },
  {
   "cell_type": "code",
   "execution_count": 13,
   "id": "0e86d74e-d87d-4369-9414-9322fa50ba1e",
   "metadata": {},
   "outputs": [
    {
     "data": {
      "text/plain": [
       "array([[1],\n",
       "       [2],\n",
       "       [3],\n",
       "       [4],\n",
       "       [5]])"
      ]
     },
     "execution_count": 13,
     "metadata": {},
     "output_type": "execute_result"
    }
   ],
   "source": [
    "np.expand_dims(arr1,axis=1)"
   ]
  },
  {
   "cell_type": "code",
   "execution_count": 14,
   "id": "e92a0971-e9a1-4de5-889d-6bd3ab968742",
   "metadata": {},
   "outputs": [
    {
     "data": {
      "text/plain": [
       "array([[1, 2, 3, 4, 5]])"
      ]
     },
     "execution_count": 14,
     "metadata": {},
     "output_type": "execute_result"
    }
   ],
   "source": [
    "np.expand_dims(arr1,axis=0)"
   ]
  },
  {
   "cell_type": "code",
   "execution_count": 15,
   "id": "fd2c9cfd-d473-4e81-b8f4-402f99e0fe62",
   "metadata": {},
   "outputs": [
    {
     "data": {
      "text/plain": [
       "array([[5, 2, 9, 4],\n",
       "       [5, 7, 8, 2],\n",
       "       [9, 3, 6, 3]])"
      ]
     },
     "execution_count": 15,
     "metadata": {},
     "output_type": "execute_result"
    }
   ],
   "source": [
    "arr"
   ]
  },
  {
   "cell_type": "code",
   "execution_count": 16,
   "id": "d9449716-76df-474d-8272-0b454774077f",
   "metadata": {},
   "outputs": [
    {
     "data": {
      "text/plain": [
       "array([[5, 2, 9, 4],\n",
       "       [5, 7, 8, 2],\n",
       "       [9, 3, 6, 3]])"
      ]
     },
     "execution_count": 16,
     "metadata": {},
     "output_type": "execute_result"
    }
   ],
   "source": [
    "np.squeeze(arr)"
   ]
  },
  {
   "cell_type": "code",
   "execution_count": 17,
   "id": "43feb25f-e3fb-41ee-a565-de077354cbd4",
   "metadata": {},
   "outputs": [],
   "source": [
    "data= np.array([[1] , [2] , [3]])"
   ]
  },
  {
   "cell_type": "code",
   "execution_count": 18,
   "id": "c6f7dac3-d144-4a78-90ea-8e23ae941c1a",
   "metadata": {},
   "outputs": [
    {
     "data": {
      "text/plain": [
       "array([[1],\n",
       "       [2],\n",
       "       [3]])"
      ]
     },
     "execution_count": 18,
     "metadata": {},
     "output_type": "execute_result"
    }
   ],
   "source": [
    "data"
   ]
  },
  {
   "cell_type": "code",
   "execution_count": 21,
   "id": "420d5529-fd9c-4b49-81ca-d5917687d178",
   "metadata": {},
   "outputs": [
    {
     "data": {
      "text/plain": [
       "array([1, 2, 3])"
      ]
     },
     "execution_count": 21,
     "metadata": {},
     "output_type": "execute_result"
    }
   ],
   "source": [
    "np.squeeze(data)"
   ]
  },
  {
   "cell_type": "code",
   "execution_count": 22,
   "id": "86c33ef9-38b4-41b9-aae0-10c38974081f",
   "metadata": {},
   "outputs": [
    {
     "data": {
      "text/plain": [
       "array([1, 2, 3, 4, 5])"
      ]
     },
     "execution_count": 22,
     "metadata": {},
     "output_type": "execute_result"
    }
   ],
   "source": [
    "arr1"
   ]
  },
  {
   "cell_type": "code",
   "execution_count": 23,
   "id": "c0494b64-1846-41ed-82a1-1f40b3a7ab87",
   "metadata": {},
   "outputs": [
    {
     "data": {
      "text/plain": [
       "array([1, 1, 1, 2, 2, 2, 3, 3, 3, 4, 4, 4, 5, 5, 5])"
      ]
     },
     "execution_count": 23,
     "metadata": {},
     "output_type": "execute_result"
    }
   ],
   "source": [
    "np.repeat(arr1,3)"
   ]
  },
  {
   "cell_type": "code",
   "execution_count": 24,
   "id": "17b670e0-e64c-4bbf-9ceb-fce3cda8ddb7",
   "metadata": {},
   "outputs": [
    {
     "data": {
      "text/plain": [
       "array([4, 5, 1, 2, 3])"
      ]
     },
     "execution_count": 24,
     "metadata": {},
     "output_type": "execute_result"
    }
   ],
   "source": [
    "np.roll(arr1, 2)"
   ]
  },
  {
   "cell_type": "code",
   "execution_count": 25,
   "id": "d486952e-fb98-42ec-bb81-feb7e577f9bf",
   "metadata": {},
   "outputs": [
    {
     "data": {
      "text/plain": [
       "array([1, 2, 3, 4, 5])"
      ]
     },
     "execution_count": 25,
     "metadata": {},
     "output_type": "execute_result"
    }
   ],
   "source": [
    "arr1"
   ]
  },
  {
   "cell_type": "code",
   "execution_count": 26,
   "id": "76c68d66-1259-41ea-b303-75c0010b1c5b",
   "metadata": {},
   "outputs": [
    {
     "data": {
      "text/plain": [
       "array([3, 4, 5, 1, 2])"
      ]
     },
     "execution_count": 26,
     "metadata": {},
     "output_type": "execute_result"
    }
   ],
   "source": [
    "np.roll(arr1,3)"
   ]
  },
  {
   "cell_type": "code",
   "execution_count": 27,
   "id": "bd36e349-f7b5-4506-95de-38f218cf4291",
   "metadata": {},
   "outputs": [
    {
     "data": {
      "text/plain": [
       "array([[1, 0, 0, 0, 0],\n",
       "       [0, 2, 0, 0, 0],\n",
       "       [0, 0, 3, 0, 0],\n",
       "       [0, 0, 0, 4, 0],\n",
       "       [0, 0, 0, 0, 5]])"
      ]
     },
     "execution_count": 27,
     "metadata": {},
     "output_type": "execute_result"
    }
   ],
   "source": [
    "np.diag(arr1)"
   ]
  },
  {
   "cell_type": "code",
   "execution_count": 28,
   "id": "9fdca0c0-f0d8-4947-ac57-797f52ae9091",
   "metadata": {},
   "outputs": [],
   "source": [
    "# Numpy - Binary Operators."
   ]
  },
  {
   "cell_type": "code",
   "execution_count": 29,
   "id": "2ca7d936-9108-465e-8b26-fe224e195148",
   "metadata": {},
   "outputs": [],
   "source": [
    "arr1 = np.random.randint(1,10 , (3,4))"
   ]
  },
  {
   "cell_type": "code",
   "execution_count": 30,
   "id": "e31feb27-49c8-4a4d-b3ba-f5f15b3aa46c",
   "metadata": {},
   "outputs": [],
   "source": [
    "arr2 = np.random.randint(1,10 , (3,4))"
   ]
  },
  {
   "cell_type": "code",
   "execution_count": 31,
   "id": "40c110b5-e083-408f-83fe-291190d8b301",
   "metadata": {},
   "outputs": [
    {
     "data": {
      "text/plain": [
       "array([[3, 5, 1, 9],\n",
       "       [2, 4, 7, 9],\n",
       "       [3, 6, 7, 3]])"
      ]
     },
     "execution_count": 31,
     "metadata": {},
     "output_type": "execute_result"
    }
   ],
   "source": [
    "arr1"
   ]
  },
  {
   "cell_type": "code",
   "execution_count": 32,
   "id": "f01bc7ef-f3ce-44d8-8341-e71c89f1081a",
   "metadata": {},
   "outputs": [
    {
     "data": {
      "text/plain": [
       "array([[6, 7, 1, 1],\n",
       "       [6, 6, 3, 5],\n",
       "       [3, 4, 1, 8]])"
      ]
     },
     "execution_count": 32,
     "metadata": {},
     "output_type": "execute_result"
    }
   ],
   "source": [
    "arr2"
   ]
  },
  {
   "cell_type": "code",
   "execution_count": 33,
   "id": "22258e36-4684-4bc7-9bae-3cea423204c4",
   "metadata": {},
   "outputs": [
    {
     "data": {
      "text/plain": [
       "array([[ 9, 12,  2, 10],\n",
       "       [ 8, 10, 10, 14],\n",
       "       [ 6, 10,  8, 11]])"
      ]
     },
     "execution_count": 33,
     "metadata": {},
     "output_type": "execute_result"
    }
   ],
   "source": [
    "arr1 +arr2"
   ]
  },
  {
   "cell_type": "code",
   "execution_count": 34,
   "id": "3c7e0e2b-12bb-40c8-b82a-1a038d3125b1",
   "metadata": {},
   "outputs": [
    {
     "data": {
      "text/plain": [
       "array([[18, 35,  1,  9],\n",
       "       [12, 24, 21, 45],\n",
       "       [ 9, 24,  7, 24]])"
      ]
     },
     "execution_count": 34,
     "metadata": {},
     "output_type": "execute_result"
    }
   ],
   "source": [
    "arr1*arr2"
   ]
  },
  {
   "cell_type": "code",
   "execution_count": 35,
   "id": "8c9b034f-e98d-41a4-84d4-f2cda07a06c7",
   "metadata": {},
   "outputs": [
    {
     "data": {
      "text/plain": [
       "array([[0.5       , 0.71428571, 1.        , 9.        ],\n",
       "       [0.33333333, 0.66666667, 2.33333333, 1.8       ],\n",
       "       [1.        , 1.5       , 7.        , 0.375     ]])"
      ]
     },
     "execution_count": 35,
     "metadata": {},
     "output_type": "execute_result"
    }
   ],
   "source": [
    "arr1/arr2"
   ]
  },
  {
   "cell_type": "code",
   "execution_count": 36,
   "id": "10a5fd1c-61a5-47d7-a7b2-2950be6b1424",
   "metadata": {},
   "outputs": [
    {
     "data": {
      "text/plain": [
       "array([[-3, -2,  0,  8],\n",
       "       [-4, -2,  4,  4],\n",
       "       [ 0,  2,  6, -5]])"
      ]
     },
     "execution_count": 36,
     "metadata": {},
     "output_type": "execute_result"
    }
   ],
   "source": [
    "arr1-arr2"
   ]
  },
  {
   "cell_type": "code",
   "execution_count": 37,
   "id": "10a7c3b6-1088-459e-90b3-84a5113f382a",
   "metadata": {},
   "outputs": [
    {
     "data": {
      "text/plain": [
       "array([[3, 5, 0, 0],\n",
       "       [2, 4, 1, 4],\n",
       "       [0, 2, 0, 3]])"
      ]
     },
     "execution_count": 37,
     "metadata": {},
     "output_type": "execute_result"
    }
   ],
   "source": [
    "arr1%arr2"
   ]
  },
  {
   "cell_type": "code",
   "execution_count": 38,
   "id": "71a1a5b3-5ea9-4275-9052-9ca936b50bca",
   "metadata": {},
   "outputs": [
    {
     "data": {
      "text/plain": [
       "array([[  729, 78125,     1,     9],\n",
       "       [   64,  4096,   343, 59049],\n",
       "       [   27,  1296,     7,  6561]])"
      ]
     },
     "execution_count": 38,
     "metadata": {},
     "output_type": "execute_result"
    }
   ],
   "source": [
    "arr1 ** arr2"
   ]
  },
  {
   "cell_type": "code",
   "execution_count": 39,
   "id": "3bb08482-e943-4955-9c06-30a4422f62a0",
   "metadata": {},
   "outputs": [
    {
     "data": {
      "text/plain": [
       "array([[2, 5, 1, 1],\n",
       "       [2, 4, 3, 1],\n",
       "       [3, 4, 1, 0]])"
      ]
     },
     "execution_count": 39,
     "metadata": {},
     "output_type": "execute_result"
    }
   ],
   "source": [
    "arr1 & arr2"
   ]
  },
  {
   "cell_type": "code",
   "execution_count": 40,
   "id": "d44e0ca0-5167-4550-87ea-c832f07cad4b",
   "metadata": {},
   "outputs": [
    {
     "data": {
      "text/plain": [
       "array([[3, 5, 1, 9],\n",
       "       [2, 4, 7, 9],\n",
       "       [3, 6, 7, 3]])"
      ]
     },
     "execution_count": 40,
     "metadata": {},
     "output_type": "execute_result"
    }
   ],
   "source": [
    "arr1"
   ]
  },
  {
   "cell_type": "code",
   "execution_count": 41,
   "id": "92454f47-f618-41f3-9d00-d3acaffd45fa",
   "metadata": {},
   "outputs": [
    {
     "data": {
      "text/plain": [
       "array([[6, 7, 1, 1],\n",
       "       [6, 6, 3, 5],\n",
       "       [3, 4, 1, 8]])"
      ]
     },
     "execution_count": 41,
     "metadata": {},
     "output_type": "execute_result"
    }
   ],
   "source": [
    "arr2"
   ]
  },
  {
   "cell_type": "code",
   "execution_count": 42,
   "id": "687ffc5c-cd7a-4b88-a081-d6400a096ae0",
   "metadata": {},
   "outputs": [
    {
     "data": {
      "text/plain": [
       "array([[-3, -5, -1, -9],\n",
       "       [-2, -4, -7, -9],\n",
       "       [-3, -6, -7, -3]])"
      ]
     },
     "execution_count": 42,
     "metadata": {},
     "output_type": "execute_result"
    }
   ],
   "source": [
    "-arr1"
   ]
  },
  {
   "cell_type": "code",
   "execution_count": 43,
   "id": "8cb7fb28-3135-4539-a91b-c56d36877346",
   "metadata": {},
   "outputs": [
    {
     "data": {
      "text/plain": [
       "array([[ 7,  7,  9,  5],\n",
       "       [ 7,  7, 11,  7],\n",
       "       [11,  7,  7, 11]])"
      ]
     },
     "execution_count": 43,
     "metadata": {},
     "output_type": "execute_result"
    }
   ],
   "source": [
    "arr|arr2"
   ]
  },
  {
   "cell_type": "code",
   "execution_count": 44,
   "id": "79ab6e1f-5064-43e6-8210-eb87216b7b45",
   "metadata": {},
   "outputs": [],
   "source": [
    "#Numpy  - String Functions."
   ]
  },
  {
   "cell_type": "code",
   "execution_count": 45,
   "id": "75fbdacf-6bf5-4edd-a76b-9e1b17f8f96e",
   "metadata": {},
   "outputs": [],
   "source": [
    "arr = np.array(['Lokesh','Mendke'])"
   ]
  },
  {
   "cell_type": "code",
   "execution_count": 46,
   "id": "47881d65-04a9-447e-beb0-a3df5ddf8427",
   "metadata": {},
   "outputs": [
    {
     "data": {
      "text/plain": [
       "array(['Lokesh', 'Mendke'], dtype='<U6')"
      ]
     },
     "execution_count": 46,
     "metadata": {},
     "output_type": "execute_result"
    }
   ],
   "source": [
    "arr"
   ]
  },
  {
   "cell_type": "code",
   "execution_count": 47,
   "id": "0f7eb8c4-7ce5-4516-8693-15b4f72c3ece",
   "metadata": {},
   "outputs": [
    {
     "data": {
      "text/plain": [
       "array(['LOKESH', 'MENDKE'], dtype='<U6')"
      ]
     },
     "execution_count": 47,
     "metadata": {},
     "output_type": "execute_result"
    }
   ],
   "source": [
    "np.char.upper(arr)"
   ]
  },
  {
   "cell_type": "code",
   "execution_count": 48,
   "id": "e369ae7a-795f-41fb-9af3-acc7dff85540",
   "metadata": {},
   "outputs": [
    {
     "data": {
      "text/plain": [
       "array(['Lokesh', 'Mendke'], dtype='<U6')"
      ]
     },
     "execution_count": 48,
     "metadata": {},
     "output_type": "execute_result"
    }
   ],
   "source": [
    "np.char.title(arr)"
   ]
  },
  {
   "cell_type": "code",
   "execution_count": 49,
   "id": "c8a2a286-4a91-478d-8153-d52a948fbd08",
   "metadata": {},
   "outputs": [
    {
     "data": {
      "text/plain": [
       "array(['Lokesh', 'Mendke'], dtype='<U6')"
      ]
     },
     "execution_count": 49,
     "metadata": {},
     "output_type": "execute_result"
    }
   ],
   "source": [
    "np.char.capitalize(arr)"
   ]
  },
  {
   "cell_type": "code",
   "execution_count": 50,
   "id": "db3b99e2-301d-4e18-a3eb-faed2c636240",
   "metadata": {},
   "outputs": [],
   "source": [
    "#Numpy - Mathematial Functions."
   ]
  },
  {
   "cell_type": "code",
   "execution_count": 51,
   "id": "7e2e53f0-6443-4936-9885-be306966be5e",
   "metadata": {},
   "outputs": [
    {
     "data": {
      "text/plain": [
       "array([[3, 5, 1, 9],\n",
       "       [2, 4, 7, 9],\n",
       "       [3, 6, 7, 3]])"
      ]
     },
     "execution_count": 51,
     "metadata": {},
     "output_type": "execute_result"
    }
   ],
   "source": [
    "arr1"
   ]
  },
  {
   "cell_type": "code",
   "execution_count": 52,
   "id": "a44a82f8-f81f-4e6e-a2dd-3f53ccadc24c",
   "metadata": {},
   "outputs": [
    {
     "data": {
      "text/plain": [
       "array([[ 0.14112001, -0.95892427,  0.84147098,  0.41211849],\n",
       "       [ 0.90929743, -0.7568025 ,  0.6569866 ,  0.41211849],\n",
       "       [ 0.14112001, -0.2794155 ,  0.6569866 ,  0.14112001]])"
      ]
     },
     "execution_count": 52,
     "metadata": {},
     "output_type": "execute_result"
    }
   ],
   "source": [
    "np.sin(arr1)"
   ]
  },
  {
   "cell_type": "code",
   "execution_count": 53,
   "id": "6fae1a60-6727-43fa-8aa6-fa467756684d",
   "metadata": {},
   "outputs": [
    {
     "data": {
      "text/plain": [
       "array([[-0.9899925 ,  0.28366219,  0.54030231, -0.91113026],\n",
       "       [-0.41614684, -0.65364362,  0.75390225, -0.91113026],\n",
       "       [-0.9899925 ,  0.96017029,  0.75390225, -0.9899925 ]])"
      ]
     },
     "execution_count": 53,
     "metadata": {},
     "output_type": "execute_result"
    }
   ],
   "source": [
    "np.cos(arr1)"
   ]
  },
  {
   "cell_type": "code",
   "execution_count": 54,
   "id": "54fd96a6-4761-4085-9e1a-0047cc7f606d",
   "metadata": {},
   "outputs": [
    {
     "data": {
      "text/plain": [
       "array([[0.99505475, 0.9999092 , 0.76159416, 0.99999997],\n",
       "       [0.96402758, 0.9993293 , 0.99999834, 0.99999997],\n",
       "       [0.99505475, 0.99998771, 0.99999834, 0.99505475]])"
      ]
     },
     "execution_count": 54,
     "metadata": {},
     "output_type": "execute_result"
    }
   ],
   "source": [
    "np.tanh(arr1)"
   ]
  },
  {
   "cell_type": "code",
   "execution_count": 55,
   "id": "fc6db608-adb3-4a67-908d-f0112e9e69b4",
   "metadata": {},
   "outputs": [
    {
     "data": {
      "text/plain": [
       "array([[2.00855369e+01, 1.48413159e+02, 2.71828183e+00, 8.10308393e+03],\n",
       "       [7.38905610e+00, 5.45981500e+01, 1.09663316e+03, 8.10308393e+03],\n",
       "       [2.00855369e+01, 4.03428793e+02, 1.09663316e+03, 2.00855369e+01]])"
      ]
     },
     "execution_count": 55,
     "metadata": {},
     "output_type": "execute_result"
    }
   ],
   "source": [
    "np.exp(arr1)"
   ]
  },
  {
   "cell_type": "code",
   "execution_count": 56,
   "id": "14a855b6-51a1-42bf-a0a6-57a4321f98b4",
   "metadata": {},
   "outputs": [
    {
     "data": {
      "text/plain": [
       "array([[1.73205081, 2.23606798, 1.        , 3.        ],\n",
       "       [1.41421356, 2.        , 2.64575131, 3.        ],\n",
       "       [1.73205081, 2.44948974, 2.64575131, 1.73205081]])"
      ]
     },
     "execution_count": 56,
     "metadata": {},
     "output_type": "execute_result"
    }
   ],
   "source": [
    "np.sqrt(arr1)"
   ]
  },
  {
   "cell_type": "code",
   "execution_count": 57,
   "id": "b4c11fee-5c7b-4013-9b62-1bb22cfedc18",
   "metadata": {},
   "outputs": [
    {
     "data": {
      "text/plain": [
       "array([[ 9, 25,  1, 81],\n",
       "       [ 4, 16, 49, 81],\n",
       "       [ 9, 36, 49,  9]])"
      ]
     },
     "execution_count": 57,
     "metadata": {},
     "output_type": "execute_result"
    }
   ],
   "source": [
    "np.power(arr1,2)"
   ]
  },
  {
   "cell_type": "code",
   "execution_count": 58,
   "id": "b22bffbc-4cb9-4d9c-9493-26718d9b6288",
   "metadata": {},
   "outputs": [
    {
     "data": {
      "text/plain": [
       "4.916666666666667"
      ]
     },
     "execution_count": 58,
     "metadata": {},
     "output_type": "execute_result"
    }
   ],
   "source": [
    "np.mean(arr1)"
   ]
  },
  {
   "cell_type": "code",
   "execution_count": 59,
   "id": "4adb96a3-844d-46f1-b99f-fde560dc1ba6",
   "metadata": {},
   "outputs": [
    {
     "data": {
      "text/plain": [
       "4.5"
      ]
     },
     "execution_count": 59,
     "metadata": {},
     "output_type": "execute_result"
    }
   ],
   "source": [
    "np.median(arr1)"
   ]
  },
  {
   "cell_type": "code",
   "execution_count": 60,
   "id": "359c7a0a-1526-4141-a57d-c90c08829a46",
   "metadata": {},
   "outputs": [
    {
     "data": {
      "text/plain": [
       "2.5644470922381863"
      ]
     },
     "execution_count": 60,
     "metadata": {},
     "output_type": "execute_result"
    }
   ],
   "source": [
    "np.std(arr1)"
   ]
  },
  {
   "cell_type": "code",
   "execution_count": 61,
   "id": "c2b43300-b0bf-435e-99b3-933b82a06602",
   "metadata": {},
   "outputs": [
    {
     "data": {
      "text/plain": [
       "6.576388888888889"
      ]
     },
     "execution_count": 61,
     "metadata": {},
     "output_type": "execute_result"
    }
   ],
   "source": [
    "np.var(arr1)"
   ]
  },
  {
   "cell_type": "code",
   "execution_count": null,
   "id": "346f364d-12ce-4000-8a6f-922e28546871",
   "metadata": {},
   "outputs": [],
   "source": [
    "np.min(ar1)"
   ]
  }
 ],
 "metadata": {
  "kernelspec": {
   "display_name": "Python 3 (ipykernel)",
   "language": "python",
   "name": "python3"
  },
  "language_info": {
   "codemirror_mode": {
    "name": "ipython",
    "version": 3
   },
   "file_extension": ".py",
   "mimetype": "text/x-python",
   "name": "python",
   "nbconvert_exporter": "python",
   "pygments_lexer": "ipython3",
   "version": "3.10.8"
  }
 },
 "nbformat": 4,
 "nbformat_minor": 5
}
