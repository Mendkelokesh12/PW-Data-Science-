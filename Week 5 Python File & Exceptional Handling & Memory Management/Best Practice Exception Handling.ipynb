{
 "cells": [
  {
   "cell_type": "code",
   "execution_count": 1,
   "id": "1be96013-303d-44dc-ae6c-69c3cfdcfd73",
   "metadata": {},
   "outputs": [
    {
     "name": "stdout",
     "output_type": "stream",
     "text": [
      "division by zero\n"
     ]
    }
   ],
   "source": [
    "# use always a specific exception\n",
    "try:\n",
    "    10/0\n",
    "except Exception as e:\n",
    "    print(e)\n",
    "    "
   ]
  },
  {
   "cell_type": "code",
   "execution_count": 2,
   "id": "153afe11-8605-41a3-bf4a-e8d7f53f334d",
   "metadata": {},
   "outputs": [
    {
     "name": "stdout",
     "output_type": "stream",
     "text": [
      "division by zero\n"
     ]
    }
   ],
   "source": [
    "try:\n",
    "    10/0\n",
    "except ZeroDivisionError as e:\n",
    "    print(e)"
   ]
  },
  {
   "cell_type": "code",
   "execution_count": 4,
   "id": "bc1c174a-dac4-46e7-8f43-5924096339e8",
   "metadata": {},
   "outputs": [
    {
     "name": "stdout",
     "output_type": "stream",
     "text": [
      "I am trying to handle a zerodivision error  division by zero\n"
     ]
    }
   ],
   "source": [
    "# print always a proper message\n",
    "try:\n",
    "    10/0\n",
    "except ZeroDivisionError as e:\n",
    "    print(\"I am trying to handle a zerodivision error \",e)"
   ]
  },
  {
   "cell_type": "code",
   "execution_count": 1,
   "id": "c9298077-f8ab-4a86-8c7e-4bc8197a4c8c",
   "metadata": {},
   "outputs": [],
   "source": [
    "# always try to log your error\n",
    "import logging \n",
    "logging.basicConfig(filename=\"error.log\",level = logging.ERROR)\n",
    "try:\n",
    "    10/0\n",
    "except ZeroDivisionError as e:\n",
    "    logging.error(\"I am trying to handle a zerodivision error {}\".format(e))"
   ]
  },
  {
   "cell_type": "code",
   "execution_count": 4,
   "id": "0a2cf05b-c84f-48fb-ae9a-e4fa18d1c113",
   "metadata": {},
   "outputs": [],
   "source": [
    "# always avoid to write a multiple exception handling\n",
    "try:\n",
    "    10/0\n",
    "except FileNotFoundError as e:\n",
    "    logging.error(\"I am handling file not found {}\".format(e))\n",
    "except AttributeError as e:\n",
    "    logging.error(\"I am trying to handle a AttributeError {}\".format(e))\n",
    "except ZeroDivisionError as e:\n",
    "    logging.error(\"I am trying to handle a zerodivision error {}\".format(e))"
   ]
  },
  {
   "cell_type": "code",
   "execution_count": 5,
   "id": "9e5b110e-2d5b-4661-998e-a0efb4e0bcc5",
   "metadata": {},
   "outputs": [],
   "source": [
    "# Document all the error\n",
    "# clean up all the resources\n",
    "try:\n",
    "    with open(\"one.txt\",'w')as f:\n",
    "        f.write(\"this is my data to file\")\n",
    "except FileNotFoundError as e:\n",
    "    logging.error(\"I am handling file not found {}\".format(e))\n",
    "finally:\n",
    "    f.close()"
   ]
  },
  {
   "cell_type": "code",
   "execution_count": null,
   "id": "3f7bee27-d134-41da-aadf-d80d8f1e719b",
   "metadata": {},
   "outputs": [],
   "source": []
  }
 ],
 "metadata": {
  "kernelspec": {
   "display_name": "Python 3 (ipykernel)",
   "language": "python",
   "name": "python3"
  },
  "language_info": {
   "codemirror_mode": {
    "name": "ipython",
    "version": 3
   },
   "file_extension": ".py",
   "mimetype": "text/x-python",
   "name": "python",
   "nbconvert_exporter": "python",
   "pygments_lexer": "ipython3",
   "version": "3.10.8"
  }
 },
 "nbformat": 4,
 "nbformat_minor": 5
}
