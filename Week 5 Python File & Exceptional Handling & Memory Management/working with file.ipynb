{
 "cells": [
  {
   "cell_type": "code",
   "execution_count": 1,
   "id": "60b6a317-cc8f-4c25-90ad-0a806a16dbd2",
   "metadata": {},
   "outputs": [],
   "source": [
    "f = open(\"test.txt\",'w')"
   ]
  },
  {
   "cell_type": "code",
   "execution_count": 2,
   "id": "d5756447-5dd3-4c3a-ba32-bda150d65432",
   "metadata": {},
   "outputs": [
    {
     "data": {
      "text/plain": [
       "'/home/jovyan/work'"
      ]
     },
     "execution_count": 2,
     "metadata": {},
     "output_type": "execute_result"
    }
   ],
   "source": [
    "pwd"
   ]
  },
  {
   "cell_type": "code",
   "execution_count": 3,
   "id": "74f26614-35d0-49c4-acfd-a34b2b04f340",
   "metadata": {},
   "outputs": [
    {
     "name": "stdout",
     "output_type": "stream",
     "text": [
      "'Buffered Read And Write Other File Methods.ipynb'   README.md\n",
      " copy_new.txt                                        sample-code.ipynb\n",
      " data.csv                                            test3.bin\n",
      " data.json                                           test.txt\n",
      " new_test.txt                                       'working with file.ipynb'\n",
      "'reading and writing files.ipynb'\n"
     ]
    }
   ],
   "source": [
    "ls"
   ]
  },
  {
   "cell_type": "code",
   "execution_count": 4,
   "id": "7efb6548-8760-4054-8d68-f26f4fe10c83",
   "metadata": {},
   "outputs": [
    {
     "data": {
      "text/plain": [
       "30"
      ]
     },
     "execution_count": 4,
     "metadata": {},
     "output_type": "execute_result"
    }
   ],
   "source": [
    "f.write(\"this is my first file to write\")"
   ]
  },
  {
   "cell_type": "code",
   "execution_count": 5,
   "id": "ebc9bdbe-b218-4498-838a-f419c3410b80",
   "metadata": {},
   "outputs": [],
   "source": [
    "f.close()"
   ]
  },
  {
   "cell_type": "code",
   "execution_count": 6,
   "id": "2dc2df1e-36e7-4e11-a731-5e49ca3b9b9d",
   "metadata": {},
   "outputs": [],
   "source": [
    "f = open(\"test.txt\",'w')\n",
    "f.write(\"this my file\")\n",
    "f.close()"
   ]
  },
  {
   "cell_type": "code",
   "execution_count": 7,
   "id": "e98e694e-e254-475e-8cae-9d135c8109da",
   "metadata": {},
   "outputs": [
    {
     "data": {
      "text/plain": [
       "279"
      ]
     },
     "execution_count": 7,
     "metadata": {},
     "output_type": "execute_result"
    }
   ],
   "source": [
    "f = open(\"test.txt\",'a')\n",
    "\n",
    "f.write('''Data science is the study of data to extract meaningful insights for business.It is a multidisciplinary approach that combines principles and practices from the fields of mathematics, statistics, artificial intelligence, and computer engineering to analyze large amounts of data.''')"
   ]
  },
  {
   "cell_type": "code",
   "execution_count": 8,
   "id": "c8c06d75-0934-4455-92eb-205ca09c5b76",
   "metadata": {},
   "outputs": [],
   "source": [
    "f.close()\n"
   ]
  },
  {
   "cell_type": "code",
   "execution_count": 9,
   "id": "e75ecc1f-386d-489a-842e-b4cd587593fa",
   "metadata": {},
   "outputs": [],
   "source": [
    "f = open('test.txt','r')"
   ]
  },
  {
   "cell_type": "code",
   "execution_count": 10,
   "id": "1be0eaba-db27-4217-b9a0-c0464868f24a",
   "metadata": {},
   "outputs": [
    {
     "data": {
      "text/plain": [
       "'this my fileData science is the study of data to extract meaningful insights for business.It is a multidisciplinary approach that combines principles and practices from the fields of mathematics, statistics, artificial intelligence, and computer engineering to analyze large amounts of data.'"
      ]
     },
     "execution_count": 10,
     "metadata": {},
     "output_type": "execute_result"
    }
   ],
   "source": [
    "f.read()"
   ]
  },
  {
   "cell_type": "code",
   "execution_count": 11,
   "id": "8b2a9cd2-8992-483e-a37d-5228a675b646",
   "metadata": {},
   "outputs": [
    {
     "data": {
      "text/plain": [
       "''"
      ]
     },
     "execution_count": 11,
     "metadata": {},
     "output_type": "execute_result"
    }
   ],
   "source": [
    "f.readline()"
   ]
  },
  {
   "cell_type": "code",
   "execution_count": 12,
   "id": "94255af6-cf80-487a-863c-aabb39e67bcc",
   "metadata": {},
   "outputs": [
    {
     "data": {
      "text/plain": [
       "0"
      ]
     },
     "execution_count": 12,
     "metadata": {},
     "output_type": "execute_result"
    }
   ],
   "source": [
    "f.seek(0)"
   ]
  },
  {
   "cell_type": "code",
   "execution_count": 13,
   "id": "0bf3fb80-c48c-4384-9993-c554865fc7d8",
   "metadata": {},
   "outputs": [
    {
     "data": {
      "text/plain": [
       "'this my fileData science is the study of data to extract meaningful insights for business.It is a multidisciplinary approach that combines principles and practices from the fields of mathematics, statistics, artificial intelligence, and computer engineering to analyze large amounts of data.'"
      ]
     },
     "execution_count": 13,
     "metadata": {},
     "output_type": "execute_result"
    }
   ],
   "source": [
    "f.readline()"
   ]
  },
  {
   "cell_type": "code",
   "execution_count": 14,
   "id": "59127e8e-4565-4cf7-a350-4946ecd387ad",
   "metadata": {},
   "outputs": [],
   "source": [
    "data1 =open('test.txt','r')"
   ]
  },
  {
   "cell_type": "code",
   "execution_count": 15,
   "id": "3c3f6e98-59e8-47c9-876d-5a31b2ff4b89",
   "metadata": {},
   "outputs": [
    {
     "name": "stdout",
     "output_type": "stream",
     "text": [
      "this my fileData science is the study of data to extract meaningful insights for business.It is a multidisciplinary approach that combines principles and practices from the fields of mathematics, statistics, artificial intelligence, and computer engineering to analyze large amounts of data.\n"
     ]
    }
   ],
   "source": [
    "for i in data1:\n",
    "    print(i)"
   ]
  },
  {
   "cell_type": "code",
   "execution_count": 16,
   "id": "80cfb7b4-7829-4bbf-85b3-1c466d5087b1",
   "metadata": {},
   "outputs": [
    {
     "data": {
      "text/plain": [
       "291"
      ]
     },
     "execution_count": 16,
     "metadata": {},
     "output_type": "execute_result"
    }
   ],
   "source": [
    "import os\n",
    "os.path.getsize('test.txt')"
   ]
  },
  {
   "cell_type": "code",
   "execution_count": 17,
   "id": "56487bdd-e3fb-4772-b49f-3608c89f0557",
   "metadata": {},
   "outputs": [],
   "source": [
    "os.remove('test.txt')"
   ]
  },
  {
   "cell_type": "code",
   "execution_count": 18,
   "id": "82cb6865-e724-43c4-8197-ae6ee32f738a",
   "metadata": {},
   "outputs": [],
   "source": [
    "f = open(\"test1.txt\",'w')"
   ]
  },
  {
   "cell_type": "code",
   "execution_count": 19,
   "id": "99a7b844-0d9d-4ebb-938e-7e37d081b4c8",
   "metadata": {},
   "outputs": [
    {
     "data": {
      "text/plain": [
       "291"
      ]
     },
     "execution_count": 19,
     "metadata": {},
     "output_type": "execute_result"
    }
   ],
   "source": [
    "f.write('this my fileData science is the study of data to extract meaningful insights for business.It is a multidisciplinary approach that combines principles and practices from the fields of mathematics, statistics, artificial intelligence, and computer engineering to analyze large amounts of data.')"
   ]
  },
  {
   "cell_type": "code",
   "execution_count": 20,
   "id": "878240fc-30f5-4bf2-9196-6eaf09661082",
   "metadata": {},
   "outputs": [],
   "source": [
    "f.close()"
   ]
  },
  {
   "cell_type": "code",
   "execution_count": 21,
   "id": "91e1410b-eae1-41bb-83fd-acdc5c861007",
   "metadata": {},
   "outputs": [],
   "source": [
    "os.rename('test1.txt','new_test.txt')"
   ]
  },
  {
   "cell_type": "code",
   "execution_count": 22,
   "id": "001b0ce3-7d92-4d8a-bfa7-600cca27af66",
   "metadata": {},
   "outputs": [
    {
     "data": {
      "text/plain": [
       "'copy_new.txt'"
      ]
     },
     "execution_count": 22,
     "metadata": {},
     "output_type": "execute_result"
    }
   ],
   "source": [
    "import shutil\n",
    "\n",
    "shutil.copy('new_test.txt','copy_new.txt')"
   ]
  },
  {
   "cell_type": "code",
   "execution_count": 23,
   "id": "dc6b0c6f-ab96-4e30-ac0a-f7dba36545bf",
   "metadata": {},
   "outputs": [
    {
     "name": "stdout",
     "output_type": "stream",
     "text": [
      "this my fileData science is the study of data to extract meaningful insights for business.It is a multidisciplinary approach that combines principles and practices from the fields of mathematics, statistics, artificial intelligence, and computer engineering to analyze large amounts of data.\n"
     ]
    }
   ],
   "source": [
    "with open('new_test.txt','r') as f:\n",
    "    print(f.read())\n",
    "        "
   ]
  },
  {
   "cell_type": "code",
   "execution_count": null,
   "id": "9a33f114-69eb-4453-91cb-65e4cc8d962e",
   "metadata": {},
   "outputs": [],
   "source": []
  }
 ],
 "metadata": {
  "kernelspec": {
   "display_name": "Python 3 (ipykernel)",
   "language": "python",
   "name": "python3"
  },
  "language_info": {
   "codemirror_mode": {
    "name": "ipython",
    "version": 3
   },
   "file_extension": ".py",
   "mimetype": "text/x-python",
   "name": "python",
   "nbconvert_exporter": "python",
   "pygments_lexer": "ipython3",
   "version": "3.10.8"
  }
 },
 "nbformat": 4,
 "nbformat_minor": 5
}
