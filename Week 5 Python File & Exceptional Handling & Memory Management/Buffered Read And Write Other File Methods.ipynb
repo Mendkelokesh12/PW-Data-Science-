{
 "cells": [
  {
   "cell_type": "code",
   "execution_count": 1,
   "id": "2454aebd-ff24-4246-8c19-3e4b37dfb7e8",
   "metadata": {},
   "outputs": [],
   "source": [
    "import io"
   ]
  },
  {
   "cell_type": "code",
   "execution_count": 6,
   "id": "c6db5eca-27cb-4603-9860-f5a5e6aa90da",
   "metadata": {},
   "outputs": [],
   "source": [
    "with open(\"test1.txt\",\"wb\")as f:\n",
    "    file = io.BufferedWriter(f)\n",
    "    \n",
    "    file.write(b'''PW Skills is your one-stop-shop for upscaling. Get maximum value for time\n",
    "and resources you invest, with job-ready courses & high-technology,\n",
    "available at the lowest cost.\\n''')\n",
    "    file.write(b\"this is my second line\")\n",
    "    file.flush()"
   ]
  },
  {
   "cell_type": "code",
   "execution_count": 10,
   "id": "c0a1e13e-8690-4345-9dba-f79b984d52d1",
   "metadata": {},
   "outputs": [
    {
     "name": "stdout",
     "output_type": "stream",
     "text": [
      "b'P'\n"
     ]
    }
   ],
   "source": [
    "with open(\"test1.txt\",\"rb\")as f:\n",
    "    file = io.BufferedReader(f)\n",
    "    print(file.read(1))"
   ]
  },
  {
   "cell_type": "code",
   "execution_count": null,
   "id": "2eb55c26-2bbd-4584-a2ea-7d3518b0434d",
   "metadata": {},
   "outputs": [],
   "source": []
  }
 ],
 "metadata": {
  "kernelspec": {
   "display_name": "Python 3 (ipykernel)",
   "language": "python",
   "name": "python3"
  },
  "language_info": {
   "codemirror_mode": {
    "name": "ipython",
    "version": 3
   },
   "file_extension": ".py",
   "mimetype": "text/x-python",
   "name": "python",
   "nbconvert_exporter": "python",
   "pygments_lexer": "ipython3",
   "version": "3.10.8"
  }
 },
 "nbformat": 4,
 "nbformat_minor": 5
}
