{
 "cells": [
  {
   "cell_type": "code",
   "execution_count": 1,
   "id": "a997fc8d-f9fc-464d-b684-df84b9093dae",
   "metadata": {},
   "outputs": [],
   "source": [
    "import threading"
   ]
  },
  {
   "cell_type": "code",
   "execution_count": 2,
   "id": "0347a6d2-e3bf-470f-900f-90081d0efd43",
   "metadata": {},
   "outputs": [],
   "source": [
    "def test(id):\n",
    "    print(\"prog start %d\",id)"
   ]
  },
  {
   "cell_type": "code",
   "execution_count": 3,
   "id": "f2f77f81-8f5a-4fd0-9fa3-02fc9f7e7e0b",
   "metadata": {},
   "outputs": [
    {
     "name": "stdout",
     "output_type": "stream",
     "text": [
      "prog start %d 45\n"
     ]
    }
   ],
   "source": [
    "test(45)"
   ]
  },
  {
   "cell_type": "code",
   "execution_count": 4,
   "id": "143264ac-f89e-48b1-b976-a99ea5719767",
   "metadata": {},
   "outputs": [],
   "source": [
    "thread= [threading.Thread(target=test,args=(i,) )for i in range(10) ]"
   ]
  },
  {
   "cell_type": "code",
   "execution_count": 5,
   "id": "500c72f6-e3e4-4f60-b470-352863a1ab25",
   "metadata": {},
   "outputs": [
    {
     "name": "stdout",
     "output_type": "stream",
     "text": [
      "prog start %d 0\n",
      "prog start %d 1\n",
      "prog start %d 2\n",
      "prog start %d 3\n",
      "prog start %d 4\n",
      "prog start %d 5\n",
      "prog start %d 6\n",
      "prog start %d 7\n",
      "prog start %d 8\n",
      "prog start %d 9\n"
     ]
    }
   ],
   "source": [
    "for  t in thread:\n",
    "    t.start()"
   ]
  },
  {
   "cell_type": "code",
   "execution_count": 6,
   "id": "d0078504-17bc-4708-b108-8d17af1dc881",
   "metadata": {},
   "outputs": [
    {
     "data": {
      "text/plain": [
       "[0, 1, 2, 3, 4, 5, 6, 7, 8, 9]"
      ]
     },
     "execution_count": 6,
     "metadata": {},
     "output_type": "execute_result"
    }
   ],
   "source": [
    "list(range(10))"
   ]
  },
  {
   "cell_type": "code",
   "execution_count": 7,
   "id": "6f47b283-c93a-4a6d-8341-75e455a44edd",
   "metadata": {},
   "outputs": [
    {
     "data": {
      "text/plain": [
       "[<Thread(Thread-5 (test), stopped 140003174770240)>,\n",
       " <Thread(Thread-6 (test), stopped 140003174770240)>,\n",
       " <Thread(Thread-7 (test), stopped 140003174770240)>,\n",
       " <Thread(Thread-8 (test), stopped 140003174770240)>,\n",
       " <Thread(Thread-9 (test), stopped 140003174770240)>,\n",
       " <Thread(Thread-10 (test), stopped 140003174770240)>,\n",
       " <Thread(Thread-11 (test), stopped 140003174770240)>,\n",
       " <Thread(Thread-12 (test), stopped 140003174770240)>,\n",
       " <Thread(Thread-13 (test), stopped 140003174770240)>,\n",
       " <Thread(Thread-14 (test), stopped 140003166377536)>]"
      ]
     },
     "execution_count": 7,
     "metadata": {},
     "output_type": "execute_result"
    }
   ],
   "source": [
    "thread"
   ]
  },
  {
   "cell_type": "code",
   "execution_count": 8,
   "id": "671ea0e6-b826-4689-b768-d5f52859bfe2",
   "metadata": {},
   "outputs": [
    {
     "data": {
      "text/plain": [
       "140003720233408"
      ]
     },
     "execution_count": 8,
     "metadata": {},
     "output_type": "execute_result"
    }
   ],
   "source": [
    "id(thread)"
   ]
  },
  {
   "cell_type": "code",
   "execution_count": 9,
   "id": "9c7c49a0-3d49-4d32-abd6-105f5d9f9d49",
   "metadata": {},
   "outputs": [],
   "source": [
    "import threading\n",
    "import urllib.request\n",
    "\n",
    "def file_download(url,filname):\n",
    "    urllib.request.urlretrieve(url,filname)"
   ]
  },
  {
   "cell_type": "code",
   "execution_count": 10,
   "id": "3c048702-5de4-4153-8801-9be923cf813e",
   "metadata": {},
   "outputs": [],
   "source": [
    "file_download(\"https://github.com/AbelR007/Python\",\"test.txt\")"
   ]
  },
  {
   "cell_type": "code",
   "execution_count": 11,
   "id": "c2c4f1a9-9aa0-40d6-9c67-a2e512b9bc0b",
   "metadata": {},
   "outputs": [],
   "source": [
    "url_list = [\"https://github.com/AbelR007/Python/tree/master/Basic%20Programming/matrices\",\"https://github.com/AbelR007/Python\",\"https://github.com/AbelR007/Python/tree/master/Basic%20Programming\"]"
   ]
  },
  {
   "cell_type": "code",
   "execution_count": 12,
   "id": "246f2d13-36e2-4922-8f53-012d1c63700a",
   "metadata": {},
   "outputs": [
    {
     "data": {
      "text/plain": [
       "['https://github.com/AbelR007/Python/tree/master/Basic%20Programming/matrices',\n",
       " 'https://github.com/AbelR007/Python',\n",
       " 'https://github.com/AbelR007/Python/tree/master/Basic%20Programming']"
      ]
     },
     "execution_count": 12,
     "metadata": {},
     "output_type": "execute_result"
    }
   ],
   "source": [
    "url_list"
   ]
  },
  {
   "cell_type": "code",
   "execution_count": 13,
   "id": "86e792b7-b763-44ba-99fa-0c23c1e41b2f",
   "metadata": {},
   "outputs": [],
   "source": [
    "file_name_list= ['data1.txt','data2.txt','data3.txt']"
   ]
  },
  {
   "cell_type": "code",
   "execution_count": 14,
   "id": "e8607b42-c241-4092-ac20-5e1aca106337",
   "metadata": {},
   "outputs": [],
   "source": [
    "ther= [threading.Thread(target=file_name_list,args=(url_list[i],file_name_list[i]))for i in range(len(url_list))]"
   ]
  },
  {
   "cell_type": "code",
   "execution_count": 15,
   "id": "40f492f3-468f-47c7-a4e1-8fb2560d8de3",
   "metadata": {},
   "outputs": [
    {
     "data": {
      "text/plain": [
       "[<Thread(Thread-15, initial)>,\n",
       " <Thread(Thread-16, initial)>,\n",
       " <Thread(Thread-17, initial)>]"
      ]
     },
     "execution_count": 15,
     "metadata": {},
     "output_type": "execute_result"
    }
   ],
   "source": [
    "ther"
   ]
  },
  {
   "cell_type": "code",
   "execution_count": 16,
   "id": "84fb6f59-b882-44f6-83ee-9d7c6628e023",
   "metadata": {},
   "outputs": [
    {
     "name": "stderr",
     "output_type": "stream",
     "text": [
      "Exception in thread Thread-15:\n",
      "Traceback (most recent call last):\n",
      "  File \"/opt/conda/lib/python3.10/threading.py\", line 1016, in _bootstrap_inner\n",
      "    self.run()\n",
      "  File \"/opt/conda/lib/python3.10/threading.py\", line 953, in run\n",
      "    self._target(*self._args, **self._kwargs)\n",
      "TypeError: 'list' object is not callable\n",
      "Exception in thread Thread-16:\n",
      "Traceback (most recent call last):\n",
      "  File \"/opt/conda/lib/python3.10/threading.py\", line 1016, in _bootstrap_inner\n",
      "    Exception in thread Thread-17:\n",
      "Traceback (most recent call last):\n",
      "  File \"/opt/conda/lib/python3.10/threading.py\", line 1016, in _bootstrap_inner\n",
      "    self.run()\n",
      "  File \"/opt/conda/lib/python3.10/threading.py\", line 953, in run\n",
      "self.run()\n",
      "  File \"/opt/conda/lib/python3.10/threading.py\", line 953, in run\n",
      "    self._target(*self._args, **self._kwargs)\n",
      "TypeError: 'list' object is not callable\n",
      "    self._target(*self._args, **self._kwargs)\n",
      "TypeError: 'list' object is not callable\n"
     ]
    }
   ],
   "source": [
    "for t in ther:\n",
    "    t.start()"
   ]
  },
  {
   "cell_type": "code",
   "execution_count": 17,
   "id": "c66e40d6-daa2-447d-9ece-aab9ff23f6ce",
   "metadata": {},
   "outputs": [],
   "source": [
    "import time"
   ]
  },
  {
   "cell_type": "code",
   "execution_count": 20,
   "id": "a8d16ebf-3160-4afa-af27-24bac90e8da7",
   "metadata": {},
   "outputs": [],
   "source": [
    "def test1(id):\n",
    "    for i in range(10):\n",
    "        print(\"test %dprinting %d %s\"%(id,i,time.ctime()))\n",
    "        time.sleep(1)"
   ]
  },
  {
   "cell_type": "code",
   "execution_count": 21,
   "id": "024278e6-64b6-465f-b4bb-dc4db77aad3e",
   "metadata": {},
   "outputs": [
    {
     "name": "stdout",
     "output_type": "stream",
     "text": [
      "test 0printing 0 Sun Jan 21 11:16:26 2024\n",
      "test 0printing 1 Sun Jan 21 11:16:27 2024\n",
      "test 0printing 2 Sun Jan 21 11:16:28 2024\n",
      "test 0printing 3 Sun Jan 21 11:16:29 2024\n",
      "test 0printing 4 Sun Jan 21 11:16:30 2024\n",
      "test 0printing 5 Sun Jan 21 11:16:31 2024\n",
      "test 0printing 6 Sun Jan 21 11:16:32 2024\n",
      "test 0printing 7 Sun Jan 21 11:16:33 2024\n",
      "test 0printing 8 Sun Jan 21 11:16:34 2024\n",
      "test 0printing 9 Sun Jan 21 11:16:35 2024\n"
     ]
    }
   ],
   "source": [
    "test1(0)"
   ]
  },
  {
   "cell_type": "code",
   "execution_count": 22,
   "id": "61b5a239-8423-4dab-bfc5-71a89d255c59",
   "metadata": {},
   "outputs": [],
   "source": [
    "thread1= [threading.Thread(target=test1,args=(i,)) for i in range (3)]"
   ]
  },
  {
   "cell_type": "code",
   "execution_count": 23,
   "id": "c71edce6-958d-45c5-9ddf-ad652aabcebc",
   "metadata": {},
   "outputs": [
    {
     "name": "stdout",
     "output_type": "stream",
     "text": [
      "test 0printing 0 Sun Jan 21 11:16:40 2024\n",
      "test 1printing 0 Sun Jan 21 11:16:40 2024\n",
      "test 2printing 0 Sun Jan 21 11:16:40 2024\n",
      "test 0printing 1 Sun Jan 21 11:16:41 2024\n",
      "test 1printing 1 Sun Jan 21 11:16:41 2024\n",
      "test 2printing 1 Sun Jan 21 11:16:41 2024\n",
      "test 0printing 2 Sun Jan 21 11:16:42 2024\n",
      "test 1printing 2 Sun Jan 21 11:16:42 2024\n",
      "test 2printing 2 Sun Jan 21 11:16:42 2024\n",
      "test 0printing 3 Sun Jan 21 11:16:43 2024\n",
      "test 1printing 3 Sun Jan 21 11:16:43 2024\n",
      "test 2printing 3 Sun Jan 21 11:16:43 2024\n",
      "test 0printing 4 Sun Jan 21 11:16:44 2024\n",
      "test 1printing 4 Sun Jan 21 11:16:44 2024\n",
      "test 2printing 4 Sun Jan 21 11:16:44 2024\n",
      "test 0printing 5 Sun Jan 21 11:16:45 2024test 1printing 5 Sun Jan 21 11:16:45 2024\n",
      "\n",
      "test 2printing 5 Sun Jan 21 11:16:45 2024\n",
      "test 1printing 6 Sun Jan 21 11:16:46 2024\n",
      "test 0printing 6 Sun Jan 21 11:16:46 2024\n",
      "test 2printing 6 Sun Jan 21 11:16:46 2024\n",
      "test 1printing 7 Sun Jan 21 11:16:47 2024test 0printing 7 Sun Jan 21 11:16:47 2024\n",
      "\n",
      "test 2printing 7 Sun Jan 21 11:16:47 2024\n",
      "test 0printing 8 Sun Jan 21 11:16:48 2024test 1printing 8 Sun Jan 21 11:16:48 2024\n",
      "\n",
      "test 2printing 8 Sun Jan 21 11:16:48 2024\n",
      "test 1printing 9 Sun Jan 21 11:16:49 2024test 0printing 9 Sun Jan 21 11:16:49 2024\n",
      "\n",
      "test 2printing 9 Sun Jan 21 11:16:49 2024\n"
     ]
    }
   ],
   "source": [
    "for t in thread1:\n",
    "    t.start()"
   ]
  },
  {
   "cell_type": "code",
   "execution_count": 24,
   "id": "a6a9b62c-ff83-4e3e-844d-65adaea534ed",
   "metadata": {},
   "outputs": [],
   "source": [
    "share_var =0\n",
    "lock_var = threading.Lock()"
   ]
  },
  {
   "cell_type": "code",
   "execution_count": 26,
   "id": "a3964f53-d4fd-42fa-bcd1-998a95e3786c",
   "metadata": {},
   "outputs": [],
   "source": [
    "def test2(id):\n",
    "    global share_var\n",
    "    with lock_var:\n",
    "        share_var = share_var+1\n",
    "    print(\"test2 id is %d has increased the shared variable by %d \"%(id ,share_var))"
   ]
  },
  {
   "cell_type": "code",
   "execution_count": 30,
   "id": "dd39f28f-dac0-4ac5-9486-1e4944aa5df3",
   "metadata": {},
   "outputs": [],
   "source": [
    "thred3 = [threading.Thread(target=test2,args=(i,))for i in range (3)]"
   ]
  },
  {
   "cell_type": "code",
   "execution_count": 31,
   "id": "605beb74-096b-43c8-8675-01c55630fded",
   "metadata": {},
   "outputs": [
    {
     "data": {
      "text/plain": [
       "[<Thread(Thread-24 (test2), initial)>,\n",
       " <Thread(Thread-25 (test2), initial)>,\n",
       " <Thread(Thread-26 (test2), initial)>]"
      ]
     },
     "execution_count": 31,
     "metadata": {},
     "output_type": "execute_result"
    }
   ],
   "source": [
    "thred3"
   ]
  },
  {
   "cell_type": "code",
   "execution_count": 32,
   "id": "3dff2346-7b07-408e-88ba-24bc242c25e0",
   "metadata": {},
   "outputs": [
    {
     "name": "stdout",
     "output_type": "stream",
     "text": [
      "test2 id is 0 has increased the shared variable by 4 \n",
      "test2 id is 1 has increased the shared variable by 5 \n",
      "test2 id is 2 has increased the shared variable by 6 \n"
     ]
    }
   ],
   "source": [
    "for t in thred3:\n",
    "    t.start()"
   ]
  },
  {
   "cell_type": "code",
   "execution_count": 33,
   "id": "4d790b00-0aa4-4fe3-941a-1ccd0f403dac",
   "metadata": {},
   "outputs": [
    {
     "name": "stdout",
     "output_type": "stream",
     "text": [
      "test2 id is 0 has increased the shared variable by 7 \n"
     ]
    }
   ],
   "source": [
    "test2(0)"
   ]
  },
  {
   "cell_type": "code",
   "execution_count": null,
   "id": "9f12039b-a880-428b-9ddb-65b69e207511",
   "metadata": {},
   "outputs": [],
   "source": []
  }
 ],
 "metadata": {
  "kernelspec": {
   "display_name": "Python 3 (ipykernel)",
   "language": "python",
   "name": "python3"
  },
  "language_info": {
   "codemirror_mode": {
    "name": "ipython",
    "version": 3
   },
   "file_extension": ".py",
   "mimetype": "text/x-python",
   "name": "python",
   "nbconvert_exporter": "python",
   "pygments_lexer": "ipython3",
   "version": "3.10.8"
  }
 },
 "nbformat": 4,
 "nbformat_minor": 5
}
