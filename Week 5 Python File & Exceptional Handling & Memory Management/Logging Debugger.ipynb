{
 "cells": [
  {
   "cell_type": "code",
   "execution_count": 1,
   "id": "6d5cffee-390b-4bb8-a9dd-2011dcd783cf",
   "metadata": {},
   "outputs": [
    {
     "name": "stdout",
     "output_type": "stream",
     "text": [
      "this is my print\n"
     ]
    }
   ],
   "source": [
    "print(\"this is my print\" )"
   ]
  },
  {
   "cell_type": "code",
   "execution_count": 2,
   "id": "e824111b-2ea2-48b9-9b03-169de88d974f",
   "metadata": {},
   "outputs": [],
   "source": [
    "import logging"
   ]
  },
  {
   "cell_type": "code",
   "execution_count": 3,
   "id": "21bbc8e1-930a-4504-a3c1-ce0a5201dc8e",
   "metadata": {},
   "outputs": [],
   "source": [
    "logging.basicConfig(filename = \"test.log\",level = logging.INFO)"
   ]
  },
  {
   "cell_type": "code",
   "execution_count": 4,
   "id": "6c670b78-b4b0-44f0-8dd6-ff9ef6c1a091",
   "metadata": {},
   "outputs": [],
   "source": [
    "logging.info(\"log this line of execution\")"
   ]
  },
  {
   "cell_type": "code",
   "execution_count": 5,
   "id": "f0c89d19-187b-4393-a2e3-e9714ae0481f",
   "metadata": {},
   "outputs": [],
   "source": [
    "logging.info(\"this is my print\")"
   ]
  },
  {
   "cell_type": "raw",
   "id": "4d76217e-9c4f-4ae6-aa85-261249324772",
   "metadata": {},
   "source": [
    "1. NOTSET\n",
    "2. DEBUG\n",
    "3. INFO\n",
    "4. WARNING\n",
    "5. ERROR\n",
    "6. CRITICAL"
   ]
  },
  {
   "cell_type": "code",
   "execution_count": 6,
   "id": "fcc5f9aa-7a16-4eae-bbd6-2ac2ce2f549d",
   "metadata": {},
   "outputs": [],
   "source": [
    "logging.debug(\"this is my msg\")"
   ]
  },
  {
   "cell_type": "code",
   "execution_count": 7,
   "id": "b60434fa-6377-4126-b542-82e34cde1187",
   "metadata": {},
   "outputs": [],
   "source": [
    "logging.warning(\"This is my warning message\")"
   ]
  },
  {
   "cell_type": "code",
   "execution_count": 8,
   "id": "1fd65009-90df-43a8-bd3c-ba6de83cafbf",
   "metadata": {},
   "outputs": [],
   "source": [
    "logging.error(\"this is my error message\")"
   ]
  },
  {
   "cell_type": "code",
   "execution_count": 9,
   "id": "7dcfd046-58c7-40d0-a192-53d112d74ca4",
   "metadata": {},
   "outputs": [],
   "source": [
    "logging.critical(\"this is my critical message\")"
   ]
  },
  {
   "cell_type": "code",
   "execution_count": 15,
   "id": "be1460de-f0ba-4312-a461-a9242b9064e1",
   "metadata": {},
   "outputs": [],
   "source": [
    "logging.shutdown()"
   ]
  },
  {
   "cell_type": "code",
   "execution_count": 2,
   "id": "886b76c5-da69-4c24-8399-79beb12331a7",
   "metadata": {},
   "outputs": [],
   "source": [
    "import logging"
   ]
  },
  {
   "cell_type": "code",
   "execution_count": 3,
   "id": "5edb8add-ca69-4a8d-b932-bf7cfa5ea6ec",
   "metadata": {},
   "outputs": [],
   "source": [
    "logging.basicConfig(filename=\"test1.log\", level = logging.DEBUG,format='%(asctime)s %(message)s')"
   ]
  },
  {
   "cell_type": "code",
   "execution_count": 4,
   "id": "614bef5e-5d16-47ea-9088-96136586673f",
   "metadata": {},
   "outputs": [],
   "source": [
    "logging.info(\"this is my info logging\")"
   ]
  },
  {
   "cell_type": "code",
   "execution_count": 5,
   "id": "e384e14e-9d87-472f-9d45-79c2e041203d",
   "metadata": {},
   "outputs": [],
   "source": [
    "logging.error(\"this is my error message\")"
   ]
  },
  {
   "cell_type": "code",
   "execution_count": 6,
   "id": "4f7660a1-b6f0-4f2d-80c2-52f11781774a",
   "metadata": {},
   "outputs": [],
   "source": [
    "logging.shutdown()"
   ]
  },
  {
   "cell_type": "code",
   "execution_count": 1,
   "id": "3cd53dd4-3754-4633-8398-f1212b421933",
   "metadata": {},
   "outputs": [],
   "source": [
    "import logging\n",
    "logging.basicConfig(filename=\"test2.log\",level = logging.DEBUG,format= '%(asctime)s %(name)s %(levelname)s %(message)s')"
   ]
  },
  {
   "cell_type": "code",
   "execution_count": 2,
   "id": "cfa73d05-86e6-4a2e-bbab-dfd0ce8e3e52",
   "metadata": {},
   "outputs": [],
   "source": [
    "logging.info(\"this is my info logging\")\n",
    "logging.error(\"this is my error message\")"
   ]
  },
  {
   "cell_type": "code",
   "execution_count": 4,
   "id": "45880fdd-7a4f-4bae-90c4-27881b2e5b45",
   "metadata": {},
   "outputs": [],
   "source": [
    "l =[1,2,3,4,[22,3,4],\"lokesh\",\"mendke\"]\n"
   ]
  },
  {
   "cell_type": "code",
   "execution_count": 18,
   "id": "db4449af-8bc2-4db4-82f2-32088f6f3009",
   "metadata": {
    "jupyter": {
     "source_hidden": true
    },
    "tags": []
   },
   "outputs": [],
   "source": [
    "l1_int=[]\n",
    "l2_str=[]\n",
    "for i in l:\n",
    "    logging.info(\"we are iterating our list and our local var is i\"+str(l))\n",
    "    logging.critical(\"we are iterating our list and our local var is {}\".format(l ))\n",
    "    if  type(i) == list:\n",
    "        logging.info(\"i amm inside if statement and i am trying to check list type\"+str(i))\n",
    "        for j in i:\n",
    "            logging.info(\"i am in another for loop for list inside list element\"+str(j))\n",
    "            if type(j) == int:\n",
    "                logging.info(\"i am inside if statement\"+str(j))\n",
    "                l1_int.append(j)\n",
    "    elif type(i) == int:\n",
    "        l1_int.append(i)\n",
    "    else :\n",
    "        if type(i)==str:\n",
    "            l2_str.append(i)\n",
    "logging.info(\"My final result for int is{l1} and str is {l2}\".format(l1=l1_int,l2=l2_str))"
   ]
  },
  {
   "cell_type": "code",
   "execution_count": 9,
   "id": "c590084c-797e-4de6-a487-850fa836e299",
   "metadata": {},
   "outputs": [
    {
     "data": {
      "text/plain": [
       "[1, 2, 3, 4, 22, 3, 4]"
      ]
     },
     "execution_count": 9,
     "metadata": {},
     "output_type": "execute_result"
    }
   ],
   "source": [
    "l1_int"
   ]
  },
  {
   "cell_type": "code",
   "execution_count": 10,
   "id": "0701a0b5-b43b-499c-918f-c0fa099e163b",
   "metadata": {},
   "outputs": [
    {
     "data": {
      "text/plain": [
       "['lokesh', 'mendke']"
      ]
     },
     "execution_count": 10,
     "metadata": {},
     "output_type": "execute_result"
    }
   ],
   "source": [
    "l2_str"
   ]
  },
  {
   "cell_type": "code",
   "execution_count": null,
   "id": "7eef5df0-f336-4c31-8245-5ca970f19199",
   "metadata": {},
   "outputs": [],
   "source": []
  }
 ],
 "metadata": {
  "kernelspec": {
   "display_name": "Python 3 (ipykernel)",
   "language": "python",
   "name": "python3"
  },
  "language_info": {
   "codemirror_mode": {
    "name": "ipython",
    "version": 3
   },
   "file_extension": ".py",
   "mimetype": "text/x-python",
   "name": "python",
   "nbconvert_exporter": "python",
   "pygments_lexer": "ipython3",
   "version": "3.10.8"
  }
 },
 "nbformat": 4,
 "nbformat_minor": 5
}
