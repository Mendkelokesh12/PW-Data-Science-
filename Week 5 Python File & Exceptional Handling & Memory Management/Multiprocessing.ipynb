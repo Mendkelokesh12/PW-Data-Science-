{
 "cells": [
  {
   "cell_type": "code",
   "execution_count": 1,
   "id": "a7f1db39-4bad-42cb-b027-5ad50f0b1be1",
   "metadata": {},
   "outputs": [
    {
     "name": "stdout",
     "output_type": "stream",
     "text": [
      "this is my msin prog\n",
      "this is my multiprocessing program\n"
     ]
    }
   ],
   "source": [
    "import multiprocessing\n",
    "def test():\n",
    "    print(\"this is my multiprocessing program\")\n",
    "if __name__ =='__main__':\n",
    "    m = multiprocessing.Process(target=test)\n",
    "    print(\"this is my msin prog\")\n",
    "    m.start()\n",
    "    m.join()\n",
    "    "
   ]
  },
  {
   "cell_type": "code",
   "execution_count": 2,
   "id": "96d24d98-dfb9-456e-be14-92012e8313e8",
   "metadata": {},
   "outputs": [
    {
     "name": "stdout",
     "output_type": "stream",
     "text": [
      "this is my multiprocessing program\n"
     ]
    }
   ],
   "source": [
    "test()"
   ]
  },
  {
   "cell_type": "code",
   "execution_count": 3,
   "id": "356f1566-969c-421b-b9ea-6cb6e13e4119",
   "metadata": {},
   "outputs": [
    {
     "name": "stdout",
     "output_type": "stream",
     "text": [
      "[1, 4, 9, 16, 25, 36, 49, 64, 81]\n"
     ]
    }
   ],
   "source": [
    "def square(n):\n",
    "    return n**2\n",
    "if __name__ =='__main__':\n",
    "    with multiprocessing.Pool(processes=4)as pool:\n",
    "        out = pool.map(square ,[1,2,3,4,5,6,7,8,9])\n",
    "        print(out)"
   ]
  },
  {
   "cell_type": "code",
   "execution_count": null,
   "id": "70d8ef1e-f9b2-4efe-b85e-208a450d070d",
   "metadata": {},
   "outputs": [
    {
     "name": "stdout",
     "output_type": "stream",
     "text": [
      "0\n",
      "1\n",
      "2\n",
      "3\n",
      "4\n",
      "5\n",
      "6\n",
      "7\n",
      "8\n",
      "9\n",
      "lokesh\n"
     ]
    }
   ],
   "source": [
    "import multiprocessing\n",
    "def producer(q):\n",
    "    for i in range(10):\n",
    "        q.put(i)\n",
    "\n",
    "def consume(q):\n",
    "    while True:\n",
    "        item  =q.get()\n",
    "        if item is None:\n",
    "            break\n",
    "        print(item)\n",
    "        \n",
    "if __name__ =='__main__':\n",
    "    queue =multiprocessing.Queue()\n",
    "    m1 = multiprocessing.Process(target=producer ,args=(queue,))\n",
    "    m2 = multiprocessing.Process(target=consume ,args=(queue,))\n",
    "    m1.start()\n",
    "    m2.start()\n",
    "    queue.put(\"lokesh\")\n",
    "    m1.join()\n",
    "    m2.join()\n",
    "\n",
    "            "
   ]
  },
  {
   "cell_type": "code",
   "execution_count": null,
   "id": "bc87094c-3c9f-46c1-8edc-67012fad8101",
   "metadata": {},
   "outputs": [],
   "source": [
    "import multiprocessing\n",
    "def producer(q):\n",
    "    for i in [\"Lokesh\",\"Mendek\",\"Aayush\"]:\n",
    "        q.put(i)\n",
    "\n",
    "def consume(q):\n",
    "    while True:\n",
    "        item  =q.get()\n",
    "        if item is None:\n",
    "            break\n",
    "        print(item)\n",
    "        \n",
    "if __name__ =='__main__':\n",
    "    queue =multiprocessing.Queue()\n",
    "    m1 = multiprocessing.Process(target=producer ,args=(queue,))\n",
    "    m2 = multiprocessing.Process(target=consume ,args=(queue,))\n",
    "    m1.start()\n",
    "    m2.start()\n",
    "    queue.put(\"lokesh\")\n",
    "    m1.join()\n",
    "    m2.join()\n",
    "\n",
    "            "
   ]
  },
  {
   "cell_type": "code",
   "execution_count": null,
   "id": "eae6f2c3-53d6-400f-bc18-62ad2afbe262",
   "metadata": {},
   "outputs": [],
   "source": [
    "import multiprocessing\n",
    "def square(index,value):\n",
    "    value[index] = value[index]**2\n",
    "    \n",
    "if __name__ =='__main__':\n",
    "    arr = multiprocessing.Array('i',[2,3,4,5,6,7,8])\n",
    "    process = []\n",
    "    for i in range(7):\n",
    "        m=multiprocessing.Process(target= square,args =(i,arr))\n",
    "        process.append(m)\n",
    "        m.start()\n",
    "    for m in process:\n",
    "        m.join()\n",
    "    print(list(arr))"
   ]
  },
  {
   "cell_type": "code",
   "execution_count": null,
   "id": "3f887ce0-a346-49d5-a5fd-f0c797b80617",
   "metadata": {},
   "outputs": [],
   "source": [
    "import multiprocessing\n",
    "def sender (conn,msg):\n",
    "    for i in msg:\n",
    "        conn.send(i)\n",
    "    conn.close()\n",
    "    \n",
    "    \n",
    "def recive(conn):\n",
    "    while True:\n",
    "        try:\n",
    "            msg = conn.recv()\n",
    "        except Exception as e:\n",
    "            print(e)\n",
    "            break\n",
    "        print(msg)\n",
    "\n",
    "if __name__ =='__main__' :\n",
    "    msg= [\"my name is Lokesh\",\"this is my msg to students\",\" i am taking classfor multiprocessing \"]\n",
    "    parent_con , child_con = multiprocessing.Pipe()\n",
    "    m1 =multiprocessing.Process(target=sender,args =(child_con,msg))\n",
    "    m2 =multiprocessing.Process(target=recive,args =(parent_con,))\n",
    "    m1.start()\n",
    "    m2.satrt()\n",
    "    m1.join()\n",
    "    child_con.close()\n",
    "    m2.join()\n",
    "    parent_con.close()"
   ]
  },
  {
   "cell_type": "code",
   "execution_count": null,
   "id": "3a60f7c9-c3f0-407b-bc56-a2359ff39bf3",
   "metadata": {},
   "outputs": [],
   "source": []
  }
 ],
 "metadata": {
  "kernelspec": {
   "display_name": "Python 3 (ipykernel)",
   "language": "python",
   "name": "python3"
  },
  "language_info": {
   "codemirror_mode": {
    "name": "ipython",
    "version": 3
   },
   "file_extension": ".py",
   "mimetype": "text/x-python",
   "name": "python",
   "nbconvert_exporter": "python",
   "pygments_lexer": "ipython3",
   "version": "3.10.8"
  }
 },
 "nbformat": 4,
 "nbformat_minor": 5
}
