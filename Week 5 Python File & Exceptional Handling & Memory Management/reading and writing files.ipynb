{
 "cells": [
  {
   "cell_type": "code",
   "execution_count": 1,
   "id": "d0404d27-12ff-45f9-a80c-3c2c51e93027",
   "metadata": {},
   "outputs": [],
   "source": [
    "data = {\n",
    "    \"Name\":\"Lokesh\",\n",
    "    \"Mail Id\":\"lokesh@gmail.com\",\n",
    "    \"Phone Number\": 935662815,\n",
    "    \"Subject\":[\"Data Science\",\"Big Data\",\"Data Analytics\"]\n",
    "\n",
    "}"
   ]
  },
  {
   "cell_type": "code",
   "execution_count": 2,
   "id": "dbfd711f-c2a7-4756-8d79-10d59da8aedd",
   "metadata": {},
   "outputs": [],
   "source": [
    "import json"
   ]
  },
  {
   "cell_type": "code",
   "execution_count": 3,
   "id": "58e6e98a-5f29-45d7-a383-5153991a1aaf",
   "metadata": {},
   "outputs": [],
   "source": [
    "with open(\"data.json\" ,'w') as f:\n",
    "    json.dump(data,f)"
   ]
  },
  {
   "cell_type": "code",
   "execution_count": 6,
   "id": "1b4a3b08-04ed-4699-af91-7c96d1da3d03",
   "metadata": {},
   "outputs": [],
   "source": [
    "with open('data.json','r')as f:\n",
    "     data1=  json.load(f)"
   ]
  },
  {
   "cell_type": "code",
   "execution_count": 7,
   "id": "845fa911-92d0-4724-8399-1ddc7249ed9d",
   "metadata": {},
   "outputs": [
    {
     "data": {
      "text/plain": [
       "{'Name': 'Lokesh',\n",
       " 'Mail Id': 'lokesh@gmail.com',\n",
       " 'Phone Number': 935662815,\n",
       " 'Subject': ['Data Science', 'Big Data', 'Data Analytics']}"
      ]
     },
     "execution_count": 7,
     "metadata": {},
     "output_type": "execute_result"
    }
   ],
   "source": [
    "data1"
   ]
  },
  {
   "cell_type": "code",
   "execution_count": 9,
   "id": "3a3b59a1-962e-4621-9be8-768e9fecc7d8",
   "metadata": {},
   "outputs": [
    {
     "data": {
      "text/plain": [
       "'Big Data'"
      ]
     },
     "execution_count": 9,
     "metadata": {},
     "output_type": "execute_result"
    }
   ],
   "source": [
    "data1[\"Subject\"][1]"
   ]
  },
  {
   "cell_type": "code",
   "execution_count": 10,
   "id": "f2d51aa1-f3f2-4e8a-b1de-2c4a19972177",
   "metadata": {},
   "outputs": [],
   "source": [
    "import csv\n",
    "data = [[\"Name \",\"Email Id\",\"Phone Number\"],\n",
    "       [\"Lokesh\",\"lokeshmendke\",9356628015],\n",
    "       [\"Mendke\",\"mendke@gmail.com\",9049939899] \n",
    "]"
   ]
  },
  {
   "cell_type": "code",
   "execution_count": 12,
   "id": "0b75d356-b795-406d-ab62-7f8ec2530afc",
   "metadata": {},
   "outputs": [],
   "source": [
    "with open (\"data.csv\",'w') as f:\n",
    "    writer = csv.writer(f)\n",
    "    \n",
    "    for i in data:\n",
    "        writer.writerow(i)"
   ]
  },
  {
   "cell_type": "code",
   "execution_count": 18,
   "id": "ca251356-8c8e-40bd-8d9d-9544a771bcaf",
   "metadata": {},
   "outputs": [
    {
     "name": "stdout",
     "output_type": "stream",
     "text": [
      "['Name ', 'Email Id', 'Phone Number']\n",
      "['Lokesh', 'lokeshmendke', '9356628015']\n",
      "['Mendke', 'mendke@gmail.com', '9049939899']\n"
     ]
    }
   ],
   "source": [
    "with open('data.csv' , 'r') as f:\n",
    "    reader = csv.reader(f)\n",
    "    \n",
    "    for i in reader:\n",
    "        print(i)"
   ]
  },
  {
   "cell_type": "code",
   "execution_count": 20,
   "id": "27b07ce0-d617-4026-810f-15ce38a64906",
   "metadata": {},
   "outputs": [],
   "source": [
    "with open('test3.bin', 'wb')as f:\n",
    "    f.write(b\"\\x01\\x02\\x03\\x3454235\")"
   ]
  },
  {
   "cell_type": "code",
   "execution_count": 22,
   "id": "83ee16ce-88e2-4b92-855e-caff5cff65f9",
   "metadata": {},
   "outputs": [
    {
     "name": "stdout",
     "output_type": "stream",
     "text": [
      "b'\\x01\\x02\\x03454235'\n"
     ]
    }
   ],
   "source": [
    "f = open (\"test3.bin\",'rb') \n",
    "print(f.read())"
   ]
  },
  {
   "cell_type": "code",
   "execution_count": null,
   "id": "bc1b97e3-b9d7-4346-8b35-3b652c9482a8",
   "metadata": {},
   "outputs": [],
   "source": []
  }
 ],
 "metadata": {
  "kernelspec": {
   "display_name": "Python 3 (ipykernel)",
   "language": "python",
   "name": "python3"
  },
  "language_info": {
   "codemirror_mode": {
    "name": "ipython",
    "version": 3
   },
   "file_extension": ".py",
   "mimetype": "text/x-python",
   "name": "python",
   "nbconvert_exporter": "python",
   "pygments_lexer": "ipython3",
   "version": "3.10.8"
  }
 },
 "nbformat": 4,
 "nbformat_minor": 5
}
