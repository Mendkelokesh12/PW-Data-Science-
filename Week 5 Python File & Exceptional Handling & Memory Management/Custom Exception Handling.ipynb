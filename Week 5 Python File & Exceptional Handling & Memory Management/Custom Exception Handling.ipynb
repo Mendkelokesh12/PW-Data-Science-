{
 "cells": [
  {
   "cell_type": "code",
   "execution_count": 1,
   "id": "fd9b640f-532c-4f7c-a9f3-b7e05da7f29e",
   "metadata": {},
   "outputs": [
    {
     "name": "stdin",
     "output_type": "stream",
     "text": [
      "Enter your age -3453\n"
     ]
    }
   ],
   "source": [
    "age = int(input(\"Enter your age\"))"
   ]
  },
  {
   "cell_type": "code",
   "execution_count": 2,
   "id": "f4dea1a0-4952-4dbd-95d3-8ad2394df477",
   "metadata": {},
   "outputs": [],
   "source": [
    "class validateage(Exception):\n",
    "    \n",
    "    def __init__(self,msg):\n",
    "        self.msg = msg\n",
    "        "
   ]
  },
  {
   "cell_type": "code",
   "execution_count": 9,
   "id": "105d1432-c57e-4394-bd3b-fdc89d9362d6",
   "metadata": {},
   "outputs": [],
   "source": [
    "def validaetage(age):\n",
    "    if age<0:\n",
    "        raise validateage(\"Entered age is Negative\")\n",
    "    elif age > 200:\n",
    "        raise validateage(\"Entered age is very high\")\n",
    "    else:\n",
    "        print(\"age is valid\")"
   ]
  },
  {
   "cell_type": "code",
   "execution_count": 10,
   "id": "93f5e060-93c5-4506-99f7-74629e6c22d7",
   "metadata": {},
   "outputs": [
    {
     "name": "stdin",
     "output_type": "stream",
     "text": [
      "Enter your age 566\n"
     ]
    },
    {
     "name": "stdout",
     "output_type": "stream",
     "text": [
      "Entered age is very high\n"
     ]
    }
   ],
   "source": [
    "try :\n",
    "    age = int(input(\"Enter your age\"))\n",
    "    validaetage(age)\n",
    "except validateage as e:\n",
    "    print(e)"
   ]
  },
  {
   "cell_type": "code",
   "execution_count": null,
   "id": "d9d9ef11-4239-4825-a37c-fa30efabfdf1",
   "metadata": {},
   "outputs": [],
   "source": []
  }
 ],
 "metadata": {
  "kernelspec": {
   "display_name": "Python 3 (ipykernel)",
   "language": "python",
   "name": "python3"
  },
  "language_info": {
   "codemirror_mode": {
    "name": "ipython",
    "version": 3
   },
   "file_extension": ".py",
   "mimetype": "text/x-python",
   "name": "python",
   "nbconvert_exporter": "python",
   "pygments_lexer": "ipython3",
   "version": "3.10.8"
  }
 },
 "nbformat": 4,
 "nbformat_minor": 5
}
