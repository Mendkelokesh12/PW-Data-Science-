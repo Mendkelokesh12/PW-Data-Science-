{
 "cells": [
  {
   "cell_type": "code",
   "execution_count": 1,
   "id": "7de5bd4e-571d-4b26-991c-bb58ad131cc7",
   "metadata": {},
   "outputs": [],
   "source": [
    " d = {}"
   ]
  },
  {
   "cell_type": "code",
   "execution_count": 2,
   "id": "f5cbc71a-37f1-4289-aafd-c4b6957fe6ca",
   "metadata": {},
   "outputs": [
    {
     "data": {
      "text/plain": [
       "dict"
      ]
     },
     "execution_count": 2,
     "metadata": {},
     "output_type": "execute_result"
    }
   ],
   "source": [
    "type(d)"
   ]
  },
  {
   "cell_type": "code",
   "execution_count": 3,
   "id": "0e507b09-e67b-43c3-beb0-fbdbe3732122",
   "metadata": {},
   "outputs": [],
   "source": [
    "d = {\n",
    "'Lokesh':'AD21035',\n",
    "'Kunal':'AD21053',\n",
    "'Kartik':'AD21069'\n",
    "}"
   ]
  },
  {
   "cell_type": "code",
   "execution_count": 4,
   "id": "d51ae273-6548-49e6-83bf-078d1613ed78",
   "metadata": {},
   "outputs": [],
   "source": [
    "d1 = {\n",
    "'Ayush':'AD21035',\n",
    "'Sahas':'AD21053',\n",
    "'Vaibhav':'AD21069'\n",
    "}"
   ]
  },
  {
   "cell_type": "code",
   "execution_count": 5,
   "id": "5be98e50-0b53-4a25-980c-de40ffeef5b6",
   "metadata": {},
   "outputs": [
    {
     "data": {
      "text/plain": [
       "{35: 'Lokesh', '_wer': 'Mendke', True: 24344}"
      ]
     },
     "execution_count": 5,
     "metadata": {},
     "output_type": "execute_result"
    }
   ],
   "source": [
    "d3 = {35 : 'Lokesh','_wer':\"Mendke\", True:24344}\n",
    "d3"
   ]
  },
  {
   "cell_type": "code",
   "execution_count": 6,
   "id": "63c0bc71-6edf-4ce6-8448-b9757f9ffa01",
   "metadata": {},
   "outputs": [
    {
     "data": {
      "text/plain": [
       "24344"
      ]
     },
     "execution_count": 6,
     "metadata": {},
     "output_type": "execute_result"
    }
   ],
   "source": [
    "d3[1]"
   ]
  },
  {
   "cell_type": "code",
   "execution_count": 7,
   "id": "e3b29ca9-bf09-4bf9-86b5-652eaaa63f6b",
   "metadata": {},
   "outputs": [
    {
     "data": {
      "text/plain": [
       "'Lokesh'"
      ]
     },
     "execution_count": 7,
     "metadata": {},
     "output_type": "execute_result"
    }
   ],
   "source": [
    "d3[35]"
   ]
  },
  {
   "cell_type": "code",
   "execution_count": 8,
   "id": "6123b31d-f3a2-4c2d-86ed-546ce39243c7",
   "metadata": {},
   "outputs": [],
   "source": [
    "d4 = {'Name':\"Lokesh\",\"Email\":\"lokeshmnedke2003@gmail.com\",\"Name\":\"LOkeshMendke\"}"
   ]
  },
  {
   "cell_type": "code",
   "execution_count": 9,
   "id": "43d6a7b0-4172-4a4a-9042-38ae0a8aec7f",
   "metadata": {},
   "outputs": [
    {
     "data": {
      "text/plain": [
       "'LOkeshMendke'"
      ]
     },
     "execution_count": 9,
     "metadata": {},
     "output_type": "execute_result"
    }
   ],
   "source": [
    "d4['Name']"
   ]
  },
  {
   "cell_type": "code",
   "execution_count": 10,
   "id": "403448ce-3010-45fe-b8dd-197ae33c5476",
   "metadata": {},
   "outputs": [],
   "source": [
    "d5 = {\"compny\":\"pwskills\",\"course\":[\"web dev\",\"data science\",\"java with dsa system design\"]}"
   ]
  },
  {
   "cell_type": "code",
   "execution_count": 11,
   "id": "5c1ce672-68d7-4c9b-95a2-5b485af3faf4",
   "metadata": {},
   "outputs": [
    {
     "data": {
      "text/plain": [
       "{'compny': 'pwskills',\n",
       " 'course': ['web dev', 'data science', 'java with dsa system design']}"
      ]
     },
     "execution_count": 11,
     "metadata": {},
     "output_type": "execute_result"
    }
   ],
   "source": [
    "d5"
   ]
  },
  {
   "cell_type": "code",
   "execution_count": 12,
   "id": "e5180e87-2c85-472b-a1ec-fbff6a02a266",
   "metadata": {},
   "outputs": [
    {
     "data": {
      "text/plain": [
       "'java with dsa system design'"
      ]
     },
     "execution_count": 12,
     "metadata": {},
     "output_type": "execute_result"
    }
   ],
   "source": [
    "d5[\"course\"][2]"
   ]
  },
  {
   "cell_type": "code",
   "execution_count": 13,
   "id": "f8ba41b1-1b9d-44fa-8ce2-4dd2eaff564e",
   "metadata": {},
   "outputs": [],
   "source": [
    "d6= {\"number\" : [2,3,45,3],\"assignment\":(1,2,3,4,5,6),\"launch_date\":{28,12,14},\"class_timing\":{\"web_dev\":8,\"data_science\":7,\"java_dsa\":9}}"
   ]
  },
  {
   "cell_type": "code",
   "execution_count": 14,
   "id": "0e27d9f0-44aa-4777-a144-713c405f83c3",
   "metadata": {},
   "outputs": [
    {
     "data": {
      "text/plain": [
       "{'number': [2, 3, 45, 3],\n",
       " 'assignment': (1, 2, 3, 4, 5, 6),\n",
       " 'launch_date': {12, 14, 28},\n",
       " 'class_timing': {'web_dev': 8, 'data_science': 7, 'java_dsa': 9}}"
      ]
     },
     "execution_count": 14,
     "metadata": {},
     "output_type": "execute_result"
    }
   ],
   "source": [
    "d6"
   ]
  },
  {
   "cell_type": "code",
   "execution_count": 15,
   "id": "4e0d64f7-a48a-45da-9c63-b50075776cbb",
   "metadata": {},
   "outputs": [
    {
     "data": {
      "text/plain": [
       "9"
      ]
     },
     "execution_count": 15,
     "metadata": {},
     "output_type": "execute_result"
    }
   ],
   "source": [
    "d6['class_timing'][\"java_dsa\"]"
   ]
  },
  {
   "cell_type": "code",
   "execution_count": 16,
   "id": "ecd125d4-a33e-473a-aac4-f77bf37d180a",
   "metadata": {},
   "outputs": [],
   "source": [
    "d6['Mentor'] = [\"sudhanshu\",\"krish\",\"anurag\",\"hayder\"]"
   ]
  },
  {
   "cell_type": "code",
   "execution_count": 17,
   "id": "e12344e5-fe53-4d1e-b8fe-182e5efbbd81",
   "metadata": {},
   "outputs": [
    {
     "data": {
      "text/plain": [
       "{'number': [2, 3, 45, 3],\n",
       " 'assignment': (1, 2, 3, 4, 5, 6),\n",
       " 'launch_date': {12, 14, 28},\n",
       " 'class_timing': {'web_dev': 8, 'data_science': 7, 'java_dsa': 9},\n",
       " 'Mentor': ['sudhanshu', 'krish', 'anurag', 'hayder']}"
      ]
     },
     "execution_count": 17,
     "metadata": {},
     "output_type": "execute_result"
    }
   ],
   "source": [
    "d6"
   ]
  },
  {
   "cell_type": "code",
   "execution_count": 18,
   "id": "20a95b0b-4744-4106-a0b5-c6ae69eb3c97",
   "metadata": {},
   "outputs": [],
   "source": [
    "del d6['number']"
   ]
  },
  {
   "cell_type": "code",
   "execution_count": 19,
   "id": "54d09fdc-ab02-49b7-bbd5-bf62d3c5231e",
   "metadata": {},
   "outputs": [
    {
     "data": {
      "text/plain": [
       "{'assignment': (1, 2, 3, 4, 5, 6),\n",
       " 'launch_date': {12, 14, 28},\n",
       " 'class_timing': {'web_dev': 8, 'data_science': 7, 'java_dsa': 9},\n",
       " 'Mentor': ['sudhanshu', 'krish', 'anurag', 'hayder']}"
      ]
     },
     "execution_count": 19,
     "metadata": {},
     "output_type": "execute_result"
    }
   ],
   "source": [
    "d6"
   ]
  },
  {
   "cell_type": "code",
   "execution_count": 20,
   "id": "b40e4662-fd42-479f-899d-ddd023891376",
   "metadata": {},
   "outputs": [
    {
     "data": {
      "text/plain": [
       "dict_keys(['assignment', 'launch_date', 'class_timing', 'Mentor'])"
      ]
     },
     "execution_count": 20,
     "metadata": {},
     "output_type": "execute_result"
    }
   ],
   "source": [
    "d6.keys()"
   ]
  },
  {
   "cell_type": "code",
   "execution_count": 21,
   "id": "93e5baa2-3977-4aba-a50a-f21d8e3aae34",
   "metadata": {},
   "outputs": [
    {
     "data": {
      "text/plain": [
       "['assignment', 'launch_date', 'class_timing', 'Mentor']"
      ]
     },
     "execution_count": 21,
     "metadata": {},
     "output_type": "execute_result"
    }
   ],
   "source": [
    "list(d6.keys())"
   ]
  },
  {
   "cell_type": "code",
   "execution_count": 22,
   "id": "46c33061-b68b-47bd-b8a2-53cd628b5e5f",
   "metadata": {},
   "outputs": [
    {
     "data": {
      "text/plain": [
       "[(1, 2, 3, 4, 5, 6),\n",
       " {12, 14, 28},\n",
       " {'web_dev': 8, 'data_science': 7, 'java_dsa': 9},\n",
       " ['sudhanshu', 'krish', 'anurag', 'hayder']]"
      ]
     },
     "execution_count": 22,
     "metadata": {},
     "output_type": "execute_result"
    }
   ],
   "source": [
    "list(d6.values())"
   ]
  },
  {
   "cell_type": "code",
   "execution_count": 23,
   "id": "16ccefd2-8457-4870-a97a-d4cfc9eab67e",
   "metadata": {},
   "outputs": [
    {
     "data": {
      "text/plain": [
       "dict_items([('assignment', (1, 2, 3, 4, 5, 6)), ('launch_date', {28, 12, 14}), ('class_timing', {'web_dev': 8, 'data_science': 7, 'java_dsa': 9}), ('Mentor', ['sudhanshu', 'krish', 'anurag', 'hayder'])])"
      ]
     },
     "execution_count": 23,
     "metadata": {},
     "output_type": "execute_result"
    }
   ],
   "source": [
    "d6.items()"
   ]
  },
  {
   "cell_type": "code",
   "execution_count": 24,
   "id": "62c31f9c-a6f4-425b-bbaf-9535aefcd5f8",
   "metadata": {},
   "outputs": [
    {
     "data": {
      "text/plain": [
       "[('assignment', (1, 2, 3, 4, 5, 6)),\n",
       " ('launch_date', {12, 14, 28}),\n",
       " ('class_timing', {'web_dev': 8, 'data_science': 7, 'java_dsa': 9}),\n",
       " ('Mentor', ['sudhanshu', 'krish', 'anurag', 'hayder'])]"
      ]
     },
     "execution_count": 24,
     "metadata": {},
     "output_type": "execute_result"
    }
   ],
   "source": [
    "list(d6.items())"
   ]
  },
  {
   "cell_type": "code",
   "execution_count": 25,
   "id": "36307c5c-d3a9-41de-801d-13a1e93a9444",
   "metadata": {},
   "outputs": [
    {
     "data": {
      "text/plain": [
       "(1, 2, 3, 4, 5, 6)"
      ]
     },
     "execution_count": 25,
     "metadata": {},
     "output_type": "execute_result"
    }
   ],
   "source": [
    "d6.pop('assignment')"
   ]
  },
  {
   "cell_type": "code",
   "execution_count": 26,
   "id": "9dac3497-1b90-4dfa-9c27-079e74fdd303",
   "metadata": {},
   "outputs": [
    {
     "data": {
      "text/plain": [
       "{'launch_date': {12, 14, 28},\n",
       " 'class_timing': {'web_dev': 8, 'data_science': 7, 'java_dsa': 9},\n",
       " 'Mentor': ['sudhanshu', 'krish', 'anurag', 'hayder']}"
      ]
     },
     "execution_count": 26,
     "metadata": {},
     "output_type": "execute_result"
    }
   ],
   "source": [
    "d6"
   ]
  },
  {
   "cell_type": "code",
   "execution_count": 27,
   "id": "5188eaa4-b017-42be-a83e-264f83165196",
   "metadata": {},
   "outputs": [
    {
     "ename": "TypeError",
     "evalue": "pop expected at least 1 argument, got 0",
     "output_type": "error",
     "traceback": [
      "\u001b[0;31m---------------------------------------------------------------------------\u001b[0m",
      "\u001b[0;31mTypeError\u001b[0m                                 Traceback (most recent call last)",
      "Cell \u001b[0;32mIn[27], line 1\u001b[0m\n\u001b[0;32m----> 1\u001b[0m \u001b[43md6\u001b[49m\u001b[38;5;241;43m.\u001b[39;49m\u001b[43mpop\u001b[49m\u001b[43m(\u001b[49m\u001b[43m)\u001b[49m\n",
      "\u001b[0;31mTypeError\u001b[0m: pop expected at least 1 argument, got 0"
     ]
    }
   ],
   "source": [
    "d6.pop()"
   ]
  },
  {
   "cell_type": "code",
   "execution_count": 28,
   "id": "09d82c40-029d-4eac-840d-a4262e4ac4e8",
   "metadata": {},
   "outputs": [
    {
     "name": "stdin",
     "output_type": "stream",
     "text": [
      "Enter the marks  99\n"
     ]
    },
    {
     "name": "stdout",
     "output_type": "stream",
     "text": [
      "You will the part of A0 Batch\n"
     ]
    }
   ],
   "source": [
    "marks =int(input(\"Enter the marks \"))\n",
    "if marks >= 80:\n",
    "    print(\"You will the part of A0 Batch\")\n",
    "elif marks >= 60  and  marks < 80 :\n",
    "    print(\"You will the part of A1 Batch\")\n",
    "elif marks >= 40  and  marks < 60 :\n",
    "    print(\"You will the part of A2 Batch\")\n",
    "else :\n",
    "    print(\"You will the part of A3 Batch\")"
   ]
  },
  {
   "cell_type": "code",
   "execution_count": 29,
   "id": "36463161-48b9-4005-bab3-fc4184e7b8f7",
   "metadata": {},
   "outputs": [
    {
     "name": "stdout",
     "output_type": "stream",
     "text": [
      "[0, 1, 2, 3, 4, 5, 6, 7, 8, 9, 10, 11, 12, 13, 14, 15, 16, 17, 18, 19, 20, 21, 22, 23, 24, 25, 26, 27, 28, 29, 30, 31, 32, 33, 34, 35, 36, 37, 38, 39, 40, 41, 42, 43, 44, 45, 46, 47, 48, 49, 50, 51, 52, 53, 54, 55, 56, 57, 58, 59, 60, 61, 62, 63, 64, 65, 66, 67, 68, 69, 70, 71, 72, 73, 74, 75, 76, 77, 78, 79, 80, 81, 82, 83, 84, 85, 86, 87, 88, 89, 90, 91, 92, 93, 94, 95, 96, 97, 98, 99, 100]\n",
      "[0, 2, 4, 6, 8, 10, 12, 14, 16, 18, 20, 22, 24, 26, 28, 30, 32, 34, 36, 38, 40, 42, 44, 46, 48, 50, 52, 54, 56, 58, 60, 62, 64, 66, 68, 70, 72, 74, 76, 78, 80, 82, 84, 86, 88, 90, 92, 94, 96, 98, 100]\n",
      "[1, 3, 5, 7, 9, 11, 13, 15, 17, 19, 21, 23, 25, 27, 29, 31, 33, 35, 37, 39, 41, 43, 45, 47, 49, 51, 53, 55, 57, 59, 61, 63, 65, 67, 69, 71, 73, 75, 77, 79, 81, 83, 85, 87, 89, 91, 93, 95, 97, 99]\n"
     ]
    }
   ],
   "source": [
    "l=[]\n",
    "even_l=[]\n",
    "odd_l=[]\n",
    "for i in range(101):\n",
    "    l.append(i)\n",
    "    if i % 2 == 0:\n",
    "        even_l.append(i)\n",
    "    else :\n",
    "        odd_l.append(i)\n",
    "print(l)\n",
    "print(even_l)\n",
    "print(odd_l)\n",
    "    "
   ]
  },
  {
   "cell_type": "code",
   "execution_count": 30,
   "id": "351212fd-4a7b-42cd-a4c7-9374f3819a28",
   "metadata": {},
   "outputs": [],
   "source": [
    "li=[]"
   ]
  },
  {
   "cell_type": "code",
   "execution_count": 31,
   "id": "e282783b-8690-416a-86b7-ebef9a7097b6",
   "metadata": {},
   "outputs": [
    {
     "data": {
      "text/plain": [
       "1"
      ]
     },
     "execution_count": 31,
     "metadata": {},
     "output_type": "execute_result"
    }
   ],
   "source": [
    "l[0]+1"
   ]
  },
  {
   "cell_type": "code",
   "execution_count": 32,
   "id": "83dce164-26db-419b-98e4-d92e611f31f9",
   "metadata": {},
   "outputs": [],
   "source": [
    "li.append(l[0]+1)"
   ]
  },
  {
   "cell_type": "code",
   "execution_count": 33,
   "id": "f08442d9-0244-4c6d-8015-71785cc20877",
   "metadata": {},
   "outputs": [
    {
     "data": {
      "text/plain": [
       "[1]"
      ]
     },
     "execution_count": 33,
     "metadata": {},
     "output_type": "execute_result"
    }
   ],
   "source": [
    "li"
   ]
  },
  {
   "cell_type": "code",
   "execution_count": 34,
   "id": "7338f196-f8af-4e88-933b-e92201c8ded7",
   "metadata": {},
   "outputs": [
    {
     "name": "stdout",
     "output_type": "stream",
     "text": [
      "0\n",
      "1\n",
      "2\n",
      "3\n",
      "4\n",
      "5\n",
      "6\n",
      "7\n",
      "8\n",
      "9\n",
      "10\n",
      "11\n",
      "12\n",
      "13\n",
      "14\n",
      "15\n",
      "16\n",
      "17\n",
      "18\n",
      "19\n",
      "20\n",
      "21\n",
      "22\n",
      "23\n",
      "24\n",
      "25\n",
      "26\n",
      "27\n",
      "28\n",
      "29\n",
      "30\n",
      "31\n",
      "32\n",
      "33\n",
      "34\n",
      "35\n",
      "36\n",
      "37\n",
      "38\n",
      "39\n",
      "40\n",
      "41\n",
      "42\n",
      "43\n",
      "44\n",
      "45\n",
      "46\n",
      "47\n",
      "48\n",
      "49\n",
      "50\n",
      "51\n",
      "52\n",
      "53\n",
      "54\n",
      "55\n",
      "56\n",
      "57\n",
      "58\n",
      "59\n",
      "60\n",
      "61\n",
      "62\n",
      "63\n",
      "64\n",
      "65\n",
      "66\n",
      "67\n",
      "68\n",
      "69\n",
      "70\n",
      "71\n",
      "72\n",
      "73\n",
      "74\n",
      "75\n",
      "76\n",
      "77\n",
      "78\n",
      "79\n",
      "80\n",
      "81\n",
      "82\n",
      "83\n",
      "84\n",
      "85\n",
      "86\n",
      "87\n",
      "88\n",
      "89\n",
      "90\n",
      "91\n",
      "92\n",
      "93\n",
      "94\n",
      "95\n",
      "96\n",
      "97\n",
      "98\n",
      "99\n",
      "100\n"
     ]
    }
   ],
   "source": [
    "for i in l:\n",
    "    print(i)"
   ]
  },
  {
   "cell_type": "code",
   "execution_count": 36,
   "id": "c5df86aa-ead2-4efc-b9e9-83d221b8b568",
   "metadata": {},
   "outputs": [
    {
     "name": "stdout",
     "output_type": "stream",
     "text": [
      "1\n",
      "2\n",
      "3\n",
      "4\n",
      "5\n",
      "6\n",
      "7\n",
      "8\n",
      "9\n",
      "10\n",
      "11\n",
      "12\n",
      "13\n",
      "14\n",
      "15\n",
      "16\n",
      "17\n",
      "18\n",
      "19\n",
      "20\n",
      "21\n",
      "22\n",
      "23\n",
      "24\n",
      "25\n",
      "26\n",
      "27\n",
      "28\n",
      "29\n",
      "30\n",
      "31\n",
      "32\n",
      "33\n",
      "34\n",
      "35\n",
      "36\n",
      "37\n",
      "38\n",
      "39\n",
      "40\n",
      "41\n",
      "42\n",
      "43\n",
      "44\n",
      "45\n",
      "46\n",
      "47\n",
      "48\n",
      "49\n",
      "50\n",
      "51\n",
      "52\n",
      "53\n",
      "54\n",
      "55\n",
      "56\n",
      "57\n",
      "58\n",
      "59\n",
      "60\n",
      "61\n",
      "62\n",
      "63\n",
      "64\n",
      "65\n",
      "66\n",
      "67\n",
      "68\n",
      "69\n",
      "70\n",
      "71\n",
      "72\n",
      "73\n",
      "74\n",
      "75\n",
      "76\n",
      "77\n",
      "78\n",
      "79\n",
      "80\n",
      "81\n",
      "82\n",
      "83\n",
      "84\n",
      "85\n",
      "86\n",
      "87\n",
      "88\n",
      "89\n",
      "90\n",
      "91\n",
      "92\n",
      "93\n",
      "94\n",
      "95\n",
      "96\n",
      "97\n",
      "98\n",
      "99\n",
      "100\n",
      "101\n"
     ]
    }
   ],
   "source": [
    "l1=[]\n",
    "for i in l:\n",
    "    print(i+1)\n",
    "    l1.append(i+1)"
   ]
  },
  {
   "cell_type": "code",
   "execution_count": 37,
   "id": "0f2734fd-f9d7-424e-b11e-cc5fddf3d41d",
   "metadata": {},
   "outputs": [
    {
     "data": {
      "text/plain": [
       "[1,\n",
       " 2,\n",
       " 3,\n",
       " 4,\n",
       " 5,\n",
       " 6,\n",
       " 7,\n",
       " 8,\n",
       " 9,\n",
       " 10,\n",
       " 11,\n",
       " 12,\n",
       " 13,\n",
       " 14,\n",
       " 15,\n",
       " 16,\n",
       " 17,\n",
       " 18,\n",
       " 19,\n",
       " 20,\n",
       " 21,\n",
       " 22,\n",
       " 23,\n",
       " 24,\n",
       " 25,\n",
       " 26,\n",
       " 27,\n",
       " 28,\n",
       " 29,\n",
       " 30,\n",
       " 31,\n",
       " 32,\n",
       " 33,\n",
       " 34,\n",
       " 35,\n",
       " 36,\n",
       " 37,\n",
       " 38,\n",
       " 39,\n",
       " 40,\n",
       " 41,\n",
       " 42,\n",
       " 43,\n",
       " 44,\n",
       " 45,\n",
       " 46,\n",
       " 47,\n",
       " 48,\n",
       " 49,\n",
       " 50,\n",
       " 51,\n",
       " 52,\n",
       " 53,\n",
       " 54,\n",
       " 55,\n",
       " 56,\n",
       " 57,\n",
       " 58,\n",
       " 59,\n",
       " 60,\n",
       " 61,\n",
       " 62,\n",
       " 63,\n",
       " 64,\n",
       " 65,\n",
       " 66,\n",
       " 67,\n",
       " 68,\n",
       " 69,\n",
       " 70,\n",
       " 71,\n",
       " 72,\n",
       " 73,\n",
       " 74,\n",
       " 75,\n",
       " 76,\n",
       " 77,\n",
       " 78,\n",
       " 79,\n",
       " 80,\n",
       " 81,\n",
       " 82,\n",
       " 83,\n",
       " 84,\n",
       " 85,\n",
       " 86,\n",
       " 87,\n",
       " 88,\n",
       " 89,\n",
       " 90,\n",
       " 91,\n",
       " 92,\n",
       " 93,\n",
       " 94,\n",
       " 95,\n",
       " 96,\n",
       " 97,\n",
       " 98,\n",
       " 99,\n",
       " 100,\n",
       " 101]"
      ]
     },
     "execution_count": 37,
     "metadata": {},
     "output_type": "execute_result"
    }
   ],
   "source": [
    "l1"
   ]
  },
  {
   "cell_type": "code",
   "execution_count": 43,
   "id": "c0b2afe9-be23-4d7b-8cb7-ffb536e3a659",
   "metadata": {},
   "outputs": [
    {
     "name": "stdout",
     "output_type": "stream",
     "text": [
      "lokesh\n",
      "mendke\n",
      "ayush\n",
      "sahas\n"
     ]
    }
   ],
   "source": [
    "l = [\"lokesh\",\"mendke\",\"ayush\",\"sahas\"]\n",
    "l2=[]\n",
    "for i in l:\n",
    "    print(i)\n",
    "    l2.append(i.upper())"
   ]
  },
  {
   "cell_type": "code",
   "execution_count": 44,
   "id": "ccdf2bce-d945-41df-9a00-ae05cb1d3543",
   "metadata": {},
   "outputs": [
    {
     "data": {
      "text/plain": [
       "['LOKESH', 'MENDKE', 'AYUSH', 'SAHAS']"
      ]
     },
     "execution_count": 44,
     "metadata": {},
     "output_type": "execute_result"
    }
   ],
   "source": [
    "l2"
   ]
  },
  {
   "cell_type": "code",
   "execution_count": 45,
   "id": "3d56a0ca-2612-4141-aa4f-3d5113668cee",
   "metadata": {},
   "outputs": [],
   "source": [
    "l = [1,2,3,4,4,\"lokesh\",\"mendke\",324.5,55.2,\"abc\"]"
   ]
  },
  {
   "cell_type": "code",
   "execution_count": 50,
   "id": "42e1e3d5-c422-4ce5-a76a-f3fccf6b0ea8",
   "metadata": {},
   "outputs": [],
   "source": [
    "l1_num=[]\n",
    "l2_str=[]\n",
    "for i in l :\n",
    "    if type(i)== int or type(i)==float:\n",
    "        l1_num.append(i)\n",
    "    else:\n",
    "        l2_str.append(i)"
   ]
  },
  {
   "cell_type": "code",
   "execution_count": 51,
   "id": "d9d0203b-7c82-4f06-b32b-3c4a8013904a",
   "metadata": {},
   "outputs": [
    {
     "data": {
      "text/plain": [
       "[1, 2, 3, 4, 4, 324.5, 55.2]"
      ]
     },
     "execution_count": 51,
     "metadata": {},
     "output_type": "execute_result"
    }
   ],
   "source": [
    "l1_num"
   ]
  },
  {
   "cell_type": "code",
   "execution_count": 52,
   "id": "6ccb2155-39ec-48f1-a78f-8b02aac76b05",
   "metadata": {},
   "outputs": [
    {
     "data": {
      "text/plain": [
       "['lokesh', 'mendke', 'abc']"
      ]
     },
     "execution_count": 52,
     "metadata": {},
     "output_type": "execute_result"
    }
   ],
   "source": [
    "l2_str"
   ]
  },
  {
   "cell_type": "code",
   "execution_count": null,
   "id": "aece76e6-ade4-43e4-bbea-1723a7974d2b",
   "metadata": {},
   "outputs": [],
   "source": []
  }
 ],
 "metadata": {
  "kernelspec": {
   "display_name": "Python 3 (ipykernel)",
   "language": "python",
   "name": "python3"
  },
  "language_info": {
   "codemirror_mode": {
    "name": "ipython",
    "version": 3
   },
   "file_extension": ".py",
   "mimetype": "text/x-python",
   "name": "python",
   "nbconvert_exporter": "python",
   "pygments_lexer": "ipython3",
   "version": "3.10.8"
  }
 },
 "nbformat": 4,
 "nbformat_minor": 5
}
