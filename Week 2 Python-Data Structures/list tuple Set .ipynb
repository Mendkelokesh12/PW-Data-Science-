{
 "cells": [
  {
   "cell_type": "code",
   "execution_count": 1,
   "id": "b80833dd-a0f7-40c1-841d-de58cb7e37ef",
   "metadata": {},
   "outputs": [],
   "source": [
    "l=[2,35,77,\"Lokesh\",True,5+7j,345.456]\n"
   ]
  },
  {
   "cell_type": "code",
   "execution_count": 2,
   "id": "60480b1f-5d72-4ed4-91cf-aa5474cedc08",
   "metadata": {},
   "outputs": [
    {
     "data": {
      "text/plain": [
       "int"
      ]
     },
     "execution_count": 2,
     "metadata": {},
     "output_type": "execute_result"
    }
   ],
   "source": [
    "type(1)"
   ]
  },
  {
   "cell_type": "code",
   "execution_count": 3,
   "id": "5440879e-2466-4edb-8a4e-0f7e1c7603a7",
   "metadata": {},
   "outputs": [
    {
     "data": {
      "text/plain": [
       "'Lokesh'"
      ]
     },
     "execution_count": 3,
     "metadata": {},
     "output_type": "execute_result"
    }
   ],
   "source": [
    "l[3]"
   ]
  },
  {
   "cell_type": "code",
   "execution_count": 4,
   "id": "c7fff64b-9871-49b0-8b3c-c9dcef177efd",
   "metadata": {},
   "outputs": [
    {
     "data": {
      "text/plain": [
       "[2, 35, 77, 'Lokesh', True, (5+7j), 345.456]"
      ]
     },
     "execution_count": 4,
     "metadata": {},
     "output_type": "execute_result"
    }
   ],
   "source": [
    "l"
   ]
  },
  {
   "cell_type": "code",
   "execution_count": 5,
   "id": "301568dc-7a91-4916-9ec6-448dd61869d2",
   "metadata": {},
   "outputs": [
    {
     "data": {
      "text/plain": [
       "[2, 35, 77]"
      ]
     },
     "execution_count": 5,
     "metadata": {},
     "output_type": "execute_result"
    }
   ],
   "source": [
    "l[0:3]"
   ]
  },
  {
   "cell_type": "code",
   "execution_count": 6,
   "id": "6560d9a8-b72f-490d-b9f3-fe9803d6f00f",
   "metadata": {},
   "outputs": [
    {
     "data": {
      "text/plain": [
       "[345.456]"
      ]
     },
     "execution_count": 6,
     "metadata": {},
     "output_type": "execute_result"
    }
   ],
   "source": [
    "l[-1:]"
   ]
  },
  {
   "cell_type": "code",
   "execution_count": 7,
   "id": "b849b23a-1a43-4725-a1f0-28c8c8db0404",
   "metadata": {},
   "outputs": [
    {
     "data": {
      "text/plain": [
       "[345.456, (5+7j), True, 'Lokesh', 77, 35, 2]"
      ]
     },
     "execution_count": 7,
     "metadata": {},
     "output_type": "execute_result"
    }
   ],
   "source": [
    "l[::-1]"
   ]
  },
  {
   "cell_type": "code",
   "execution_count": 8,
   "id": "caf3fd3d-da34-4d84-b398-bbbe137b0145",
   "metadata": {},
   "outputs": [
    {
     "data": {
      "text/plain": [
       "[2, 77, True, 345.456]"
      ]
     },
     "execution_count": 8,
     "metadata": {},
     "output_type": "execute_result"
    }
   ],
   "source": [
    "l[0:60:2]"
   ]
  },
  {
   "cell_type": "code",
   "execution_count": 9,
   "id": "9119680f-ca5e-45c7-b2be-0dc4757eb255",
   "metadata": {},
   "outputs": [],
   "source": [
    "a = \"pwskills\""
   ]
  },
  {
   "cell_type": "code",
   "execution_count": 10,
   "id": "e2b7d77f-28c4-4272-817f-cce3dd3ba2b3",
   "metadata": {},
   "outputs": [
    {
     "ename": "TypeError",
     "evalue": "can only concatenate list (not \"str\") to list",
     "output_type": "error",
     "traceback": [
      "\u001b[0;31m---------------------------------------------------------------------------\u001b[0m",
      "\u001b[0;31mTypeError\u001b[0m                                 Traceback (most recent call last)",
      "Cell \u001b[0;32mIn[10], line 1\u001b[0m\n\u001b[0;32m----> 1\u001b[0m \u001b[43ml\u001b[49m\u001b[38;5;241;43m+\u001b[39;49m\u001b[43ma\u001b[49m\n",
      "\u001b[0;31mTypeError\u001b[0m: can only concatenate list (not \"str\") to list"
     ]
    }
   ],
   "source": [
    "l+a"
   ]
  },
  {
   "cell_type": "code",
   "execution_count": 11,
   "id": "67868f61-c883-466b-801d-946955e81093",
   "metadata": {},
   "outputs": [
    {
     "data": {
      "text/plain": [
       "['p', 'w', 's', 'k', 'i', 'l', 'l', 's']"
      ]
     },
     "execution_count": 11,
     "metadata": {},
     "output_type": "execute_result"
    }
   ],
   "source": [
    "list(a)"
   ]
  },
  {
   "cell_type": "code",
   "execution_count": 12,
   "id": "35303b89-166c-4f0c-9022-23c7c8f20e8b",
   "metadata": {},
   "outputs": [
    {
     "data": {
      "text/plain": [
       "['p',\n",
       " 'w',\n",
       " 's',\n",
       " 'k',\n",
       " 'i',\n",
       " 'l',\n",
       " 'l',\n",
       " 's',\n",
       " 2,\n",
       " 35,\n",
       " 77,\n",
       " 'Lokesh',\n",
       " True,\n",
       " (5+7j),\n",
       " 345.456]"
      ]
     },
     "execution_count": 12,
     "metadata": {},
     "output_type": "execute_result"
    }
   ],
   "source": [
    "list(a)+l"
   ]
  },
  {
   "cell_type": "code",
   "execution_count": 13,
   "id": "7123bc21-3621-454a-b78b-1ca86ff678a6",
   "metadata": {},
   "outputs": [
    {
     "data": {
      "text/plain": [
       "str"
      ]
     },
     "execution_count": 13,
     "metadata": {},
     "output_type": "execute_result"
    }
   ],
   "source": [
    "type(l[3])"
   ]
  },
  {
   "cell_type": "code",
   "execution_count": 14,
   "id": "b99c01fc-ae47-44f0-99bc-8ae064d56619",
   "metadata": {},
   "outputs": [
    {
     "data": {
      "text/plain": [
       "'Lokesh'"
      ]
     },
     "execution_count": 14,
     "metadata": {},
     "output_type": "execute_result"
    }
   ],
   "source": [
    "l[3]"
   ]
  },
  {
   "cell_type": "code",
   "execution_count": 15,
   "id": "8dca05bb-0bfd-4e04-834c-f0d056cb1335",
   "metadata": {},
   "outputs": [
    {
     "data": {
      "text/plain": [
       "'Lok'"
      ]
     },
     "execution_count": 15,
     "metadata": {},
     "output_type": "execute_result"
    }
   ],
   "source": [
    "l[3][0:3]"
   ]
  },
  {
   "cell_type": "code",
   "execution_count": 16,
   "id": "2cd2409f-1865-434f-8b31-ad013603a9b1",
   "metadata": {},
   "outputs": [
    {
     "data": {
      "text/plain": [
       "'Tru'"
      ]
     },
     "execution_count": 16,
     "metadata": {},
     "output_type": "execute_result"
    }
   ],
   "source": [
    "str(l[4])[0:3]"
   ]
  },
  {
   "cell_type": "code",
   "execution_count": 17,
   "id": "74a48341-b8f2-4c2a-95c6-c6a83c545df7",
   "metadata": {},
   "outputs": [],
   "source": [
    "l.append(5)"
   ]
  },
  {
   "cell_type": "code",
   "execution_count": 18,
   "id": "19530aff-2685-4367-b2af-217ff8ef5237",
   "metadata": {},
   "outputs": [
    {
     "data": {
      "text/plain": [
       "[2, 35, 77, 'Lokesh', True, (5+7j), 345.456, 5]"
      ]
     },
     "execution_count": 18,
     "metadata": {},
     "output_type": "execute_result"
    }
   ],
   "source": [
    "l"
   ]
  },
  {
   "cell_type": "code",
   "execution_count": 19,
   "id": "c0112366-0ecb-4148-8257-8047d93ce702",
   "metadata": {},
   "outputs": [],
   "source": [
    "l1 = [3,4,5]"
   ]
  },
  {
   "cell_type": "code",
   "execution_count": 20,
   "id": "40f68051-e79f-4a85-a312-41501650b22c",
   "metadata": {},
   "outputs": [
    {
     "data": {
      "text/plain": [
       "list"
      ]
     },
     "execution_count": 20,
     "metadata": {},
     "output_type": "execute_result"
    }
   ],
   "source": [
    "type(l1)"
   ]
  },
  {
   "cell_type": "code",
   "execution_count": 21,
   "id": "9f06ffec-e515-430f-8cad-fe99bb9e1704",
   "metadata": {},
   "outputs": [
    {
     "data": {
      "text/plain": [
       "[2, 35, 77, 'Lokesh', True, (5+7j), 345.456, 5, 3, 4, 5]"
      ]
     },
     "execution_count": 21,
     "metadata": {},
     "output_type": "execute_result"
    }
   ],
   "source": [
    "l + l1"
   ]
  },
  {
   "cell_type": "code",
   "execution_count": 22,
   "id": "541e83c6-816c-4985-81ab-25cce537a1d2",
   "metadata": {},
   "outputs": [
    {
     "data": {
      "text/plain": [
       "[3, 4, 5, 3, 4, 5, 3, 4, 5]"
      ]
     },
     "execution_count": 22,
     "metadata": {},
     "output_type": "execute_result"
    }
   ],
   "source": [
    "l1 * 3"
   ]
  },
  {
   "cell_type": "code",
   "execution_count": 23,
   "id": "86afa269-4ace-4a9f-8b6b-e02bea46e0bc",
   "metadata": {},
   "outputs": [
    {
     "data": {
      "text/plain": [
       "[2, 35, 77, 'Lokesh', True, (5+7j), 345.456, 5]"
      ]
     },
     "execution_count": 23,
     "metadata": {},
     "output_type": "execute_result"
    }
   ],
   "source": [
    "l"
   ]
  },
  {
   "cell_type": "code",
   "execution_count": 24,
   "id": "c0689154-9ab8-4667-9662-4e45bae479cf",
   "metadata": {},
   "outputs": [
    {
     "data": {
      "text/plain": [
       "8"
      ]
     },
     "execution_count": 24,
     "metadata": {},
     "output_type": "execute_result"
    }
   ],
   "source": [
    "len(l)"
   ]
  },
  {
   "cell_type": "code",
   "execution_count": 25,
   "id": "b01cb45b-9d67-4b43-aede-daeffe7aac36",
   "metadata": {},
   "outputs": [
    {
     "data": {
      "text/plain": [
       "(5+7j)"
      ]
     },
     "execution_count": 25,
     "metadata": {},
     "output_type": "execute_result"
    }
   ],
   "source": [
    "l.pop(5)"
   ]
  },
  {
   "cell_type": "code",
   "execution_count": 26,
   "id": "e629cd3f-bc32-49c5-b353-a06a724a903a",
   "metadata": {},
   "outputs": [
    {
     "data": {
      "text/plain": [
       "[2, 35, 77, 'Lokesh', True, 345.456, 5]"
      ]
     },
     "execution_count": 26,
     "metadata": {},
     "output_type": "execute_result"
    }
   ],
   "source": [
    "l"
   ]
  },
  {
   "cell_type": "code",
   "execution_count": 27,
   "id": "ba56162e-2b76-440d-9c73-795a5c20bd6a",
   "metadata": {},
   "outputs": [
    {
     "data": {
      "text/plain": [
       "[3, 4, 5]"
      ]
     },
     "execution_count": 27,
     "metadata": {},
     "output_type": "execute_result"
    }
   ],
   "source": [
    "l1"
   ]
  },
  {
   "cell_type": "code",
   "execution_count": 28,
   "id": "06f7e09f-b465-45ac-8f64-ffd0394cc365",
   "metadata": {},
   "outputs": [],
   "source": [
    "l1.append(l)"
   ]
  },
  {
   "cell_type": "code",
   "execution_count": 29,
   "id": "4aa193c3-a535-4c60-844a-2f3fd842fdd1",
   "metadata": {},
   "outputs": [
    {
     "data": {
      "text/plain": [
       "[3, 4, 5, [2, 35, 77, 'Lokesh', True, 345.456, 5]]"
      ]
     },
     "execution_count": 29,
     "metadata": {},
     "output_type": "execute_result"
    }
   ],
   "source": [
    "l1"
   ]
  },
  {
   "cell_type": "code",
   "execution_count": 30,
   "id": "5149f859-a7ad-4a0f-85ae-3e6496fa29cf",
   "metadata": {},
   "outputs": [],
   "source": [
    "l.append(l1)"
   ]
  },
  {
   "cell_type": "code",
   "execution_count": 31,
   "id": "cdf2b1d9-32ad-476e-9912-611d4250cf2c",
   "metadata": {},
   "outputs": [
    {
     "data": {
      "text/plain": [
       "[2, 35, 77, 'Lokesh', True, 345.456, 5, [3, 4, 5, [...]]]"
      ]
     },
     "execution_count": 31,
     "metadata": {},
     "output_type": "execute_result"
    }
   ],
   "source": [
    "l"
   ]
  },
  {
   "cell_type": "code",
   "execution_count": 32,
   "id": "67d8dd08-4564-4032-9aa9-eed456a32c93",
   "metadata": {},
   "outputs": [
    {
     "ename": "IndexError",
     "evalue": "pop index out of range",
     "output_type": "error",
     "traceback": [
      "\u001b[0;31m---------------------------------------------------------------------------\u001b[0m",
      "\u001b[0;31mIndexError\u001b[0m                                Traceback (most recent call last)",
      "Cell \u001b[0;32mIn[32], line 1\u001b[0m\n\u001b[0;32m----> 1\u001b[0m \u001b[43ml\u001b[49m\u001b[38;5;241;43m.\u001b[39;49m\u001b[43mpop\u001b[49m\u001b[43m(\u001b[49m\u001b[38;5;241;43m8\u001b[39;49m\u001b[43m)\u001b[49m\n",
      "\u001b[0;31mIndexError\u001b[0m: pop index out of range"
     ]
    }
   ],
   "source": [
    "l.pop(8)"
   ]
  },
  {
   "cell_type": "code",
   "execution_count": 33,
   "id": "607e73ff-8675-477b-9c0b-f583f3e5cd49",
   "metadata": {},
   "outputs": [
    {
     "data": {
      "text/plain": [
       "[2, 35, 77, 'Lokesh', True, 345.456, 5, [3, 4, 5, [...]]]"
      ]
     },
     "execution_count": 33,
     "metadata": {},
     "output_type": "execute_result"
    }
   ],
   "source": [
    "l"
   ]
  },
  {
   "cell_type": "code",
   "execution_count": 34,
   "id": "026d9005-443a-4cc6-89be-74e17b1cb308",
   "metadata": {},
   "outputs": [
    {
     "data": {
      "text/plain": [
       "[3, 4, 5, [2, 35, 77, 'Lokesh', True, 345.456, 5, [...]]]"
      ]
     },
     "execution_count": 34,
     "metadata": {},
     "output_type": "execute_result"
    }
   ],
   "source": [
    "l[-1]"
   ]
  },
  {
   "cell_type": "code",
   "execution_count": 35,
   "id": "e807b0b3-38df-490c-8de5-e7d3600b9c27",
   "metadata": {},
   "outputs": [],
   "source": [
    "l=[2,35,77,\"Lokesh\",True,5+7j,345.456]\n"
   ]
  },
  {
   "cell_type": "code",
   "execution_count": 36,
   "id": "54faca51-e691-433f-89b9-d59f7408b5f8",
   "metadata": {},
   "outputs": [],
   "source": [
    "l.append(l1)"
   ]
  },
  {
   "cell_type": "code",
   "execution_count": 37,
   "id": "b8967bac-1471-4bc2-bac0-235409fe9c6a",
   "metadata": {},
   "outputs": [
    {
     "data": {
      "text/plain": [
       "[2,\n",
       " 35,\n",
       " 77,\n",
       " 'Lokesh',\n",
       " True,\n",
       " (5+7j),\n",
       " 345.456,\n",
       " [3, 4, 5, [2, 35, 77, 'Lokesh', True, 345.456, 5, [...]]]]"
      ]
     },
     "execution_count": 37,
     "metadata": {},
     "output_type": "execute_result"
    }
   ],
   "source": [
    "l"
   ]
  },
  {
   "cell_type": "code",
   "execution_count": 38,
   "id": "44500a4f-9fe0-4e36-9cd0-fde835499107",
   "metadata": {},
   "outputs": [
    {
     "data": {
      "text/plain": [
       "345.456"
      ]
     },
     "execution_count": 38,
     "metadata": {},
     "output_type": "execute_result"
    }
   ],
   "source": [
    "l.pop(6)"
   ]
  },
  {
   "cell_type": "code",
   "execution_count": 39,
   "id": "8a754b67-360c-4d89-9e5f-91cd8698fb14",
   "metadata": {},
   "outputs": [
    {
     "data": {
      "text/plain": [
       "[2,\n",
       " 35,\n",
       " 77,\n",
       " 'Lokesh',\n",
       " True,\n",
       " (5+7j),\n",
       " [3, 4, 5, [2, 35, 77, 'Lokesh', True, 345.456, 5, [...]]]]"
      ]
     },
     "execution_count": 39,
     "metadata": {},
     "output_type": "execute_result"
    }
   ],
   "source": [
    "l"
   ]
  },
  {
   "cell_type": "code",
   "execution_count": 40,
   "id": "a0ad7bef-af72-4106-a786-4292488db11c",
   "metadata": {},
   "outputs": [],
   "source": [
    "ls=[2,35,77,\"Lokesh\",True,5+7j,345.456]\n"
   ]
  },
  {
   "cell_type": "code",
   "execution_count": 41,
   "id": "f7905f7a-f8fc-4b10-b226-080a26972805",
   "metadata": {},
   "outputs": [],
   "source": [
    "lst = [3,4,5]"
   ]
  },
  {
   "cell_type": "code",
   "execution_count": 42,
   "id": "2703cdc8-cab6-44ba-b988-7c0ce00bebde",
   "metadata": {},
   "outputs": [],
   "source": [
    "l.append(lst)"
   ]
  },
  {
   "cell_type": "code",
   "execution_count": 43,
   "id": "4f48009b-fcdb-4a7a-8280-bd88fd821799",
   "metadata": {},
   "outputs": [
    {
     "data": {
      "text/plain": [
       "[2,\n",
       " 35,\n",
       " 77,\n",
       " 'Lokesh',\n",
       " True,\n",
       " (5+7j),\n",
       " [3, 4, 5, [2, 35, 77, 'Lokesh', True, 345.456, 5, [...]]],\n",
       " [3, 4, 5]]"
      ]
     },
     "execution_count": 43,
     "metadata": {},
     "output_type": "execute_result"
    }
   ],
   "source": [
    "l"
   ]
  },
  {
   "cell_type": "code",
   "execution_count": 44,
   "id": "320b08d5-c747-4913-858e-8c2965ceebed",
   "metadata": {},
   "outputs": [
    {
     "data": {
      "text/plain": [
       "[3, 4, 5]"
      ]
     },
     "execution_count": 44,
     "metadata": {},
     "output_type": "execute_result"
    }
   ],
   "source": [
    "l[-1]"
   ]
  },
  {
   "cell_type": "code",
   "execution_count": 45,
   "id": "f9907268-be22-473b-9ba9-b4d091db8444",
   "metadata": {},
   "outputs": [
    {
     "data": {
      "text/plain": [
       "4"
      ]
     },
     "execution_count": 45,
     "metadata": {},
     "output_type": "execute_result"
    }
   ],
   "source": [
    "l[-1][1]"
   ]
  },
  {
   "cell_type": "code",
   "execution_count": 46,
   "id": "312883bd-7927-48df-a2f7-35cde3bbac83",
   "metadata": {},
   "outputs": [
    {
     "data": {
      "text/plain": [
       "[2,\n",
       " 35,\n",
       " 77,\n",
       " 'Lokesh',\n",
       " True,\n",
       " (5+7j),\n",
       " [3, 4, 5, [2, 35, 77, 'Lokesh', True, 345.456, 5, [...]]],\n",
       " [3, 4, 5]]"
      ]
     },
     "execution_count": 46,
     "metadata": {},
     "output_type": "execute_result"
    }
   ],
   "source": [
    "l"
   ]
  },
  {
   "cell_type": "code",
   "execution_count": 47,
   "id": "7a4a88b8-c5d3-4613-a405-4758f1222901",
   "metadata": {},
   "outputs": [
    {
     "ename": "TypeError",
     "evalue": "'int' object is not iterable",
     "output_type": "error",
     "traceback": [
      "\u001b[0;31m---------------------------------------------------------------------------\u001b[0m",
      "\u001b[0;31mTypeError\u001b[0m                                 Traceback (most recent call last)",
      "Cell \u001b[0;32mIn[47], line 1\u001b[0m\n\u001b[0;32m----> 1\u001b[0m \u001b[43ml\u001b[49m\u001b[38;5;241;43m.\u001b[39;49m\u001b[43mextend\u001b[49m\u001b[43m(\u001b[49m\u001b[38;5;241;43m4\u001b[39;49m\u001b[43m)\u001b[49m\n",
      "\u001b[0;31mTypeError\u001b[0m: 'int' object is not iterable"
     ]
    }
   ],
   "source": [
    "l.extend(4)"
   ]
  },
  {
   "cell_type": "code",
   "execution_count": 48,
   "id": "f2b527a8-9700-47cd-92a1-19f18337a71d",
   "metadata": {},
   "outputs": [],
   "source": [
    "l.extend(\"Ayush\")"
   ]
  },
  {
   "cell_type": "code",
   "execution_count": 49,
   "id": "bc46b962-2dc8-4ef0-af59-f9eab56ab24f",
   "metadata": {},
   "outputs": [
    {
     "data": {
      "text/plain": [
       "[2,\n",
       " 35,\n",
       " 77,\n",
       " 'Lokesh',\n",
       " True,\n",
       " (5+7j),\n",
       " [3, 4, 5, [2, 35, 77, 'Lokesh', True, 345.456, 5, [...]]],\n",
       " [3, 4, 5],\n",
       " 'A',\n",
       " 'y',\n",
       " 'u',\n",
       " 's',\n",
       " 'h']"
      ]
     },
     "execution_count": 49,
     "metadata": {},
     "output_type": "execute_result"
    }
   ],
   "source": [
    "l"
   ]
  },
  {
   "cell_type": "code",
   "execution_count": 50,
   "id": "ceb6e583-50d5-4f09-8588-4f391381643b",
   "metadata": {},
   "outputs": [],
   "source": [
    "l.extend(lst)"
   ]
  },
  {
   "cell_type": "code",
   "execution_count": 51,
   "id": "9b7768fc-c1d3-4f9c-b6ce-05738db2ae39",
   "metadata": {},
   "outputs": [
    {
     "data": {
      "text/plain": [
       "[2,\n",
       " 35,\n",
       " 77,\n",
       " 'Lokesh',\n",
       " True,\n",
       " (5+7j),\n",
       " [3, 4, 5, [2, 35, 77, 'Lokesh', True, 345.456, 5, [...]]],\n",
       " [3, 4, 5],\n",
       " 'A',\n",
       " 'y',\n",
       " 'u',\n",
       " 's',\n",
       " 'h',\n",
       " 3,\n",
       " 4,\n",
       " 5]"
      ]
     },
     "execution_count": 51,
     "metadata": {},
     "output_type": "execute_result"
    }
   ],
   "source": [
    "l"
   ]
  },
  {
   "cell_type": "code",
   "execution_count": 52,
   "id": "a687c7d2-cd44-4843-8318-b917f8199acd",
   "metadata": {},
   "outputs": [],
   "source": [
    " l.insert(1,\"Sahas\")"
   ]
  },
  {
   "cell_type": "code",
   "execution_count": null,
   "id": "a99304c1-fa76-4585-8432-0155fae03a91",
   "metadata": {},
   "outputs": [
    {
     "data": {
      "text/plain": [
       "[2,\n",
       " 'Sahas',\n",
       " 35,\n",
       " 77,\n",
       " 'Lokesh',\n",
       " True,\n",
       " (5+7j),\n",
       " [3, 4, 5, [2, 35, 77, 'Lokesh', True, 345.456, 5, [...]]],\n",
       " [3, 4, 5],\n",
       " 'A',\n",
       " 'y',\n",
       " 'u',\n",
       " 's',\n",
       " 'h',\n",
       " 3,\n",
       " 4,\n",
       " 5]"
      ]
     },
     "execution_count": 53,
     "metadata": {},
     "output_type": "execute_result"
    }
   ],
   "source": [
    "l"
   ]
  },
  {
   "cell_type": "code",
   "execution_count": null,
   "id": "c94f55f0-f449-4385-a9a4-e749434e0756",
   "metadata": {},
   "outputs": [],
   "source": [
    "l.insert(-1,45)"
   ]
  },
  {
   "cell_type": "code",
   "execution_count": null,
   "id": "93762b8b-7ad7-49b7-8c0f-f9dcbf077931",
   "metadata": {},
   "outputs": [
    {
     "data": {
      "text/plain": [
       "[2,\n",
       " 'Sahas',\n",
       " 35,\n",
       " 77,\n",
       " 'Lokesh',\n",
       " True,\n",
       " (5+7j),\n",
       " [3, 4, 5, [2, 35, 77, 'Lokesh', True, 345.456, 5, [...]]],\n",
       " [3, 4, 5],\n",
       " 'A',\n",
       " 'y',\n",
       " 'u',\n",
       " 's',\n",
       " 'h',\n",
       " 3,\n",
       " 4,\n",
       " 45,\n",
       " 5]"
      ]
     },
     "execution_count": 55,
     "metadata": {},
     "output_type": "execute_result"
    }
   ],
   "source": [
    "l"
   ]
  },
  {
   "cell_type": "code",
   "execution_count": null,
   "id": "e497ad8f-1c3f-4d4b-8132-5919ad83e090",
   "metadata": {},
   "outputs": [],
   "source": [
    "lst.insert(0,66)"
   ]
  },
  {
   "cell_type": "code",
   "execution_count": null,
   "id": "ca4cbeba-5d2b-4979-8553-ec5caa549967",
   "metadata": {},
   "outputs": [
    {
     "data": {
      "text/plain": [
       "[66, 3, 4, 5]"
      ]
     },
     "execution_count": 57,
     "metadata": {},
     "output_type": "execute_result"
    }
   ],
   "source": [
    "lst"
   ]
  },
  {
   "cell_type": "code",
   "execution_count": null,
   "id": "15abdabe-62b7-443c-ba1f-eb8279f67449",
   "metadata": {},
   "outputs": [
    {
     "data": {
      "text/plain": [
       "5"
      ]
     },
     "execution_count": 58,
     "metadata": {},
     "output_type": "execute_result"
    }
   ],
   "source": [
    "l.pop()"
   ]
  },
  {
   "cell_type": "code",
   "execution_count": null,
   "id": "e9fd327e-8c24-4512-926f-6be074de46d3",
   "metadata": {},
   "outputs": [
    {
     "data": {
      "text/plain": [
       "[2,\n",
       " 'Sahas',\n",
       " 35,\n",
       " 77,\n",
       " 'Lokesh',\n",
       " True,\n",
       " (5+7j),\n",
       " [3, 4, 5, [2, 35, 77, 'Lokesh', True, 345.456, 5, [...]]],\n",
       " [66, 3, 4, 5],\n",
       " 'A',\n",
       " 'y',\n",
       " 'u',\n",
       " 's',\n",
       " 'h',\n",
       " 3,\n",
       " 4,\n",
       " 45]"
      ]
     },
     "execution_count": 59,
     "metadata": {},
     "output_type": "execute_result"
    }
   ],
   "source": [
    "l"
   ]
  },
  {
   "cell_type": "code",
   "execution_count": null,
   "id": "49927fd6-8a76-4f6a-a428-bcdf0e3a4c59",
   "metadata": {},
   "outputs": [
    {
     "data": {
      "text/plain": [
       "35"
      ]
     },
     "execution_count": 60,
     "metadata": {},
     "output_type": "execute_result"
    }
   ],
   "source": [
    "l.pop(2)"
   ]
  },
  {
   "cell_type": "code",
   "execution_count": null,
   "id": "0c801883-edeb-4ab6-b41b-6c0750c317ed",
   "metadata": {},
   "outputs": [
    {
     "data": {
      "text/plain": [
       "[2,\n",
       " 'Sahas',\n",
       " 77,\n",
       " 'Lokesh',\n",
       " True,\n",
       " (5+7j),\n",
       " [3, 4, 5, [2, 35, 77, 'Lokesh', True, 345.456, 5, [...]]],\n",
       " [66, 3, 4, 5],\n",
       " 'A',\n",
       " 'y',\n",
       " 'u',\n",
       " 's',\n",
       " 'h',\n",
       " 3,\n",
       " 4,\n",
       " 45]"
      ]
     },
     "execution_count": 61,
     "metadata": {},
     "output_type": "execute_result"
    }
   ],
   "source": [
    "l"
   ]
  },
  {
   "cell_type": "code",
   "execution_count": null,
   "id": "8efe17ba-19f6-44d9-a93d-d21c72a459fe",
   "metadata": {},
   "outputs": [],
   "source": [
    "l.remove(3)"
   ]
  },
  {
   "cell_type": "code",
   "execution_count": null,
   "id": "47dc687a-6c56-4698-a1ed-fb68d4e7be4a",
   "metadata": {},
   "outputs": [
    {
     "data": {
      "text/plain": [
       "[2,\n",
       " 'Sahas',\n",
       " 77,\n",
       " 'Lokesh',\n",
       " True,\n",
       " (5+7j),\n",
       " [3, 4, 5, [2, 35, 77, 'Lokesh', True, 345.456, 5, [...]]],\n",
       " [66, 3, 4, 5],\n",
       " 'A',\n",
       " 'y',\n",
       " 'u',\n",
       " 's',\n",
       " 'h',\n",
       " 4,\n",
       " 45]"
      ]
     },
     "execution_count": 63,
     "metadata": {},
     "output_type": "execute_result"
    }
   ],
   "source": [
    "l"
   ]
  },
  {
   "cell_type": "code",
   "execution_count": null,
   "id": "54d50317-a4f8-49f6-b843-e5ced9537f58",
   "metadata": {},
   "outputs": [
    {
     "data": {
      "text/plain": [
       "3"
      ]
     },
     "execution_count": 64,
     "metadata": {},
     "output_type": "execute_result"
    }
   ],
   "source": [
    "l.pop(6)[0]"
   ]
  },
  {
   "cell_type": "code",
   "execution_count": null,
   "id": "a58c65e3-aa33-40cb-a452-a9ecc4c27b9b",
   "metadata": {},
   "outputs": [
    {
     "data": {
      "text/plain": [
       "[2,\n",
       " 'Sahas',\n",
       " 77,\n",
       " 'Lokesh',\n",
       " True,\n",
       " (5+7j),\n",
       " [66, 3, 4, 5],\n",
       " 'A',\n",
       " 'y',\n",
       " 'u',\n",
       " 's',\n",
       " 'h',\n",
       " 4,\n",
       " 45]"
      ]
     },
     "execution_count": 65,
     "metadata": {},
     "output_type": "execute_result"
    }
   ],
   "source": [
    "l"
   ]
  },
  {
   "cell_type": "code",
   "execution_count": null,
   "id": "463d6244-0634-4d2b-89fc-2e0d15f56d9c",
   "metadata": {},
   "outputs": [],
   "source": [
    "l.pop(6).remove(66)"
   ]
  },
  {
   "cell_type": "code",
   "execution_count": null,
   "id": "596d823d-c56c-4709-af4d-8a96d82173a9",
   "metadata": {},
   "outputs": [
    {
     "data": {
      "text/plain": [
       "[2, 'Sahas', 77, 'Lokesh', True, (5+7j), 'A', 'y', 'u', 's', 'h', 4, 45]"
      ]
     },
     "execution_count": 67,
     "metadata": {},
     "output_type": "execute_result"
    }
   ],
   "source": [
    "l"
   ]
  },
  {
   "cell_type": "code",
   "execution_count": null,
   "id": "30a689f6-a1aa-4644-af67-90e876db979e",
   "metadata": {},
   "outputs": [],
   "source": [
    "list=[2,\n",
    " 'Sahas',\n",
    " 77,\n",
    " 'Lokesh',\n",
    " True,\n",
    " (5+7j),\n",
    " [3, 4, 5, [2, 35, 77, 'Lokesh', True, 345.456, 5, [...]]],\n",
    " [66, 3, 4, 5],\n",
    " 'A',\n",
    " 'y',\n",
    " 'u',\n",
    " 's',\n",
    " 'h',\n",
    " 4,\n",
    " 45]"
   ]
  },
  {
   "cell_type": "code",
   "execution_count": null,
   "id": "bcd385fe-086a-4649-b9bc-2421a9adf7f2",
   "metadata": {},
   "outputs": [],
   "source": [
    "a = list[6]"
   ]
  },
  {
   "cell_type": "code",
   "execution_count": null,
   "id": "cea60caa-81da-4f45-ad22-38c3fdfa9609",
   "metadata": {},
   "outputs": [
    {
     "data": {
      "text/plain": [
       "[3, 4, 5, [2, 35, 77, 'Lokesh', True, 345.456, 5, [Ellipsis]]]"
      ]
     },
     "execution_count": 70,
     "metadata": {},
     "output_type": "execute_result"
    }
   ],
   "source": [
    "a"
   ]
  },
  {
   "cell_type": "code",
   "execution_count": null,
   "id": "69e2d277-357b-44de-9f4b-2b53b0ad8236",
   "metadata": {},
   "outputs": [],
   "source": [
    "a.remove(3)"
   ]
  },
  {
   "cell_type": "code",
   "execution_count": null,
   "id": "8e144a25-ed74-4d13-8d1d-4cd117634066",
   "metadata": {},
   "outputs": [
    {
     "data": {
      "text/plain": [
       "[4, 5, [2, 35, 77, 'Lokesh', True, 345.456, 5, [Ellipsis]]]"
      ]
     },
     "execution_count": 72,
     "metadata": {},
     "output_type": "execute_result"
    }
   ],
   "source": [
    "a"
   ]
  },
  {
   "cell_type": "code",
   "execution_count": null,
   "id": "6f96c564-3197-4c34-86ba-b1c4c87ebe6f",
   "metadata": {},
   "outputs": [
    {
     "data": {
      "text/plain": [
       "[4, 5, [2, 35, 77, 'Lokesh', True, 345.456, 5, [Ellipsis]]]"
      ]
     },
     "execution_count": 73,
     "metadata": {},
     "output_type": "execute_result"
    }
   ],
   "source": [
    "list.pop(6)"
   ]
  },
  {
   "cell_type": "code",
   "execution_count": null,
   "id": "f16d07ac-0989-4c5d-ab9f-4b06938c4346",
   "metadata": {},
   "outputs": [],
   "source": [
    "list.insert(6,a)"
   ]
  },
  {
   "cell_type": "code",
   "execution_count": null,
   "id": "a7a39345-9506-45f0-92fb-0d2c3ce53402",
   "metadata": {},
   "outputs": [
    {
     "data": {
      "text/plain": [
       "[2,\n",
       " 'Sahas',\n",
       " 77,\n",
       " 'Lokesh',\n",
       " True,\n",
       " (5+7j),\n",
       " [4, 5, [2, 35, 77, 'Lokesh', True, 345.456, 5, [Ellipsis]]],\n",
       " [66, 3, 4, 5],\n",
       " 'A',\n",
       " 'y',\n",
       " 'u',\n",
       " 's',\n",
       " 'h',\n",
       " 4,\n",
       " 45]"
      ]
     },
     "execution_count": 75,
     "metadata": {},
     "output_type": "execute_result"
    }
   ],
   "source": [
    "list"
   ]
  },
  {
   "cell_type": "code",
   "execution_count": null,
   "id": "b7297463-309e-4d7a-b29a-2b6fd3ca4e2b",
   "metadata": {},
   "outputs": [],
   "source": [
    "list.reverse()"
   ]
  },
  {
   "cell_type": "code",
   "execution_count": null,
   "id": "19cfcde2-70a8-44b9-ab9b-c656cb7d194d",
   "metadata": {},
   "outputs": [
    {
     "data": {
      "text/plain": [
       "[45,\n",
       " 4,\n",
       " 'h',\n",
       " 's',\n",
       " 'u',\n",
       " 'y',\n",
       " 'A',\n",
       " [66, 3, 4, 5],\n",
       " [4, 5, [2, 35, 77, 'Lokesh', True, 345.456, 5, [Ellipsis]]],\n",
       " (5+7j),\n",
       " True,\n",
       " 'Lokesh',\n",
       " 77,\n",
       " 'Sahas',\n",
       " 2]"
      ]
     },
     "execution_count": 77,
     "metadata": {},
     "output_type": "execute_result"
    }
   ],
   "source": [
    "list"
   ]
  },
  {
   "cell_type": "code",
   "execution_count": null,
   "id": "0be29a3a-cedc-433b-b5ba-747db6f4d279",
   "metadata": {},
   "outputs": [],
   "source": [
    "l2 = [55,24,87,21,77,3,19,8,1]"
   ]
  },
  {
   "cell_type": "code",
   "execution_count": null,
   "id": "0c6176b2-4f08-41b0-b225-724057d06dcf",
   "metadata": {},
   "outputs": [],
   "source": [
    "l2.sort()"
   ]
  },
  {
   "cell_type": "code",
   "execution_count": null,
   "id": "a6876554-c2d5-43fe-b97a-e9d6e1c08e78",
   "metadata": {},
   "outputs": [
    {
     "data": {
      "text/plain": [
       "[1, 3, 8, 19, 21, 24, 55, 77, 87]"
      ]
     },
     "execution_count": 80,
     "metadata": {},
     "output_type": "execute_result"
    }
   ],
   "source": [
    "l2"
   ]
  },
  {
   "cell_type": "code",
   "execution_count": null,
   "id": "ca85e621-32a5-4070-a96a-daa9d7ea01f3",
   "metadata": {},
   "outputs": [],
   "source": [
    "l2.sort(reverse=True)"
   ]
  },
  {
   "cell_type": "code",
   "execution_count": null,
   "id": "2df80dce-44e2-4ebc-a815-8929557d73ba",
   "metadata": {},
   "outputs": [
    {
     "data": {
      "text/plain": [
       "[87, 77, 55, 24, 21, 19, 8, 3, 1]"
      ]
     },
     "execution_count": 82,
     "metadata": {},
     "output_type": "execute_result"
    }
   ],
   "source": [
    "l2"
   ]
  },
  {
   "cell_type": "code",
   "execution_count": null,
   "id": "7a93402f-0f29-48cf-8f3a-b9eb2b0be513",
   "metadata": {},
   "outputs": [],
   "source": [
    "l3 = [\"Lokesh\",\"Sahas\",\"Vaibhav\",\"Ayush\",\"Tejas\"]"
   ]
  },
  {
   "cell_type": "code",
   "execution_count": null,
   "id": "cb6271cb-8a30-4b0f-a89d-8dbac9ee36f9",
   "metadata": {},
   "outputs": [],
   "source": [
    "l3.sort()"
   ]
  },
  {
   "cell_type": "code",
   "execution_count": null,
   "id": "7b140bbb-3baf-432a-a2a5-462a4f6cec68",
   "metadata": {},
   "outputs": [
    {
     "data": {
      "text/plain": [
       "['Ayush', 'Lokesh', 'Sahas', 'Tejas', 'Vaibhav']"
      ]
     },
     "execution_count": 85,
     "metadata": {},
     "output_type": "execute_result"
    }
   ],
   "source": [
    "l3"
   ]
  },
  {
   "cell_type": "code",
   "execution_count": null,
   "id": "4619c5ce-c24b-462d-8626-e0f7817c2ed2",
   "metadata": {},
   "outputs": [],
   "source": [
    "l3.sort(reverse=True)"
   ]
  },
  {
   "cell_type": "code",
   "execution_count": null,
   "id": "42b67e12-c8be-4b73-b253-7c9a53964c24",
   "metadata": {},
   "outputs": [
    {
     "data": {
      "text/plain": [
       "['Vaibhav', 'Tejas', 'Sahas', 'Lokesh', 'Ayush']"
      ]
     },
     "execution_count": 87,
     "metadata": {},
     "output_type": "execute_result"
    }
   ],
   "source": [
    "l3"
   ]
  },
  {
   "cell_type": "code",
   "execution_count": null,
   "id": "297f1f12-14e4-4197-b9ea-5e4170192b9c",
   "metadata": {},
   "outputs": [
    {
     "data": {
      "text/plain": [
       "3"
      ]
     },
     "execution_count": 88,
     "metadata": {},
     "output_type": "execute_result"
    }
   ],
   "source": [
    "l3.index(\"Lokesh\")"
   ]
  },
  {
   "cell_type": "code",
   "execution_count": null,
   "id": "663e3383-09d6-4aaa-bfcf-51543abd9de6",
   "metadata": {},
   "outputs": [
    {
     "data": {
      "text/plain": [
       "1"
      ]
     },
     "execution_count": 89,
     "metadata": {},
     "output_type": "execute_result"
    }
   ],
   "source": [
    "l3.count(\"Lokesh\")"
   ]
  },
  {
   "cell_type": "code",
   "execution_count": null,
   "id": "19535074-7603-4272-b122-c519ed59e411",
   "metadata": {},
   "outputs": [],
   "source": [
    " L = \"Lokesh\""
   ]
  },
  {
   "cell_type": "code",
   "execution_count": null,
   "id": "d55354d9-a4db-4f1b-95b9-50dd3614da4c",
   "metadata": {},
   "outputs": [],
   "source": [
    "l5 = [3,4,5,6]"
   ]
  },
  {
   "cell_type": "code",
   "execution_count": null,
   "id": "9ee2f50c-4c06-4f9d-aeb0-50d3a3a0c046",
   "metadata": {},
   "outputs": [],
   "source": [
    "l5[0] = 30 "
   ]
  },
  {
   "cell_type": "code",
   "execution_count": null,
   "id": "097c7555-a4c1-4549-b8e2-63d262e13196",
   "metadata": {},
   "outputs": [
    {
     "data": {
      "text/plain": [
       "[30, 4, 5, 6]"
      ]
     },
     "execution_count": 93,
     "metadata": {},
     "output_type": "execute_result"
    }
   ],
   "source": [
    "l5"
   ]
  },
  {
   "cell_type": "code",
   "execution_count": null,
   "id": "940703ed-9daa-4142-b859-a50302932b83",
   "metadata": {},
   "outputs": [
    {
     "data": {
      "text/plain": [
       "' okesh'"
      ]
     },
     "execution_count": 94,
     "metadata": {},
     "output_type": "execute_result"
    }
   ],
   "source": [
    "L.replace('L',' ')"
   ]
  },
  {
   "cell_type": "code",
   "execution_count": null,
   "id": "2997c5ac-be87-4838-96dd-cedb89df02de",
   "metadata": {},
   "outputs": [],
   "source": [
    "t = (2,4,5,\"Lokesh\",45.56,False,45+457j,[3,4,5])"
   ]
  },
  {
   "cell_type": "code",
   "execution_count": null,
   "id": "af618179-b345-435c-a2d9-100adddd114b",
   "metadata": {},
   "outputs": [
    {
     "data": {
      "text/plain": [
       "tuple"
      ]
     },
     "execution_count": 96,
     "metadata": {},
     "output_type": "execute_result"
    }
   ],
   "source": [
    "type(t)"
   ]
  },
  {
   "cell_type": "code",
   "execution_count": null,
   "id": "a55c2b30-d3b5-474d-a941-2a4a1a24c92e",
   "metadata": {},
   "outputs": [
    {
     "data": {
      "text/plain": [
       "2"
      ]
     },
     "execution_count": 97,
     "metadata": {},
     "output_type": "execute_result"
    }
   ],
   "source": [
    "t[0]"
   ]
  },
  {
   "cell_type": "code",
   "execution_count": null,
   "id": "0040eefd-5cc6-47d8-adff-092fc2c8bf95",
   "metadata": {},
   "outputs": [
    {
     "data": {
      "text/plain": [
       "([3, 4, 5], (45+457j), False, 45.56, 'Lokesh', 5, 4, 2)"
      ]
     },
     "execution_count": 98,
     "metadata": {},
     "output_type": "execute_result"
    }
   ],
   "source": [
    "t[::-1]"
   ]
  },
  {
   "cell_type": "code",
   "execution_count": null,
   "id": "e9ae4796-0f31-4d9a-ab54-58ed4f81acf9",
   "metadata": {},
   "outputs": [
    {
     "data": {
      "text/plain": [
       "['Vaibhav', 'Tejas', 'Sahas', 'Lokesh', 'Ayush']"
      ]
     },
     "execution_count": 99,
     "metadata": {},
     "output_type": "execute_result"
    }
   ],
   "source": [
    "l3"
   ]
  },
  {
   "cell_type": "code",
   "execution_count": null,
   "id": "cef632b7-e7dd-4d27-b481-7252f33edbb2",
   "metadata": {},
   "outputs": [],
   "source": [
    "l3[0] = 4567"
   ]
  },
  {
   "cell_type": "code",
   "execution_count": null,
   "id": "6ad7b30f-f94d-43a8-a159-20219b546dd5",
   "metadata": {},
   "outputs": [
    {
     "data": {
      "text/plain": [
       "[4567, 'Tejas', 'Sahas', 'Lokesh', 'Ayush']"
      ]
     },
     "execution_count": 101,
     "metadata": {},
     "output_type": "execute_result"
    }
   ],
   "source": [
    "l3"
   ]
  },
  {
   "cell_type": "code",
   "execution_count": null,
   "id": "0e5b1bd4-9728-49fc-b8a6-45a84b38c050",
   "metadata": {},
   "outputs": [
    {
     "ename": "TypeError",
     "evalue": "'tuple' object does not support item assignment",
     "output_type": "error",
     "traceback": [
      "\u001b[0;31m---------------------------------------------------------------------------\u001b[0m",
      "\u001b[0;31mTypeError\u001b[0m                                 Traceback (most recent call last)",
      "Cell \u001b[0;32mIn[102], line 1\u001b[0m\n\u001b[0;32m----> 1\u001b[0m \u001b[43mt\u001b[49m\u001b[43m[\u001b[49m\u001b[38;5;241;43m0\u001b[39;49m\u001b[43m]\u001b[49m \u001b[38;5;241m=\u001b[39m \u001b[38;5;124m\"\u001b[39m\u001b[38;5;124mLokesh\u001b[39m\u001b[38;5;124m\"\u001b[39m\n",
      "\u001b[0;31mTypeError\u001b[0m: 'tuple' object does not support item assignment"
     ]
    }
   ],
   "source": [
    "t[0] = \"Lokesh\""
   ]
  },
  {
   "cell_type": "code",
   "execution_count": null,
   "id": "c08d71de-8eca-4d74-b291-2eef27fb297e",
   "metadata": {},
   "outputs": [],
   "source": [
    "t[::-1]"
   ]
  },
  {
   "cell_type": "code",
   "execution_count": null,
   "id": "189ee40e-f0f8-4b39-9970-89c21c4ae2b5",
   "metadata": {},
   "outputs": [
    {
     "data": {
      "text/plain": [
       "1"
      ]
     },
     "execution_count": 103,
     "metadata": {},
     "output_type": "execute_result"
    }
   ],
   "source": [
    "t.count('Lokesh')"
   ]
  },
  {
   "cell_type": "code",
   "execution_count": null,
   "id": "bb888e36-b891-442b-bb9c-96a197f1efbc",
   "metadata": {},
   "outputs": [
    {
     "data": {
      "text/plain": [
       "5"
      ]
     },
     "execution_count": 104,
     "metadata": {},
     "output_type": "execute_result"
    }
   ],
   "source": [
    "t.index(False)"
   ]
  },
  {
   "cell_type": "code",
   "execution_count": null,
   "id": "3bbe4034-b27a-4f3c-be55-a93c9f7c0a12",
   "metadata": {},
   "outputs": [
    {
     "data": {
      "text/plain": [
       "dict"
      ]
     },
     "execution_count": 105,
     "metadata": {},
     "output_type": "execute_result"
    }
   ],
   "source": [
    "s1 = {}\n",
    "type(s1)"
   ]
  },
  {
   "cell_type": "code",
   "execution_count": null,
   "id": "c6241751-bd5a-41fc-be23-e28098e20044",
   "metadata": {},
   "outputs": [],
   "source": [
    "s2 = {2,3,4,5,6}"
   ]
  },
  {
   "cell_type": "code",
   "execution_count": null,
   "id": "2b1ae56a-147b-4652-8516-7497d5c83d7f",
   "metadata": {},
   "outputs": [
    {
     "data": {
      "text/plain": [
       "set"
      ]
     },
     "execution_count": 107,
     "metadata": {},
     "output_type": "execute_result"
    }
   ],
   "source": [
    "type(s2)"
   ]
  },
  {
   "cell_type": "code",
   "execution_count": null,
   "id": "fc2e3139-4ec3-465d-9407-85d25f1ea87a",
   "metadata": {},
   "outputs": [],
   "source": [
    "s3={324,456,456,'Lokesh',45+45j,34.465,(3,4,5)}"
   ]
  },
  {
   "cell_type": "code",
   "execution_count": null,
   "id": "53ead523-44d9-4a6d-896f-15b14490373c",
   "metadata": {},
   "outputs": [
    {
     "data": {
      "text/plain": [
       "{(3, 4, 5), (45+45j), 324, 34.465, 456, 'Lokesh'}"
      ]
     },
     "execution_count": 109,
     "metadata": {},
     "output_type": "execute_result"
    }
   ],
   "source": [
    "s3"
   ]
  },
  {
   "cell_type": "code",
   "execution_count": null,
   "id": "7d6e2ef5-c584-45f8-8b96-062ba860f32c",
   "metadata": {},
   "outputs": [],
   "source": [
    "s4 = {2,3,4,5,6,6,7,2,3,4,5,6,7,8,9,1,2,3,4,5,6,7,8,9,'lokesh','lokesh'}"
   ]
  },
  {
   "cell_type": "code",
   "execution_count": null,
   "id": "8b642a0c-ce74-411c-9802-32a47f418514",
   "metadata": {},
   "outputs": [
    {
     "data": {
      "text/plain": [
       "{1, 2, 3, 4, 5, 6, 7, 8, 9, 'lokesh'}"
      ]
     },
     "execution_count": 111,
     "metadata": {},
     "output_type": "execute_result"
    }
   ],
   "source": [
    "s4"
   ]
  },
  {
   "cell_type": "code",
   "execution_count": null,
   "id": "bfb744ae-6da3-4b2d-abd7-5922373f046d",
   "metadata": {},
   "outputs": [],
   "source": [
    "lu = [2,3,4,5,6,6,7,2,3,4,5,6,7,8,9,1,2,3,4,5,6,7,8,9,'lokesh','lokesh']"
   ]
  },
  {
   "cell_type": "code",
   "execution_count": null,
   "id": "9effcd04-d4f3-4ab5-80cd-1444b06fc96f",
   "metadata": {},
   "outputs": [],
   "source": [
    "l6 = set(lu)"
   ]
  },
  {
   "cell_type": "code",
   "execution_count": null,
   "id": "bb585f5b-8ff6-4fdf-bdcb-0151a27c090f",
   "metadata": {},
   "outputs": [
    {
     "data": {
      "text/plain": [
       "{1, 2, 3, 4, 5, 6, 7, 8, 9, 'lokesh'}"
      ]
     },
     "execution_count": 114,
     "metadata": {},
     "output_type": "execute_result"
    }
   ],
   "source": [
    "l6"
   ]
  },
  {
   "cell_type": "code",
   "execution_count": 115,
   "id": "e75c5b60-b804-453d-ab84-e3dd54af374b",
   "metadata": {},
   "outputs": [],
   "source": [
    "l6.add(10)"
   ]
  },
  {
   "cell_type": "code",
   "execution_count": 116,
   "id": "cc961db3-5227-4118-ba62-d7f35fc5976f",
   "metadata": {},
   "outputs": [
    {
     "data": {
      "text/plain": [
       "{1, 10, 2, 3, 4, 5, 6, 7, 8, 9, 'lokesh'}"
      ]
     },
     "execution_count": 116,
     "metadata": {},
     "output_type": "execute_result"
    }
   ],
   "source": [
    "l6"
   ]
  },
  {
   "cell_type": "code",
   "execution_count": 117,
   "id": "cc01668a-fd27-40c2-8a72-be7e20defc42",
   "metadata": {},
   "outputs": [],
   "source": [
    "l6.remove(2)"
   ]
  },
  {
   "cell_type": "code",
   "execution_count": 118,
   "id": "192e1a58-815b-48f9-86ee-8c0393f3b84a",
   "metadata": {},
   "outputs": [
    {
     "data": {
      "text/plain": [
       "{1, 10, 3, 4, 5, 6, 7, 8, 9, 'lokesh'}"
      ]
     },
     "execution_count": 118,
     "metadata": {},
     "output_type": "execute_result"
    }
   ],
   "source": [
    "l6"
   ]
  },
  {
   "cell_type": "code",
   "execution_count": null,
   "id": "6c9e4a63-ad5d-47b1-8ef9-0d104d9a17e6",
   "metadata": {},
   "outputs": [],
   "source": []
  }
 ],
 "metadata": {
  "kernelspec": {
   "display_name": "Python 3 (ipykernel)",
   "language": "python",
   "name": "python3"
  },
  "language_info": {
   "codemirror_mode": {
    "name": "ipython",
    "version": 3
   },
   "file_extension": ".py",
   "mimetype": "text/x-python",
   "name": "python",
   "nbconvert_exporter": "python",
   "pygments_lexer": "ipython3",
   "version": "3.10.8"
  }
 },
 "nbformat": 4,
 "nbformat_minor": 5
}
