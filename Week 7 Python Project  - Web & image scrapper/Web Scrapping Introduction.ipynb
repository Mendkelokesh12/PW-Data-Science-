{
 "cells": [
  {
   "cell_type": "code",
   "execution_count": 1,
   "id": "8c4d13d7",
   "metadata": {},
   "outputs": [],
   "source": [
    "import requests\n",
    "from bs4 import BeautifulSoup as bs\n",
    "from urllib.request import urlopen as uReq\n",
    "import logging"
   ]
  },
  {
   "cell_type": "code",
   "execution_count": 2,
   "id": "ae606731",
   "metadata": {},
   "outputs": [],
   "source": [
    "flipcard_url =\"https://www.flipkart.com/search?q=\"+\"iphone15promax\""
   ]
  },
  {
   "cell_type": "code",
   "execution_count": 3,
   "id": "70fe1537",
   "metadata": {
    "scrolled": true
   },
   "outputs": [
    {
     "data": {
      "text/plain": [
       "'https://www.flipkart.com/search?q=iphone15promax'"
      ]
     },
     "execution_count": 3,
     "metadata": {},
     "output_type": "execute_result"
    }
   ],
   "source": [
    "flipcard_url"
   ]
  },
  {
   "cell_type": "code",
   "execution_count": 10,
   "id": "ba46e4d2",
   "metadata": {},
   "outputs": [],
   "source": [
    "urlclient = uReq(flipcard_url)"
   ]
  },
  {
   "cell_type": "code",
   "execution_count": 11,
   "id": "343e0ee5",
   "metadata": {},
   "outputs": [
    {
     "data": {
      "text/plain": [
       "<http.client.HTTPResponse at 0x216b9865090>"
      ]
     },
     "execution_count": 11,
     "metadata": {},
     "output_type": "execute_result"
    }
   ],
   "source": [
    "urlclient"
   ]
  },
  {
   "cell_type": "code",
   "execution_count": 12,
   "id": "b2eb4407",
   "metadata": {},
   "outputs": [],
   "source": [
    " flipcard_page = urlclient.read()"
   ]
  },
  {
   "cell_type": "code",
   "execution_count": 14,
   "id": "5d7d1322",
   "metadata": {},
   "outputs": [],
   "source": [
    "flipcard_html = bs(flipcard_page,'html.parser')"
   ]
  },
  {
   "cell_type": "code",
   "execution_count": 18,
   "id": "7060861b",
   "metadata": {},
   "outputs": [
    {
     "data": {
      "text/plain": [
       "'https://www.flipkart.com/search?q=/apple-iphone-15-pro-max-white-titanium-256-gb/p/itm35b922bbbefc9?pid=MOBGTAGQ8DDHVKZM&lid=LSTMOBGTAGQ8DDHVKZMSRYDKK&marketplace=FLIPKART&q=iphone15promax&store=tyy%2F4io&srno=s_1_1&otracker=search&iid=bceb2277-3077-42cf-8f10-079c39b91883.MOBGTAGQ8DDHVKZM.SEARCH&ssid=whgjtfn6qr7uzri81706957263547&qH=0c7d6c94f0a7ccd0'"
      ]
     },
     "execution_count": 18,
     "metadata": {},
     "output_type": "execute_result"
    }
   ],
   "source": [
    "\"https://www.flipkart.com/search?q=\"+\"/apple-iphone-15-pro-max-white-titanium-256-gb/p/itm35b922bbbefc9?pid=MOBGTAGQ8DDHVKZM&lid=LSTMOBGTAGQ8DDHVKZMSRYDKK&marketplace=FLIPKART&q=iphone15promax&store=tyy%2F4io&srno=s_1_1&otracker=search&iid=bceb2277-3077-42cf-8f10-079c39b91883.MOBGTAGQ8DDHVKZM.SEARCH&ssid=whgjtfn6qr7uzri81706957263547&qH=0c7d6c94f0a7ccd0\""
   ]
  },
  {
   "cell_type": "code",
   "execution_count": 30,
   "id": "4b0b77a9",
   "metadata": {},
   "outputs": [],
   "source": [
    "bigbox = flipcard_html.findAll(\"div\",{\"class\":\"_1AtVbE col-12-12\"})"
   ]
  },
  {
   "cell_type": "code",
   "execution_count": 31,
   "id": "6b793d94",
   "metadata": {},
   "outputs": [
    {
     "data": {
      "text/plain": [
       "30"
      ]
     },
     "execution_count": 31,
     "metadata": {},
     "output_type": "execute_result"
    }
   ],
   "source": [
    "len(bigbox)"
   ]
  },
  {
   "cell_type": "code",
   "execution_count": 42,
   "id": "559a81a6",
   "metadata": {},
   "outputs": [],
   "source": [
    "del bigbox[0:3]"
   ]
  },
  {
   "cell_type": "code",
   "execution_count": 48,
   "id": "487521d0",
   "metadata": {},
   "outputs": [
    {
     "name": "stdout",
     "output_type": "stream",
     "text": [
      "https://www.flipkart.com/apple-iphone-15-pro-max-blue-titanium-256-gb/p/itm4a0093df4a3d7?pid=MOBGTAGP4SVJGGH6&lid=LSTMOBGTAGP4SVJGGH6BVMLK2&marketplace=FLIPKART&q=iphone15promax&store=tyy%2F4io&srno=s_1_2&otracker=search&fm=organic&iid=cf9f165d-743f-405e-a73f-c2af891eda2a.MOBGTAGP4SVJGGH6.SEARCH&ppt=None&ppn=None&ssid=om8i87ztxs0000001706956744526&qH=0c7d6c94f0a7ccd0\n",
      "https://www.flipkart.com/apple-iphone-15-pro-max-black-titanium-512-gb/p/itm26b131c3af6b6?pid=MOBGTAGQZ7DW89ZB&lid=LSTMOBGTAGQZ7DW89ZBXSJKEX&marketplace=FLIPKART&q=iphone15promax&store=tyy%2F4io&srno=s_1_3&otracker=search&fm=organic&iid=cf9f165d-743f-405e-a73f-c2af891eda2a.MOBGTAGQZ7DW89ZB.SEARCH&ppt=None&ppn=None&ssid=om8i87ztxs0000001706956744526&qH=0c7d6c94f0a7ccd0\n",
      "https://www.flipkart.com/apple-iphone-15-pro-max-black-titanium-256-gb/p/itmd170cfc1dec9e?pid=MOBGTAGQGJWQFEFX&lid=LSTMOBGTAGQGJWQFEFXBVNGR1&marketplace=FLIPKART&q=iphone15promax&store=tyy%2F4io&srno=s_1_4&otracker=search&fm=organic&iid=cf9f165d-743f-405e-a73f-c2af891eda2a.MOBGTAGQGJWQFEFX.SEARCH&ppt=None&ppn=None&ssid=om8i87ztxs0000001706956744526&qH=0c7d6c94f0a7ccd0\n",
      "https://www.flipkart.com/apple-iphone-15-pro-max-natural-titanium-256-gb/p/itm9d44960698192?pid=MOBGTAGQH6K7YMJU&lid=LSTMOBGTAGQH6K7YMJU74VM64&marketplace=FLIPKART&q=iphone15promax&store=tyy%2F4io&srno=s_1_5&otracker=search&fm=organic&iid=cf9f165d-743f-405e-a73f-c2af891eda2a.MOBGTAGQH6K7YMJU.SEARCH&ppt=None&ppn=None&ssid=om8i87ztxs0000001706956744526&qH=0c7d6c94f0a7ccd0\n",
      "https://www.flipkart.com/apple-iphone-13-pro-max-alpine-green-1-tb/p/itm85829ae4949a7?pid=MOBGC9VGF6TPMQKZ&lid=LSTMOBGC9VGF6TPMQKZPDWLNQ&marketplace=FLIPKART&q=iphone15promax&store=tyy%2F4io&srno=s_1_6&otracker=search&fm=organic&iid=cf9f165d-743f-405e-a73f-c2af891eda2a.MOBGC9VGF6TPMQKZ.SEARCH&ppt=None&ppn=None&ssid=om8i87ztxs0000001706956744526&qH=0c7d6c94f0a7ccd0\n",
      "https://www.flipkart.com/apple-iphone-13-pro-max-graphite-1-tb/p/itmdbb23fa63b708?pid=MOBG6VF56FGKA8SG&lid=LSTMOBG6VF56FGKA8SGGXC16M&marketplace=FLIPKART&q=iphone15promax&store=tyy%2F4io&srno=s_1_7&otracker=search&fm=organic&iid=cf9f165d-743f-405e-a73f-c2af891eda2a.MOBG6VF56FGKA8SG.SEARCH&ppt=None&ppn=None&ssid=om8i87ztxs0000001706956744526&qH=0c7d6c94f0a7ccd0\n",
      "https://www.flipkart.com/apple-iphone-12-pro-max-pacific-blue-128-gb/p/itmd89812b558a03?pid=MOBFWBYZZABKHZQA&lid=LSTMOBFWBYZZABKHZQACQ9MLL&marketplace=FLIPKART&q=iphone15promax&store=tyy%2F4io&srno=s_1_8&otracker=search&fm=organic&iid=cf9f165d-743f-405e-a73f-c2af891eda2a.MOBFWBYZZABKHZQA.SEARCH&ppt=None&ppn=None&ssid=om8i87ztxs0000001706956744526&qH=0c7d6c94f0a7ccd0\n",
      "https://www.flipkart.com/apple-iphone-11-pro-max-midnight-green-64-gb/p/itmab1763b5ca244?pid=MOBFKCTSRYPAQNYT&lid=LSTMOBFKCTSRYPAQNYTGIQVMF&marketplace=FLIPKART&q=iphone15promax&store=tyy%2F4io&srno=s_1_9&otracker=search&fm=organic&iid=cf9f165d-743f-405e-a73f-c2af891eda2a.MOBFKCTSRYPAQNYT.SEARCH&ppt=None&ppn=None&ssid=om8i87ztxs0000001706956744526&qH=0c7d6c94f0a7ccd0\n",
      "https://www.flipkart.com/apple-iphone-15-pro-max-white-titanium-512-gb/p/itmbc976875d6658?pid=MOBGTAGQWDVBNC5Y&lid=LSTMOBGTAGQWDVBNC5YYRG7S0&marketplace=FLIPKART&q=iphone15promax&store=tyy%2F4io&srno=s_1_10&otracker=search&fm=organic&iid=cf9f165d-743f-405e-a73f-c2af891eda2a.MOBGTAGQWDVBNC5Y.SEARCH&ppt=None&ppn=None&ssid=om8i87ztxs0000001706956744526&qH=0c7d6c94f0a7ccd0\n",
      "https://www.flipkart.com/apple-iphone-15-pro-max-blue-titanium-512-gb/p/itm6c09b030de0b1?pid=MOBGTAGQHTDXYSHG&lid=LSTMOBGTAGQHTDXYSHGCIJXQO&marketplace=FLIPKART&q=iphone15promax&store=tyy%2F4io&srno=s_1_11&otracker=search&fm=organic&iid=cf9f165d-743f-405e-a73f-c2af891eda2a.MOBGTAGQHTDXYSHG.SEARCH&ppt=None&ppn=None&ssid=om8i87ztxs0000001706956744526&qH=0c7d6c94f0a7ccd0\n",
      "https://www.flipkart.com/apple-iphone-15-pro-max-blue-titanium-1-tb/p/itmc556a7f74123f?pid=MOBGTAGQRFZHFGXC&lid=LSTMOBGTAGQRFZHFGXCOAO2IL&marketplace=FLIPKART&q=iphone15promax&store=tyy%2F4io&srno=s_1_12&otracker=search&fm=organic&iid=cf9f165d-743f-405e-a73f-c2af891eda2a.MOBGTAGQRFZHFGXC.SEARCH&ppt=None&ppn=None&ssid=om8i87ztxs0000001706956744526&qH=0c7d6c94f0a7ccd0\n",
      "https://www.flipkart.com/apple-iphone-15-pro-max-black-titanium-1-tb/p/itm5eabe6c34067e?pid=MOBGTAGQZCR8Y6RH&lid=LSTMOBGTAGQZCR8Y6RHKTG41V&marketplace=FLIPKART&q=iphone15promax&store=tyy%2F4io&srno=s_1_13&otracker=search&fm=organic&iid=cf9f165d-743f-405e-a73f-c2af891eda2a.MOBGTAGQZCR8Y6RH.SEARCH&ppt=None&ppn=None&ssid=om8i87ztxs0000001706956744526&qH=0c7d6c94f0a7ccd0\n",
      "https://www.flipkart.com/apple-iphone-15-pro-max-white-titanium-1-tb/p/itmb8fb401cba153?pid=MOBGTAGQPTREATAR&lid=LSTMOBGTAGQPTREATARJMY09V&marketplace=FLIPKART&q=iphone15promax&store=tyy%2F4io&srno=s_1_14&otracker=search&fm=organic&iid=cf9f165d-743f-405e-a73f-c2af891eda2a.MOBGTAGQPTREATAR.SEARCH&ppt=None&ppn=None&ssid=om8i87ztxs0000001706956744526&qH=0c7d6c94f0a7ccd0\n",
      "https://www.flipkart.com/apple-iphone-15-pro-max-natural-titanium-512-gb/p/itmdff963c700866?pid=MOBGTAGQWHVD9V2K&lid=LSTMOBGTAGQWHVD9V2KYQWPMY&marketplace=FLIPKART&q=iphone15promax&store=tyy%2F4io&srno=s_1_15&otracker=search&fm=organic&iid=cf9f165d-743f-405e-a73f-c2af891eda2a.MOBGTAGQWHVD9V2K.SEARCH&ppt=None&ppn=None&ssid=om8i87ztxs0000001706956744526&qH=0c7d6c94f0a7ccd0\n",
      "https://www.flipkart.com/apple-iphone-15-pro-max-natural-titanium-1-tb/p/itm2bdab781feef6?pid=MOBGTAGQSUBTRCFS&lid=LSTMOBGTAGQSUBTRCFSFGWBH1&marketplace=FLIPKART&q=iphone15promax&store=tyy%2F4io&srno=s_1_16&otracker=search&fm=organic&iid=cf9f165d-743f-405e-a73f-c2af891eda2a.MOBGTAGQSUBTRCFS.SEARCH&ppt=None&ppn=None&ssid=om8i87ztxs0000001706956744526&qH=0c7d6c94f0a7ccd0\n",
      "https://www.flipkart.com/apple-iphone-13-pro-max-gold-1-tb/p/itmdbbad9da2b178?pid=MOBG6VF5GHTNXG9K&lid=LSTMOBG6VF5GHTNXG9KR1X2ZD&marketplace=FLIPKART&q=iphone15promax&store=tyy%2F4io&srno=s_1_17&otracker=search&fm=organic&iid=cf9f165d-743f-405e-a73f-c2af891eda2a.MOBG6VF5GHTNXG9K.SEARCH&ppt=None&ppn=None&ssid=om8i87ztxs0000001706956744526&qH=0c7d6c94f0a7ccd0\n",
      "https://www.flipkart.com/apple-iphone-13-pro-max-silver-1-tb/p/itm5e2d156bf43d9?pid=MOBG6VF5H3YC3GNC&lid=LSTMOBG6VF5H3YC3GNCYVAKOJ&marketplace=FLIPKART&q=iphone15promax&store=tyy%2F4io&srno=s_1_18&otracker=search&fm=organic&iid=cf9f165d-743f-405e-a73f-c2af891eda2a.MOBG6VF5H3YC3GNC.SEARCH&ppt=None&ppn=None&ssid=om8i87ztxs0000001706956744526&qH=0c7d6c94f0a7ccd0\n",
      "https://www.flipkart.com/apple-iphone-11-pro-max-space-grey-64-gb/p/itme0101031155f8?pid=MOBFKCTSKDMKCGQS&lid=LSTMOBFKCTSKDMKCGQSOYFAJN&marketplace=FLIPKART&q=iphone15promax&store=tyy%2F4io&srno=s_1_19&otracker=search&fm=organic&iid=cf9f165d-743f-405e-a73f-c2af891eda2a.MOBFKCTSKDMKCGQS.SEARCH&ppt=None&ppn=None&ssid=om8i87ztxs0000001706956744526&qH=0c7d6c94f0a7ccd0\n",
      "https://www.flipkart.com/apple-iphone-14-pro-max-space-black-1-tb/p/itm60b62b9408788?pid=MOBGHWFHSHH7UP2Y&lid=LSTMOBGHWFHSHH7UP2YWJRSNX&marketplace=FLIPKART&q=iphone15promax&store=tyy%2F4io&srno=s_1_20&otracker=search&fm=organic&iid=cf9f165d-743f-405e-a73f-c2af891eda2a.MOBGHWFHSHH7UP2Y.SEARCH&ppt=None&ppn=None&ssid=om8i87ztxs0000001706956744526&qH=0c7d6c94f0a7ccd0\n",
      "https://www.flipkart.com/apple-iphone-12-pro-max-gold-256-gb/p/itm1e0354f5bbc8c?pid=MOBFWBYZZPW8JHQF&lid=LSTMOBFWBYZZPW8JHQFVJR3PO&marketplace=FLIPKART&q=iphone15promax&store=tyy%2F4io&srno=s_1_21&otracker=search&fm=organic&iid=cf9f165d-743f-405e-a73f-c2af891eda2a.MOBFWBYZZPW8JHQF.SEARCH&ppt=None&ppn=None&ssid=om8i87ztxs0000001706956744526&qH=0c7d6c94f0a7ccd0\n",
      "https://www.flipkart.com/apple-iphone-13-pro-max-graphite-512-gb/p/itmbe5170f10a29f?pid=MOBG6VF5MNKYGQMA&lid=LSTMOBG6VF5MNKYGQMACWMKF8&marketplace=FLIPKART&q=iphone15promax&store=tyy%2F4io&srno=s_1_22&otracker=search&fm=organic&iid=cf9f165d-743f-405e-a73f-c2af891eda2a.MOBG6VF5MNKYGQMA.SEARCH&ppt=None&ppn=None&ssid=om8i87ztxs0000001706956744526&qH=0c7d6c94f0a7ccd0\n",
      "https://www.flipkart.com/apple-iphone-13-pro-max-sierra-blue-1-tb/p/itm9b0652604b403?pid=MOBG6VF5YHYZNNMM&lid=LSTMOBG6VF5YHYZNNMMHQNNNN&marketplace=FLIPKART&q=iphone15promax&store=tyy%2F4io&srno=s_1_23&otracker=search&fm=organic&iid=cf9f165d-743f-405e-a73f-c2af891eda2a.MOBG6VF5YHYZNNMM.SEARCH&ppt=None&ppn=None&ssid=om8i87ztxs0000001706956744526&qH=0c7d6c94f0a7ccd0\n",
      "https://www.flipkart.com/apple-iphone-12-pro-max-graphite-128-gb/p/itm973c298184f51?pid=MOBFWBYZFDGQSDWS&lid=LSTMOBFWBYZFDGQSDWS6UBAEI&marketplace=FLIPKART&q=iphone15promax&store=tyy%2F4io&srno=s_1_24&otracker=search&fm=organic&iid=cf9f165d-743f-405e-a73f-c2af891eda2a.MOBFWBYZFDGQSDWS.SEARCH&ppt=None&ppn=None&ssid=om8i87ztxs0000001706956744526&qH=0c7d6c94f0a7ccd0\n"
     ]
    },
    {
     "ename": "AttributeError",
     "evalue": "'NoneType' object has no attribute 'a'",
     "output_type": "error",
     "traceback": [
      "\u001b[1;31m---------------------------------------------------------------------------\u001b[0m",
      "\u001b[1;31mAttributeError\u001b[0m                            Traceback (most recent call last)",
      "Cell \u001b[1;32mIn[48], line 2\u001b[0m\n\u001b[0;32m      1\u001b[0m \u001b[38;5;28;01mfor\u001b[39;00m i \u001b[38;5;129;01min\u001b[39;00m bigbox:\n\u001b[1;32m----> 2\u001b[0m     \u001b[38;5;28mprint\u001b[39m(\u001b[38;5;124m\"\u001b[39m\u001b[38;5;124mhttps://www.flipkart.com\u001b[39m\u001b[38;5;124m\"\u001b[39m\u001b[38;5;241m+\u001b[39m\u001b[43mi\u001b[49m\u001b[38;5;241;43m.\u001b[39;49m\u001b[43mdiv\u001b[49m\u001b[38;5;241;43m.\u001b[39;49m\u001b[43mdiv\u001b[49m\u001b[38;5;241;43m.\u001b[39;49m\u001b[43mdiv\u001b[49m\u001b[38;5;241;43m.\u001b[39;49m\u001b[43ma\u001b[49m[\u001b[38;5;124m'\u001b[39m\u001b[38;5;124mhref\u001b[39m\u001b[38;5;124m'\u001b[39m])\n",
      "\u001b[1;31mAttributeError\u001b[0m: 'NoneType' object has no attribute 'a'"
     ]
    }
   ],
   "source": [
    "for i in bigbox:\n",
    "    print(\"https://www.flipkart.com\"+i.div.div.div.a['href'])"
   ]
  },
  {
   "cell_type": "code",
   "execution_count": 49,
   "id": "f6304240",
   "metadata": {},
   "outputs": [],
   "source": [
    "productlink = \"https://www.flipkart.com\"+ bigbox[3].div.div.div.a['href']"
   ]
  },
  {
   "cell_type": "code",
   "execution_count": 51,
   "id": "86a84cf1",
   "metadata": {},
   "outputs": [],
   "source": [
    "product_req = requests.get(productlink)"
   ]
  },
  {
   "cell_type": "code",
   "execution_count": 53,
   "id": "4d4a9c81",
   "metadata": {},
   "outputs": [
    {
     "data": {
      "text/plain": [
       "'https://www.flipkart.com/apple-iphone-15-pro-max-natural-titanium-256-gb/p/itm9d44960698192?pid=MOBGTAGQH6K7YMJU&lid=LSTMOBGTAGQH6K7YMJU74VM64&marketplace=FLIPKART&q=iphone15promax&store=tyy%2F4io&srno=s_1_5&otracker=search&fm=organic&iid=cf9f165d-743f-405e-a73f-c2af891eda2a.MOBGTAGQH6K7YMJU.SEARCH&ppt=None&ppn=None&ssid=om8i87ztxs0000001706956744526&qH=0c7d6c94f0a7ccd0'"
      ]
     },
     "execution_count": 53,
     "metadata": {},
     "output_type": "execute_result"
    }
   ],
   "source": [
    "productlink"
   ]
  },
  {
   "cell_type": "code",
   "execution_count": 55,
   "id": "a0460671",
   "metadata": {},
   "outputs": [],
   "source": [
    "product_html = bs(product_req.text,\"html.parser\")"
   ]
  },
  {
   "cell_type": "code",
   "execution_count": 59,
   "id": "8f982592",
   "metadata": {},
   "outputs": [],
   "source": [
    "comment_box = product_html.find_all(\"div\",{\"class\":\"_16PBlm\"})"
   ]
  },
  {
   "cell_type": "code",
   "execution_count": 60,
   "id": "8d534447",
   "metadata": {},
   "outputs": [
    {
     "data": {
      "text/plain": [
       "11"
      ]
     },
     "execution_count": 60,
     "metadata": {},
     "output_type": "execute_result"
    }
   ],
   "source": [
    "len(comment_box)"
   ]
  },
  {
   "cell_type": "code",
   "execution_count": 69,
   "id": "0880f979",
   "metadata": {},
   "outputs": [
    {
     "name": "stdout",
     "output_type": "stream",
     "text": [
      "Jaspreet Virdi\n",
      "Mamta  Kumari\n",
      "Mahendra Saurabh\n",
      "Ravideep Yadav\n",
      "Yashmeet Kashyap \n",
      "Rahul ghosh\n",
      "Titas Kumar Koley\n",
      "Srihari reddy Vanipenta\n",
      "Suraj Rawat\n",
      "Sami Khatri\n"
     ]
    },
    {
     "ename": "AttributeError",
     "evalue": "'NoneType' object has no attribute 'div'",
     "output_type": "error",
     "traceback": [
      "\u001b[1;31m---------------------------------------------------------------------------\u001b[0m",
      "\u001b[1;31mAttributeError\u001b[0m                            Traceback (most recent call last)",
      "Cell \u001b[1;32mIn[69], line 2\u001b[0m\n\u001b[0;32m      1\u001b[0m \u001b[38;5;28;01mfor\u001b[39;00m i \u001b[38;5;129;01min\u001b[39;00m comment_box:\n\u001b[1;32m----> 2\u001b[0m     \u001b[38;5;28mprint\u001b[39m(\u001b[43mi\u001b[49m\u001b[38;5;241;43m.\u001b[39;49m\u001b[43mdiv\u001b[49m\u001b[38;5;241;43m.\u001b[39;49m\u001b[43mdiv\u001b[49m\u001b[38;5;241m.\u001b[39mfind_all(\u001b[38;5;124m\"\u001b[39m\u001b[38;5;124mp\u001b[39m\u001b[38;5;124m\"\u001b[39m,{\u001b[38;5;124m\"\u001b[39m\u001b[38;5;124mclass\u001b[39m\u001b[38;5;124m\"\u001b[39m:\u001b[38;5;124m\"\u001b[39m\u001b[38;5;124m_2sc7ZR _2V5EHH\u001b[39m\u001b[38;5;124m\"\u001b[39m})[\u001b[38;5;241m0\u001b[39m]\u001b[38;5;241m.\u001b[39mtext)\n",
      "\u001b[1;31mAttributeError\u001b[0m: 'NoneType' object has no attribute 'div'"
     ]
    }
   ],
   "source": [
    "for i in comment_box:\n",
    "    print(i.div.div.find_all(\"p\",{\"class\":\"_2sc7ZR _2V5EHH\"})[0].text)"
   ]
  },
  {
   "cell_type": "code",
   "execution_count": 73,
   "id": "31fe2e94",
   "metadata": {},
   "outputs": [
    {
     "name": "stdout",
     "output_type": "stream",
     "text": [
      "5\n",
      "5\n",
      "5\n",
      "5\n",
      "5\n",
      "5\n",
      "5\n",
      "1\n",
      "3\n",
      "5\n"
     ]
    },
    {
     "ename": "AttributeError",
     "evalue": "'NoneType' object has no attribute 'div'",
     "output_type": "error",
     "traceback": [
      "\u001b[1;31m---------------------------------------------------------------------------\u001b[0m",
      "\u001b[1;31mAttributeError\u001b[0m                            Traceback (most recent call last)",
      "Cell \u001b[1;32mIn[73], line 2\u001b[0m\n\u001b[0;32m      1\u001b[0m \u001b[38;5;28;01mfor\u001b[39;00m i \u001b[38;5;129;01min\u001b[39;00m comment_box:\n\u001b[1;32m----> 2\u001b[0m     \u001b[38;5;28mprint\u001b[39m(\u001b[43mi\u001b[49m\u001b[38;5;241;43m.\u001b[39;49m\u001b[43mdiv\u001b[49m\u001b[38;5;241;43m.\u001b[39;49m\u001b[43mdiv\u001b[49m\u001b[38;5;241m.\u001b[39mdiv\u001b[38;5;241m.\u001b[39mdiv\u001b[38;5;241m.\u001b[39mtext)\n",
      "\u001b[1;31mAttributeError\u001b[0m: 'NoneType' object has no attribute 'div'"
     ]
    }
   ],
   "source": [
    "for i in comment_box:\n",
    "    print(i.div.div.div.div.text)"
   ]
  },
  {
   "cell_type": "code",
   "execution_count": 78,
   "id": "8a4fa17a",
   "metadata": {},
   "outputs": [
    {
     "name": "stdout",
     "output_type": "stream",
     "text": [
      "Excellent\n",
      "Perfect product!\n",
      "Perfect product!\n",
      "Terrific\n",
      "Worth every penny\n",
      "Super!\n",
      "Terrific\n",
      "Horrible\n",
      "Nice\n",
      "Simply awesome\n"
     ]
    },
    {
     "ename": "AttributeError",
     "evalue": "'NoneType' object has no attribute 'div'",
     "output_type": "error",
     "traceback": [
      "\u001b[1;31m---------------------------------------------------------------------------\u001b[0m",
      "\u001b[1;31mAttributeError\u001b[0m                            Traceback (most recent call last)",
      "Cell \u001b[1;32mIn[78], line 2\u001b[0m\n\u001b[0;32m      1\u001b[0m \u001b[38;5;28;01mfor\u001b[39;00m i \u001b[38;5;129;01min\u001b[39;00m comment_box:\n\u001b[1;32m----> 2\u001b[0m     \u001b[38;5;28mprint\u001b[39m(\u001b[43mi\u001b[49m\u001b[38;5;241;43m.\u001b[39;49m\u001b[43mdiv\u001b[49m\u001b[38;5;241;43m.\u001b[39;49m\u001b[43mdiv\u001b[49m\u001b[38;5;241m.\u001b[39mdiv\u001b[38;5;241m.\u001b[39mp\u001b[38;5;241m.\u001b[39mtext)\n",
      "\u001b[1;31mAttributeError\u001b[0m: 'NoneType' object has no attribute 'div'"
     ]
    }
   ],
   "source": [
    "for i in comment_box:\n",
    "    print(i.div.div.div.p.text)"
   ]
  },
  {
   "cell_type": "code",
   "execution_count": 81,
   "id": "472adb7b",
   "metadata": {},
   "outputs": [
    {
     "data": {
      "text/plain": [
       "'Good design, thinner bezzel, good performance, good battery life, outstanding 5x optical zoom camera'"
      ]
     },
     "execution_count": 81,
     "metadata": {},
     "output_type": "execute_result"
    }
   ],
   "source": [
    "comment_box[0]."
   ]
  },
  {
   "cell_type": "code",
   "execution_count": 82,
   "id": "2366854d",
   "metadata": {},
   "outputs": [
    {
     "name": "stdout",
     "output_type": "stream",
     "text": [
      "Good design, thinner bezzel, good performance, good battery life, outstanding 5x optical zoom camera\n",
      "Upgraded from 11 to 15 pro max after 2 year The display is awosome the bezzel are the thinnest And the A17 pro chip is blazing fast u can play bgmi at hdr in extreme seeting with no lag. The camera is mind blowing in lighting condition all like the dslr the quality is awesome u will not get this type of camera quality in any smartphone 🤩❤️\n",
      "Very Good SmartphoneGood performance Good battery backup And camera performance superBut only negative point-  smartphone design same to same iphone 14 pro max\n",
      "I've reviewed and tested iPhones for years, but Apple's new iPhone 15 Pro Max is the first time I've ever been this enamored.\n",
      "This one is love .. no words to explain ..\n",
      "Excellent . Just loved it .😍\n",
      "The phone is just 10/10. Amazing cameras, especially the 5x telephoto. Battery life goes over a day. The bezels look thin as well. Better to use with a case to prevent discolouration of the titanium body.\n",
      "Facing heating issues even after ios 17 updateEven for simple tasks fone is heating like below 10k budget fone\n",
      "The product is ok but when I use mobile to continue for 5 min it will start too much direct heat\n",
      "Great Phone\n"
     ]
    },
    {
     "ename": "AttributeError",
     "evalue": "'NoneType' object has no attribute 'div'",
     "output_type": "error",
     "traceback": [
      "\u001b[1;31m---------------------------------------------------------------------------\u001b[0m",
      "\u001b[1;31mAttributeError\u001b[0m                            Traceback (most recent call last)",
      "Cell \u001b[1;32mIn[82], line 2\u001b[0m\n\u001b[0;32m      1\u001b[0m \u001b[38;5;28;01mfor\u001b[39;00m i \u001b[38;5;129;01min\u001b[39;00m comment_box:\n\u001b[1;32m----> 2\u001b[0m     \u001b[38;5;28mprint\u001b[39m(\u001b[43mi\u001b[49m\u001b[38;5;241;43m.\u001b[39;49m\u001b[43mdiv\u001b[49m\u001b[38;5;241;43m.\u001b[39;49m\u001b[43mdiv\u001b[49m\u001b[38;5;241m.\u001b[39mfind_all(\u001b[38;5;124m'\u001b[39m\u001b[38;5;124mdiv\u001b[39m\u001b[38;5;124m'\u001b[39m,{\u001b[38;5;124m\"\u001b[39m\u001b[38;5;124mclass\u001b[39m\u001b[38;5;124m\"\u001b[39m:\u001b[38;5;124m\"\u001b[39m\u001b[38;5;124m\"\u001b[39m})[\u001b[38;5;241m0\u001b[39m]\u001b[38;5;241m.\u001b[39mdiv\u001b[38;5;241m.\u001b[39mtext)\n",
      "\u001b[1;31mAttributeError\u001b[0m: 'NoneType' object has no attribute 'div'"
     ]
    }
   ],
   "source": [
    "for i in comment_box:\n",
    "    print(i.div.div.find_all('div',{\"class\":\"\"})[0].div.text)"
   ]
  },
  {
   "cell_type": "code",
   "execution_count": null,
   "id": "67c2181a",
   "metadata": {},
   "outputs": [],
   "source": []
  },
  {
   "cell_type": "code",
   "execution_count": null,
   "id": "d3d2f279",
   "metadata": {},
   "outputs": [],
   "source": []
  }
 ],
 "metadata": {
  "kernelspec": {
   "display_name": "Python 3 (ipykernel)",
   "language": "python",
   "name": "python3"
  },
  "language_info": {
   "codemirror_mode": {
    "name": "ipython",
    "version": 3
   },
   "file_extension": ".py",
   "mimetype": "text/x-python",
   "name": "python",
   "nbconvert_exporter": "python",
   "pygments_lexer": "ipython3",
   "version": "3.10.8"
  }
 },
 "nbformat": 4,
 "nbformat_minor": 5
}
