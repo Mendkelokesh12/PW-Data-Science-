{
 "cells": [
  {
   "cell_type": "code",
   "execution_count": 32,
   "id": "a0642fff-aeaa-4e73-9497-870379dd2f83",
   "metadata": {},
   "outputs": [],
   "source": [
    "class test:\n",
    "    \n",
    "    def __init__(self,a,b):\n",
    "        self.a = a\n",
    "        self.b = b\n",
    "        "
   ]
  },
  {
   "cell_type": "code",
   "execution_count": 33,
   "id": "eb85a8eb-86b8-4c66-89e3-b8bd8b8ad018",
   "metadata": {},
   "outputs": [],
   "source": [
    "t = test(23,24)"
   ]
  },
  {
   "cell_type": "code",
   "execution_count": 34,
   "id": "70934a30-435c-4156-80a4-b9fc1ed9370f",
   "metadata": {},
   "outputs": [],
   "source": [
    "t.a = 23456"
   ]
  },
  {
   "cell_type": "code",
   "execution_count": 35,
   "id": "26a4c600-0dac-4a32-8cf1-30879b36e54e",
   "metadata": {},
   "outputs": [
    {
     "data": {
      "text/plain": [
       "23456"
      ]
     },
     "execution_count": 35,
     "metadata": {},
     "output_type": "execute_result"
    }
   ],
   "source": [
    "t.a"
   ]
  },
  {
   "cell_type": "code",
   "execution_count": 50,
   "id": "f4fc4aac-e0bf-4028-931e-9f37e9a497cc",
   "metadata": {},
   "outputs": [],
   "source": [
    "class car :\n",
    "    def __init__(self,year,make,model,speed):\n",
    "        \n",
    "        self.__year = year\n",
    "        self.__make = make\n",
    "        self.__model= model\n",
    "        self.__speed = speed"
   ]
  },
  {
   "cell_type": "code",
   "execution_count": 51,
   "id": "22e723a6-5ebb-4ba1-9e36-69a492298945",
   "metadata": {},
   "outputs": [],
   "source": [
    "A = car(2001,\"toyata\",\"innvo\",12)"
   ]
  },
  {
   "cell_type": "code",
   "execution_count": 52,
   "id": "8e4f5c19-b250-4d79-8173-094936ded1d0",
   "metadata": {},
   "outputs": [
    {
     "data": {
      "text/plain": [
       "2001"
      ]
     },
     "execution_count": 52,
     "metadata": {},
     "output_type": "execute_result"
    }
   ],
   "source": [
    "A._car__year"
   ]
  },
  {
   "cell_type": "code",
   "execution_count": 70,
   "id": "262553bf-7fbc-481d-b133-cf9f5e6e0bec",
   "metadata": {},
   "outputs": [],
   "source": [
    "class car:\n",
    "    def __init__(self,year,make,model,speed):\n",
    "        \n",
    "        self.__year = year\n",
    "        self.__make = make\n",
    "        self.__model= model\n",
    "        self.__speed = 0\n",
    "        \n",
    "    def set_speed(self,speed):\n",
    "        self.__speed = 0  if  speed < 0 else speed\n",
    "    \n",
    "    def get_speed(self):\n",
    "        return self.__speed\n",
    "        "
   ]
  },
  {
   "cell_type": "code",
   "execution_count": 71,
   "id": "051d4ea5-681c-49cf-9f57-65b3d8cc7cb6",
   "metadata": {},
   "outputs": [],
   "source": [
    "c = car(2001,\"toyata\",\"innvo\",12)"
   ]
  },
  {
   "cell_type": "code",
   "execution_count": 72,
   "id": "0ae10075-1440-4464-924c-5b5e2bc24d7b",
   "metadata": {},
   "outputs": [],
   "source": [
    "c.set_speed(-44)"
   ]
  },
  {
   "cell_type": "code",
   "execution_count": 73,
   "id": "47206892-fc3f-452e-8211-c60a71a6ee00",
   "metadata": {},
   "outputs": [
    {
     "data": {
      "text/plain": [
       "0"
      ]
     },
     "execution_count": 73,
     "metadata": {},
     "output_type": "execute_result"
    }
   ],
   "source": [
    "c.get_speed()"
   ]
  },
  {
   "cell_type": "code",
   "execution_count": 74,
   "id": "d6aa677f-3f6b-4c2e-8e84-e3571064aeb5",
   "metadata": {},
   "outputs": [],
   "source": [
    "c.set_speed(77)"
   ]
  },
  {
   "cell_type": "code",
   "execution_count": 75,
   "id": "4b8cdf40-e0e7-487a-b8aa-60ea982b9770",
   "metadata": {},
   "outputs": [
    {
     "data": {
      "text/plain": [
       "77"
      ]
     },
     "execution_count": 75,
     "metadata": {},
     "output_type": "execute_result"
    }
   ],
   "source": [
    "c.get_speed()"
   ]
  },
  {
   "cell_type": "code",
   "execution_count": 91,
   "id": "c352b69e-b5b4-45e5-a712-b3fccdbfdc0f",
   "metadata": {},
   "outputs": [],
   "source": [
    "class bank_account:\n",
    "    def __init__(self,balance):\n",
    "        self.__balance = balance\n",
    "    def deposit(self , amount):\n",
    "            self.__balance =self.__balance + amount\n",
    "    def withdraw(self,amount):\n",
    "        if self.__balance >= amount:\n",
    "            self.__balance = self.__balance - amount\n",
    "            return True\n",
    "        else :\n",
    "            return False\n",
    "    def get_balance(self):\n",
    "        return self.__balance\n",
    "        "
   ]
  },
  {
   "cell_type": "code",
   "execution_count": 92,
   "id": "14b369a5-e849-4152-9f2a-3015df7ef289",
   "metadata": {},
   "outputs": [],
   "source": [
    "lokesh = bank_account(1000)"
   ]
  },
  {
   "cell_type": "code",
   "execution_count": 93,
   "id": "5608c0dd-ee09-4dd4-85d8-955cc2bddac5",
   "metadata": {},
   "outputs": [
    {
     "data": {
      "text/plain": [
       "1000"
      ]
     },
     "execution_count": 93,
     "metadata": {},
     "output_type": "execute_result"
    }
   ],
   "source": [
    "lokesh.get_balance()"
   ]
  },
  {
   "cell_type": "code",
   "execution_count": 94,
   "id": "87ced666-9adf-4451-addd-e8f05dd6aac9",
   "metadata": {},
   "outputs": [],
   "source": [
    "lokesh.deposit(5000)"
   ]
  },
  {
   "cell_type": "code",
   "execution_count": 95,
   "id": "273705ca-17d8-49f1-88fb-5f91789ded88",
   "metadata": {},
   "outputs": [
    {
     "data": {
      "text/plain": [
       "6000"
      ]
     },
     "execution_count": 95,
     "metadata": {},
     "output_type": "execute_result"
    }
   ],
   "source": [
    "lokesh.get_balance()"
   ]
  },
  {
   "cell_type": "code",
   "execution_count": 96,
   "id": "08d49a0c-b1e8-4dfd-ac34-b999451eb70f",
   "metadata": {},
   "outputs": [
    {
     "data": {
      "text/plain": [
       "True"
      ]
     },
     "execution_count": 96,
     "metadata": {},
     "output_type": "execute_result"
    }
   ],
   "source": [
    "lokesh.withdraw(1000)"
   ]
  },
  {
   "cell_type": "code",
   "execution_count": 97,
   "id": "0a6aaf4f-d8d2-48d6-b4a6-efea5aa2dd05",
   "metadata": {},
   "outputs": [
    {
     "data": {
      "text/plain": [
       "5000"
      ]
     },
     "execution_count": 97,
     "metadata": {},
     "output_type": "execute_result"
    }
   ],
   "source": [
    "lokesh.get_balance()"
   ]
  },
  {
   "cell_type": "code",
   "execution_count": 98,
   "id": "b5e1da7c-bf47-49f5-872d-fc645ead3767",
   "metadata": {},
   "outputs": [
    {
     "data": {
      "text/plain": [
       "False"
      ]
     },
     "execution_count": 98,
     "metadata": {},
     "output_type": "execute_result"
    }
   ],
   "source": [
    "lokesh.withdraw(8000)"
   ]
  },
  {
   "cell_type": "code",
   "execution_count": 99,
   "id": "132de86d-2803-4fe4-8053-17a1e7619046",
   "metadata": {},
   "outputs": [
    {
     "data": {
      "text/plain": [
       "5000"
      ]
     },
     "execution_count": 99,
     "metadata": {},
     "output_type": "execute_result"
    }
   ],
   "source": [
    "lokesh.get_balance()"
   ]
  },
  {
   "cell_type": "code",
   "execution_count": null,
   "id": "17457181-f1da-435e-a262-4f7d5d2865e8",
   "metadata": {},
   "outputs": [],
   "source": []
  }
 ],
 "metadata": {
  "kernelspec": {
   "display_name": "Python 3 (ipykernel)",
   "language": "python",
   "name": "python3"
  },
  "language_info": {
   "codemirror_mode": {
    "name": "ipython",
    "version": 3
   },
   "file_extension": ".py",
   "mimetype": "text/x-python",
   "name": "python",
   "nbconvert_exporter": "python",
   "pygments_lexer": "ipython3",
   "version": "3.10.8"
  }
 },
 "nbformat": 4,
 "nbformat_minor": 5
}
