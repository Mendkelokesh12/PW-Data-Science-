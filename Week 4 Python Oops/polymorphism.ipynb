{
 "cells": [
  {
   "cell_type": "code",
   "execution_count": 1,
   "id": "0f9b0a0c-ac6b-4b60-9d30-1bc53b6d9e83",
   "metadata": {},
   "outputs": [],
   "source": [
    "def test(a,b):\n",
    "    return a+b"
   ]
  },
  {
   "cell_type": "code",
   "execution_count": 2,
   "id": "0853c1f1-b755-4589-bac3-c9edd4d0ffd3",
   "metadata": {},
   "outputs": [
    {
     "data": {
      "text/plain": [
       "8"
      ]
     },
     "execution_count": 2,
     "metadata": {},
     "output_type": "execute_result"
    }
   ],
   "source": [
    "test(3,5)"
   ]
  },
  {
   "cell_type": "code",
   "execution_count": 3,
   "id": "7cb955e5-2706-458b-9372-13071296d4f1",
   "metadata": {},
   "outputs": [
    {
     "data": {
      "text/plain": [
       "'Lokesh  Mendke'"
      ]
     },
     "execution_count": 3,
     "metadata": {},
     "output_type": "execute_result"
    }
   ],
   "source": [
    "test(\"Lokesh \",\" Mendke\")"
   ]
  },
  {
   "cell_type": "code",
   "execution_count": 4,
   "id": "06f7320f-dd91-4615-9a60-2a3cdad56ef9",
   "metadata": {},
   "outputs": [
    {
     "data": {
      "text/plain": [
       "[3, 5, 6, 7, 8, 9]"
      ]
     },
     "execution_count": 4,
     "metadata": {},
     "output_type": "execute_result"
    }
   ],
   "source": [
    "test([3,5,6],[7,8,9])"
   ]
  },
  {
   "cell_type": "code",
   "execution_count": 6,
   "id": "cbecf393-bdc8-483f-8a28-d47c634fffdc",
   "metadata": {},
   "outputs": [],
   "source": [
    "class data_science:\n",
    "    def syullabus(self):\n",
    "        print(\"thid is my syullabus for data science masters\")"
   ]
  },
  {
   "cell_type": "code",
   "execution_count": 8,
   "id": "511ac3bb-612b-42cb-8f2e-a39ece61e4cf",
   "metadata": {},
   "outputs": [],
   "source": [
    "class web_dev:\n",
    "    def syullabus(self):\n",
    "        print(\"thid is my syullabus for data wed dev\")"
   ]
  },
  {
   "cell_type": "code",
   "execution_count": 9,
   "id": "016a43fc-4499-4452-b5d8-de9d3a620be7",
   "metadata": {},
   "outputs": [],
   "source": [
    "def class_parcer(class_obj):\n",
    "    for i in  class_obj:\n",
    "        i.syullabus()"
   ]
  },
  {
   "cell_type": "code",
   "execution_count": 10,
   "id": "7b17b60c-b45e-41c1-a9de-08cfc32bdaa5",
   "metadata": {},
   "outputs": [],
   "source": [
    "data_science= data_science()"
   ]
  },
  {
   "cell_type": "code",
   "execution_count": 11,
   "id": "30ce73de-ae6f-42dd-96c9-ac7eac5a23bd",
   "metadata": {},
   "outputs": [],
   "source": [
    "web_dev = web_dev()"
   ]
  },
  {
   "cell_type": "code",
   "execution_count": 12,
   "id": "d173653c-0663-446d-b944-deb78918c4c2",
   "metadata": {},
   "outputs": [],
   "source": [
    "class_obj = [data_science,web_dev]"
   ]
  },
  {
   "cell_type": "code",
   "execution_count": 13,
   "id": "883290da-fe18-44b7-abab-a5601f0542e5",
   "metadata": {},
   "outputs": [
    {
     "name": "stdout",
     "output_type": "stream",
     "text": [
      "thid is my syullabus for data science masters\n",
      "thid is my syullabus for data wed dev\n"
     ]
    }
   ],
   "source": [
    "class_parcer(class_obj)"
   ]
  },
  {
   "cell_type": "code",
   "execution_count": null,
   "id": "3c6fe532-bf4a-4800-9198-a1f768cd7344",
   "metadata": {},
   "outputs": [],
   "source": []
  }
 ],
 "metadata": {
  "kernelspec": {
   "display_name": "Python 3 (ipykernel)",
   "language": "python",
   "name": "python3"
  },
  "language_info": {
   "codemirror_mode": {
    "name": "ipython",
    "version": 3
   },
   "file_extension": ".py",
   "mimetype": "text/x-python",
   "name": "python",
   "nbconvert_exporter": "python",
   "pygments_lexer": "ipython3",
   "version": "3.10.8"
  }
 },
 "nbformat": 4,
 "nbformat_minor": 5
}
