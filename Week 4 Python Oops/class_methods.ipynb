{
 "cells": [
  {
   "cell_type": "code",
   "execution_count": 2,
   "id": "c8e7e63b-a3a2-496f-992f-4229bbb8fc64",
   "metadata": {},
   "outputs": [],
   "source": [
    "class pwskills:\n",
    "    \n",
    "    def __init__(self, name ,email):\n",
    "        \n",
    "        self.name = name\n",
    "        self.email = email\n",
    "    \n",
    "    def student_deatil(self):\n",
    "        print(self.name,self.email)\n",
    "        "
   ]
  },
  {
   "cell_type": "code",
   "execution_count": 3,
   "id": "6409e1b8-6440-4ab1-ae04-10ddca951915",
   "metadata": {},
   "outputs": [],
   "source": [
    "pw = pwskills(\"lokesh\",\"lokeshmendke2003@gmail.com\")\n"
   ]
  },
  {
   "cell_type": "code",
   "execution_count": 4,
   "id": "99a58a0e-0f1a-4bec-bfa1-41037d26f14b",
   "metadata": {},
   "outputs": [
    {
     "data": {
      "text/plain": [
       "'lokesh'"
      ]
     },
     "execution_count": 4,
     "metadata": {},
     "output_type": "execute_result"
    }
   ],
   "source": [
    "pw.name\n"
   ]
  },
  {
   "cell_type": "code",
   "execution_count": 5,
   "id": "8290d37e-2ba2-4c93-889c-393d2212349b",
   "metadata": {},
   "outputs": [
    {
     "data": {
      "text/plain": [
       "'lokeshmendke2003@gmail.com'"
      ]
     },
     "execution_count": 5,
     "metadata": {},
     "output_type": "execute_result"
    }
   ],
   "source": [
    "pw.email"
   ]
  },
  {
   "cell_type": "code",
   "execution_count": 6,
   "id": "007d0206-44c9-405f-9e57-8c610062aa8b",
   "metadata": {},
   "outputs": [
    {
     "name": "stdout",
     "output_type": "stream",
     "text": [
      "lokesh lokeshmendke2003@gmail.com\n"
     ]
    }
   ],
   "source": [
    "pw.student_deatil()"
   ]
  },
  {
   "cell_type": "code",
   "execution_count": 7,
   "id": "ca1c7049-6879-410d-af90-849c0daa8700",
   "metadata": {},
   "outputs": [],
   "source": [
    "class pwskills1:\n",
    "    \n",
    "    def __init__(self, name ,email):\n",
    "        \n",
    "        self.name = name\n",
    "        self.email = email\n",
    "    @classmethod\n",
    "    def details(cls,name,email):\n",
    "        return cls(name,email)\n",
    "    \n",
    "    def student_deatil(self):\n",
    "        print(self.name,self.email)\n",
    "        "
   ]
  },
  {
   "cell_type": "code",
   "execution_count": 8,
   "id": "a4a1da7a-1056-4bd0-854a-94fa2c45a9ee",
   "metadata": {},
   "outputs": [],
   "source": [
    "pw1 = pwskills1.details(\"Lokesh\",\"lokeshmendke580@gmail.com|\")"
   ]
  },
  {
   "cell_type": "code",
   "execution_count": 9,
   "id": "798ba926-684b-4068-a77c-1bedd51c4a0c",
   "metadata": {},
   "outputs": [
    {
     "data": {
      "text/plain": [
       "'Lokesh'"
      ]
     },
     "execution_count": 9,
     "metadata": {},
     "output_type": "execute_result"
    }
   ],
   "source": [
    "pw1.name"
   ]
  },
  {
   "cell_type": "code",
   "execution_count": 10,
   "id": "576f7194-b3c1-44d8-9501-92e1b8891470",
   "metadata": {},
   "outputs": [
    {
     "data": {
      "text/plain": [
       "'lokeshmendke580@gmail.com|'"
      ]
     },
     "execution_count": 10,
     "metadata": {},
     "output_type": "execute_result"
    }
   ],
   "source": [
    "pw1.email"
   ]
  },
  {
   "cell_type": "code",
   "execution_count": 11,
   "id": "1a22802d-5f2a-4aac-a644-138df0b606d0",
   "metadata": {},
   "outputs": [
    {
     "name": "stdout",
     "output_type": "stream",
     "text": [
      "Lokesh lokeshmendke580@gmail.com|\n"
     ]
    }
   ],
   "source": [
    "pw1.student_deatil()"
   ]
  },
  {
   "cell_type": "code",
   "execution_count": 12,
   "id": "2a6ce3be-cf7e-4084-866d-9386b416a8ef",
   "metadata": {},
   "outputs": [],
   "source": [
    "class pwskills2:\n",
    "    \n",
    "    mobile_num = 919356628015\n",
    "    \n",
    "    def __init__(self, name ,email):\n",
    "        \n",
    "        self.name = name\n",
    "        self.email = email\n",
    "    \n",
    "    @classmethod\n",
    "    def change_number(cls,mobile):\n",
    "        pwskills2.mobile_num = mobile\n",
    "        \n",
    "    @classmethod\n",
    "    def details(cls,name,email):\n",
    "        return cls(name,email)\n",
    "    \n",
    "    def student_deatil(self):\n",
    "        print(self.name,self.email,pwskills2.mobile_num)\n",
    "  \n",
    "        "
   ]
  },
  {
   "cell_type": "code",
   "execution_count": 13,
   "id": "743067dc-b3f9-4ed7-b6e5-3b447a148a04",
   "metadata": {},
   "outputs": [
    {
     "data": {
      "text/plain": [
       "919356628015"
      ]
     },
     "execution_count": 13,
     "metadata": {},
     "output_type": "execute_result"
    }
   ],
   "source": [
    "pwskills2.mobile_num"
   ]
  },
  {
   "cell_type": "code",
   "execution_count": 14,
   "id": "62f4da77-ffb2-477e-8be0-3f646929f4b5",
   "metadata": {},
   "outputs": [],
   "source": [
    "pwskills2.change_number(9356628015)"
   ]
  },
  {
   "cell_type": "code",
   "execution_count": 15,
   "id": "5701c738-342a-4b72-adbb-bf200d8d4081",
   "metadata": {},
   "outputs": [
    {
     "data": {
      "text/plain": [
       "9356628015"
      ]
     },
     "execution_count": 15,
     "metadata": {},
     "output_type": "execute_result"
    }
   ],
   "source": [
    "pwskills2.mobile_num"
   ]
  },
  {
   "cell_type": "code",
   "execution_count": 16,
   "id": "94f2e063-3816-4b18-9f9f-d456bbff8086",
   "metadata": {},
   "outputs": [],
   "source": [
    "pw_obj = pwskills2(\"Lokesh\",\"lokeshmendke580@gmail.com\")"
   ]
  },
  {
   "cell_type": "code",
   "execution_count": 17,
   "id": "7e9922f8-8e03-4209-9ef0-15cd2c76135e",
   "metadata": {},
   "outputs": [
    {
     "name": "stdout",
     "output_type": "stream",
     "text": [
      "Lokesh lokeshmendke580@gmail.com 9356628015\n"
     ]
    }
   ],
   "source": [
    "pw_obj.student_deatil()"
   ]
  },
  {
   "cell_type": "code",
   "execution_count": 18,
   "id": "6b7a11fc-7e6e-4068-9a35-20e2343416f3",
   "metadata": {},
   "outputs": [],
   "source": [
    "pw = pwskills2.details(\"mendke\",\"mendke@gmail\")"
   ]
  },
  {
   "cell_type": "code",
   "execution_count": 20,
   "id": "1b12e60a-cf1e-4217-a65e-7d9e2d9ab558",
   "metadata": {},
   "outputs": [
    {
     "name": "stdout",
     "output_type": "stream",
     "text": [
      "mendke mendke@gmail 9356628015\n"
     ]
    }
   ],
   "source": [
    "pw.student_deatil()"
   ]
  },
  {
   "cell_type": "code",
   "execution_count": 21,
   "id": "beafea34-4f0d-4a70-8612-c36f0ccf9ab7",
   "metadata": {},
   "outputs": [],
   "source": [
    "class pwskills3:\n",
    "    \n",
    "    mobile_num = 919356628015\n",
    "    \n",
    "    def __init__(self, name ,email):\n",
    "        \n",
    "        self.name = name\n",
    "        self.email = email\n",
    "    \n",
    "    @classmethod\n",
    "    def change_number(cls,mobile):\n",
    "        pwskills2.mobile_num = mobile\n",
    "        \n",
    "    @classmethod\n",
    "    def details(cls,name,email):\n",
    "        return cls(name,email)\n",
    "    \n",
    "    def student_deatil(self):\n",
    "        print(self.name,self.email,pwskills2.mobile_num)\n",
    "  \n",
    "        "
   ]
  },
  {
   "cell_type": "code",
   "execution_count": 23,
   "id": "39f23a65-303f-4e67-a263-5eb1f49ed01a",
   "metadata": {},
   "outputs": [],
   "source": [
    "def course_details(cls,course_name):\n",
    "    print(\"course name is \", course_name)\n",
    "    "
   ]
  },
  {
   "cell_type": "code",
   "execution_count": 24,
   "id": "adddf9bc-a962-4d4c-9613-a3858a8235cc",
   "metadata": {},
   "outputs": [],
   "source": [
    "pwskills3.course_details = classmethod(course_details)"
   ]
  },
  {
   "cell_type": "code",
   "execution_count": 26,
   "id": "7b417fab-5521-4c52-8bcc-b2480f3fff95",
   "metadata": {},
   "outputs": [
    {
     "name": "stdout",
     "output_type": "stream",
     "text": [
      "course name is  data sience masters\n"
     ]
    }
   ],
   "source": [
    "pwskills3.course_details(\"data sience masters\")"
   ]
  },
  {
   "cell_type": "code",
   "execution_count": 27,
   "id": "06929c47-1630-479b-bc3c-bd548fd03c84",
   "metadata": {},
   "outputs": [],
   "source": [
    "def mentor(cls,list_of_mentor):\n",
    "    print(list_of_mentor)"
   ]
  },
  {
   "cell_type": "code",
   "execution_count": 28,
   "id": "b424f299-e60a-4ce5-83e9-bcbb5b26b54c",
   "metadata": {},
   "outputs": [],
   "source": [
    "pwskills3.mentor = classmethod(mentor)"
   ]
  },
  {
   "cell_type": "code",
   "execution_count": 31,
   "id": "95aa6ba1-735c-427f-9a3c-b2ca411d1e43",
   "metadata": {},
   "outputs": [
    {
     "name": "stdout",
     "output_type": "stream",
     "text": [
      "['lokesh', 'mendke']\n"
     ]
    }
   ],
   "source": [
    "pwskills3.mentor([\"lokesh\",\"mendke\"])"
   ]
  },
  {
   "cell_type": "code",
   "execution_count": 32,
   "id": "3c16367f-c0a4-4ef0-a710-16cb793bd6c1",
   "metadata": {},
   "outputs": [],
   "source": [
    "class pwskills4:\n",
    "    \n",
    "    mobile_num = 919356628015\n",
    "    \n",
    "    def __init__(self, name ,email):\n",
    "        \n",
    "        self.name = name\n",
    "        self.email = email\n",
    "    \n",
    "    @classmethod\n",
    "    def change_number(cls,mobile):\n",
    "        pwskills2.mobile_num = mobile\n",
    "        \n",
    "    @classmethod\n",
    "    def details(cls,name,email):\n",
    "        return cls(name,email)\n",
    "    \n",
    "    def student_deatil(self):\n",
    "        print(self.name,self.email,pwskills2.mobile_num)\n",
    "  \n",
    "        "
   ]
  },
  {
   "cell_type": "code",
   "execution_count": 33,
   "id": "199843cb-671b-48dd-9222-f409653beb70",
   "metadata": {},
   "outputs": [],
   "source": [
    "del pwskills4.change_number"
   ]
  },
  {
   "cell_type": "code",
   "execution_count": 34,
   "id": "0344eca6-6d7d-445d-a2b9-d97ab61a565e",
   "metadata": {},
   "outputs": [],
   "source": [
    "delattr(pwskills4,\"details\")"
   ]
  },
  {
   "cell_type": "code",
   "execution_count": 37,
   "id": "591b8a56-ba59-4a30-bf34-0d7803674914",
   "metadata": {},
   "outputs": [],
   "source": [
    "delattr(pwskills4,\"student_deatil\")"
   ]
  },
  {
   "cell_type": "code",
   "execution_count": 39,
   "id": "fc77c94a-e16e-44ae-9056-172e19608f95",
   "metadata": {},
   "outputs": [],
   "source": [
    "delattr(pwskills4,\"mobile_num\")"
   ]
  }
 ],
 "metadata": {
  "kernelspec": {
   "display_name": "Python 3 (ipykernel)",
   "language": "python",
   "name": "python3"
  },
  "language_info": {
   "codemirror_mode": {
    "name": "ipython",
    "version": 3
   },
   "file_extension": ".py",
   "mimetype": "text/x-python",
   "name": "python",
   "nbconvert_exporter": "python",
   "pygments_lexer": "ipython3",
   "version": "3.10.8"
  }
 },
 "nbformat": 4,
 "nbformat_minor": 5
}
