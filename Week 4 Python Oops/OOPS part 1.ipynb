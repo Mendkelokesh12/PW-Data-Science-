{
 "cells": [
  {
   "cell_type": "code",
   "execution_count": 1,
   "id": "ab303532-d990-4c24-aee4-a6814c4774d1",
   "metadata": {},
   "outputs": [],
   "source": [
    "a = 1"
   ]
  },
  {
   "cell_type": "code",
   "execution_count": 2,
   "id": "401e035d-48c3-4ac1-8127-f9837a7d6bfb",
   "metadata": {},
   "outputs": [
    {
     "name": "stdout",
     "output_type": "stream",
     "text": [
      "<class 'int'>\n"
     ]
    }
   ],
   "source": [
    "print(type(a))"
   ]
  },
  {
   "cell_type": "code",
   "execution_count": 3,
   "id": "2dc0662d-f513-4810-ab9a-b45e5a1a1749",
   "metadata": {},
   "outputs": [],
   "source": [
    "b = \"Lokesh \""
   ]
  },
  {
   "cell_type": "code",
   "execution_count": 4,
   "id": "cd56baec-e66a-416b-aa0b-9ca83fef821f",
   "metadata": {},
   "outputs": [
    {
     "name": "stdout",
     "output_type": "stream",
     "text": [
      "<class 'str'>\n"
     ]
    }
   ],
   "source": [
    "print(type(b))"
   ]
  },
  {
   "cell_type": "code",
   "execution_count": 5,
   "id": "1690e70d-bef7-4b26-8c16-99e2f717b12b",
   "metadata": {},
   "outputs": [],
   "source": [
    "class test:\n",
    "    pass"
   ]
  },
  {
   "cell_type": "code",
   "execution_count": 6,
   "id": "c7087b3c-1959-4d33-b4eb-3d9faac17246",
   "metadata": {},
   "outputs": [],
   "source": [
    "a = test()"
   ]
  },
  {
   "cell_type": "code",
   "execution_count": 7,
   "id": "7d5a6351-0f88-4359-ba36-fe244a82931d",
   "metadata": {},
   "outputs": [
    {
     "data": {
      "text/plain": [
       "__main__.test"
      ]
     },
     "execution_count": 7,
     "metadata": {},
     "output_type": "execute_result"
    }
   ],
   "source": [
    "type(a)"
   ]
  },
  {
   "cell_type": "code",
   "execution_count": 8,
   "id": "09b0bd26-29b7-4dbb-9f9c-4aeebc6bb9a7",
   "metadata": {},
   "outputs": [
    {
     "name": "stdout",
     "output_type": "stream",
     "text": [
      "<class '__main__.test'>\n"
     ]
    }
   ],
   "source": [
    "print(type(a))"
   ]
  },
  {
   "cell_type": "code",
   "execution_count": 9,
   "id": "a6f372ce-b50f-4841-a120-68a44dba0733",
   "metadata": {},
   "outputs": [],
   "source": [
    "class pwskills:\n",
    "    \n",
    "    def welcome_msg(self):\n",
    "        print(\"welcome to pwskills\")"
   ]
  },
  {
   "cell_type": "code",
   "execution_count": 10,
   "id": "6fcd3882-d91a-4c51-8a4a-e8a93e1fb5e7",
   "metadata": {},
   "outputs": [],
   "source": [
    "rohan = pwskills()"
   ]
  },
  {
   "cell_type": "code",
   "execution_count": 11,
   "id": "255ae12c-87a0-41b1-a7f2-1aa09d83f780",
   "metadata": {},
   "outputs": [
    {
     "name": "stdout",
     "output_type": "stream",
     "text": [
      "<class '__main__.pwskills'>\n"
     ]
    }
   ],
   "source": [
    "print(type(rohan))"
   ]
  },
  {
   "cell_type": "code",
   "execution_count": 12,
   "id": "b8953634-97a1-4a5e-8943-90b70ab6be16",
   "metadata": {},
   "outputs": [
    {
     "name": "stdout",
     "output_type": "stream",
     "text": [
      "welcome to pwskills\n"
     ]
    }
   ],
   "source": [
    "rohan.welcome_msg()"
   ]
  },
  {
   "cell_type": "code",
   "execution_count": 19,
   "id": "9a020ff5-eefc-4592-8913-6d5791389e0b",
   "metadata": {},
   "outputs": [],
   "source": [
    "class pwskills1:\n",
    "    \n",
    "    def __init__(self,phone_number,email_id,student_id):\n",
    "        self.phone_number = phone_number\n",
    "        self.email_id = email_id\n",
    "        self.student_id = student_id\n",
    "    \n",
    "    def return_student_details(self):\n",
    "        return self.student_id,self.phone_number,self.email_id\n",
    "        "
   ]
  },
  {
   "cell_type": "code",
   "execution_count": 20,
   "id": "9df89a98-1262-481d-8594-afa2d45e3565",
   "metadata": {},
   "outputs": [
    {
     "ename": "TypeError",
     "evalue": "pwskills1.__init__() missing 3 required positional arguments: 'phone_number', 'email_id', and 'student_id'",
     "output_type": "error",
     "traceback": [
      "\u001b[0;31m---------------------------------------------------------------------------\u001b[0m",
      "\u001b[0;31mTypeError\u001b[0m                                 Traceback (most recent call last)",
      "Cell \u001b[0;32mIn[20], line 1\u001b[0m\n\u001b[0;32m----> 1\u001b[0m rohan \u001b[38;5;241m=\u001b[39m \u001b[43mpwskills1\u001b[49m\u001b[43m(\u001b[49m\u001b[43m)\u001b[49m\n",
      "\u001b[0;31mTypeError\u001b[0m: pwskills1.__init__() missing 3 required positional arguments: 'phone_number', 'email_id', and 'student_id'"
     ]
    }
   ],
   "source": [
    "rohan = pwskills1()"
   ]
  },
  {
   "cell_type": "code",
   "execution_count": 21,
   "id": "06558d3f-c458-44fc-91aa-bb1a622506b1",
   "metadata": {},
   "outputs": [],
   "source": [
    "rohan = pwskills1(123456789,\"rohan@gmail.com\",101)\n"
   ]
  },
  {
   "cell_type": "code",
   "execution_count": 22,
   "id": "3be36778-6b01-4061-8c1d-681c93688dbd",
   "metadata": {},
   "outputs": [
    {
     "data": {
      "text/plain": [
       "(101, 123456789, 'rohan@gmail.com')"
      ]
     },
     "execution_count": 22,
     "metadata": {},
     "output_type": "execute_result"
    }
   ],
   "source": [
    "rohan.return_student_details()"
   ]
  },
  {
   "cell_type": "code",
   "execution_count": 23,
   "id": "74527aa8-c263-491b-ac2f-f9c4d55a6d0f",
   "metadata": {},
   "outputs": [],
   "source": [
    "gaurva = pwskills1(391756252,\"gaurva@gmail.com\",102)"
   ]
  },
  {
   "cell_type": "code",
   "execution_count": 24,
   "id": "3ec56a56-a96c-45f3-9d5a-62d0f862e1d3",
   "metadata": {},
   "outputs": [
    {
     "data": {
      "text/plain": [
       "(102, 391756252, 'gaurva@gmail.com')"
      ]
     },
     "execution_count": 24,
     "metadata": {},
     "output_type": "execute_result"
    }
   ],
   "source": [
    "gaurva.return_student_details()"
   ]
  },
  {
   "cell_type": "code",
   "execution_count": 25,
   "id": "d99f9124-d65d-473a-831d-b65e386d1a3d",
   "metadata": {},
   "outputs": [
    {
     "data": {
      "text/plain": [
       "123456789"
      ]
     },
     "execution_count": 25,
     "metadata": {},
     "output_type": "execute_result"
    }
   ],
   "source": [
    "rohan.phone_number"
   ]
  },
  {
   "cell_type": "code",
   "execution_count": 26,
   "id": "3f36590b-5217-4b38-b1ea-9d2fb7a2efcf",
   "metadata": {},
   "outputs": [
    {
     "data": {
      "text/plain": [
       "'rohan@gmail.com'"
      ]
     },
     "execution_count": 26,
     "metadata": {},
     "output_type": "execute_result"
    }
   ],
   "source": [
    "rohan.email_id\n"
   ]
  },
  {
   "cell_type": "code",
   "execution_count": 35,
   "id": "e34979d0-3080-4af0-a6f7-56f436f5debe",
   "metadata": {},
   "outputs": [],
   "source": [
    "class pwskills2:\n",
    "    \n",
    "    def __init__(self,phone_number,email_id,student_id):\n",
    "        self.phone_number1 = phone_number\n",
    "        self.email_id1 = email_id\n",
    "        self.student_id1= student_id\n",
    "    \n",
    "    def return_student_details(self):\n",
    "        return self.student_id1,self.phone_number1,self.email_id1\n",
    "        "
   ]
  },
  {
   "cell_type": "code",
   "execution_count": 36,
   "id": "2374ca3d-5e8f-4fcd-b4a9-90f0643a9972",
   "metadata": {},
   "outputs": [],
   "source": [
    "lokesh = pwskills2(89956566,\"lokesh@gamil.com\",103)"
   ]
  },
  {
   "cell_type": "code",
   "execution_count": 37,
   "id": "2d1ad321-e973-4e8e-b3ee-1749b46aafc3",
   "metadata": {},
   "outputs": [
    {
     "data": {
      "text/plain": [
       "(103, 89956566, 'lokesh@gamil.com')"
      ]
     },
     "execution_count": 37,
     "metadata": {},
     "output_type": "execute_result"
    }
   ],
   "source": [
    "lokesh.return_student_details()"
   ]
  },
  {
   "cell_type": "code",
   "execution_count": null,
   "id": "d44cc8d2-4d1a-4f53-a710-3916f71860e0",
   "metadata": {},
   "outputs": [],
   "source": []
  }
 ],
 "metadata": {
  "kernelspec": {
   "display_name": "Python 3 (ipykernel)",
   "language": "python",
   "name": "python3"
  },
  "language_info": {
   "codemirror_mode": {
    "name": "ipython",
    "version": 3
   },
   "file_extension": ".py",
   "mimetype": "text/x-python",
   "name": "python",
   "nbconvert_exporter": "python",
   "pygments_lexer": "ipython3",
   "version": "3.10.8"
  }
 },
 "nbformat": 4,
 "nbformat_minor": 5
}
