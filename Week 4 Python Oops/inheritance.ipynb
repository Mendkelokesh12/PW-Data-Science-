{
 "cells": [
  {
   "cell_type": "code",
   "execution_count": 1,
   "id": "6fdb0343-e8e0-4dfb-9f29-4da7f9d923c2",
   "metadata": {},
   "outputs": [],
   "source": [
    "class test:\n",
    "    def test_math(self):\n",
    "        return \"this is my first class\""
   ]
  },
  {
   "cell_type": "code",
   "execution_count": 2,
   "id": "1f22c4e0-baf2-4a38-a77a-66f9b9f705dc",
   "metadata": {},
   "outputs": [],
   "source": [
    "class child_test(test):\n",
    "    pass"
   ]
  },
  {
   "cell_type": "code",
   "execution_count": 3,
   "id": "2a1a3054-d3f2-4de5-b708-7e9634771b7f",
   "metadata": {},
   "outputs": [],
   "source": [
    "child_test_obj = child_test()\n"
   ]
  },
  {
   "cell_type": "code",
   "execution_count": 4,
   "id": "bd14b559-4b1b-482a-9f42-4018a9bf4b7a",
   "metadata": {},
   "outputs": [
    {
     "data": {
      "text/plain": [
       "'this is my first class'"
      ]
     },
     "execution_count": 4,
     "metadata": {},
     "output_type": "execute_result"
    }
   ],
   "source": [
    "child_test_obj.test_math()"
   ]
  },
  {
   "cell_type": "code",
   "execution_count": 5,
   "id": "77b4e907-0f1e-4337-bae2-a6595bc2868f",
   "metadata": {},
   "outputs": [],
   "source": [
    "class class1:\n",
    "    def test_class(self):\n",
    "        return \"this is math from class1\""
   ]
  },
  {
   "cell_type": "code",
   "execution_count": 7,
   "id": "da7c6c43-4a64-4e07-989e-ab92c332bbbf",
   "metadata": {},
   "outputs": [],
   "source": [
    "class class2(class1):\n",
    "    def test_class2(self):\n",
    "        return \"this a math from class 2\"\n"
   ]
  },
  {
   "cell_type": "code",
   "execution_count": 8,
   "id": "e68c36ed-e1a2-4d3e-901a-6982b6b0071a",
   "metadata": {},
   "outputs": [],
   "source": [
    "class class3(class2):\n",
    "    pass"
   ]
  },
  {
   "cell_type": "code",
   "execution_count": 9,
   "id": "23275a1b-0ad7-403e-9881-012273a7db32",
   "metadata": {},
   "outputs": [],
   "source": [
    "obj_class3 = class3()"
   ]
  },
  {
   "cell_type": "code",
   "execution_count": 10,
   "id": "f5c9e1b5-5a0f-404b-aa65-d9e3ecddcd32",
   "metadata": {},
   "outputs": [
    {
     "data": {
      "text/plain": [
       "'this is math from class1'"
      ]
     },
     "execution_count": 10,
     "metadata": {},
     "output_type": "execute_result"
    }
   ],
   "source": [
    "obj_class3.test_class()"
   ]
  },
  {
   "cell_type": "code",
   "execution_count": 11,
   "id": "d86adfa2-69bd-4f30-805e-a5674cf65045",
   "metadata": {},
   "outputs": [
    {
     "data": {
      "text/plain": [
       "'this a math from class 2'"
      ]
     },
     "execution_count": 11,
     "metadata": {},
     "output_type": "execute_result"
    }
   ],
   "source": [
    "obj_class3.test_class2()"
   ]
  },
  {
   "cell_type": "code",
   "execution_count": 16,
   "id": "1d4c11bf-39c0-453c-8909-301b32904379",
   "metadata": {},
   "outputs": [],
   "source": [
    "class cls1:\n",
    "    def test_cls1(self):\n",
    "        return \"this is class 1\""
   ]
  },
  {
   "cell_type": "code",
   "execution_count": 17,
   "id": "a62f6a90-de2c-4769-9feb-c59d47e13287",
   "metadata": {},
   "outputs": [],
   "source": [
    "class cls2:\n",
    "    def test_cls2(self):\n",
    "        return \"this is class 2\""
   ]
  },
  {
   "cell_type": "code",
   "execution_count": 18,
   "id": "d342d8d2-ccce-4a7e-a6e0-25c8a119abb4",
   "metadata": {},
   "outputs": [],
   "source": [
    "class cls3(cls1,cls2):\n",
    "    pass"
   ]
  },
  {
   "cell_type": "code",
   "execution_count": 19,
   "id": "01046379-130d-4590-b36b-75f97b243397",
   "metadata": {},
   "outputs": [],
   "source": [
    "obj_cls3=cls3()"
   ]
  },
  {
   "cell_type": "code",
   "execution_count": 20,
   "id": "5c592629-5342-45c0-b09a-70b88fec51bc",
   "metadata": {},
   "outputs": [
    {
     "data": {
      "text/plain": [
       "'this is class 1'"
      ]
     },
     "execution_count": 20,
     "metadata": {},
     "output_type": "execute_result"
    }
   ],
   "source": [
    "obj_cls3.test_cls1()"
   ]
  },
  {
   "cell_type": "code",
   "execution_count": 21,
   "id": "f5392bc6-0f6f-4286-9ea2-1135697a03a0",
   "metadata": {},
   "outputs": [
    {
     "data": {
      "text/plain": [
       "'this is class 2'"
      ]
     },
     "execution_count": 21,
     "metadata": {},
     "output_type": "execute_result"
    }
   ],
   "source": [
    "obj_cls3.test_cls2()"
   ]
  },
  {
   "cell_type": "code",
   "execution_count": null,
   "id": "01c6ce65-147a-437e-9ecf-258a05b3e56a",
   "metadata": {},
   "outputs": [],
   "source": []
  }
 ],
 "metadata": {
  "kernelspec": {
   "display_name": "Python 3 (ipykernel)",
   "language": "python",
   "name": "python3"
  },
  "language_info": {
   "codemirror_mode": {
    "name": "ipython",
    "version": 3
   },
   "file_extension": ".py",
   "mimetype": "text/x-python",
   "name": "python",
   "nbconvert_exporter": "python",
   "pygments_lexer": "ipython3",
   "version": "3.10.8"
  }
 },
 "nbformat": 4,
 "nbformat_minor": 5
}
