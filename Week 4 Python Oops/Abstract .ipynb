{
 "cells": [
  {
   "cell_type": "code",
   "execution_count": 2,
   "id": "07f2eb39-6000-4294-aa42-adc4a8e8284a",
   "metadata": {},
   "outputs": [],
   "source": [
    "import abc\n",
    "class pwskills:\n",
    "    \n",
    "    @abc.abstractmethod\n",
    "    def student_details(self):\n",
    "        pass\n",
    "    \n",
    "    @abc.abstractmethod\n",
    "    def student_assignment(self):\n",
    "        pass\n",
    "    \n",
    "    @abc.abstractmethod\n",
    "    def student_marks(self):\n",
    "        pass"
   ]
  },
  {
   "cell_type": "code",
   "execution_count": 9,
   "id": "2a6d8fe1-a43a-4ca6-a238-8bce5710fa96",
   "metadata": {},
   "outputs": [],
   "source": [
    "class student_detail(pwskills):\n",
    "    \n",
    "    def student_details(self):\n",
    "        return \"This is a math for taking student \"\n",
    "    \n",
    "    def student_assignment(self):\n",
    "        return \"this is a math for taking student details for a perticualt student\"\n",
    "    \n",
    "    \n",
    "    "
   ]
  },
  {
   "cell_type": "code",
   "execution_count": 10,
   "id": "f809c113-68d4-43cb-add3-fce6b79ca7c2",
   "metadata": {},
   "outputs": [],
   "source": [
    "class data_science(pwskills):\n",
    "    def student_details(self):\n",
    "        return \"this will return a student detail for data science master\"\n",
    "    def student_assignment(self):\n",
    "        return \"this will give you a student assigment deatil for data science master\""
   ]
  },
  {
   "cell_type": "code",
   "execution_count": 11,
   "id": "3584d9c2-8500-4b84-8dbc-2eac0d28bc94",
   "metadata": {},
   "outputs": [],
   "source": [
    "a = data_science()"
   ]
  },
  {
   "cell_type": "code",
   "execution_count": 12,
   "id": "154d1103-fa47-4242-a9a8-7ee476f53a3a",
   "metadata": {},
   "outputs": [
    {
     "data": {
      "text/plain": [
       "'this will return a student detail for data science master'"
      ]
     },
     "execution_count": 12,
     "metadata": {},
     "output_type": "execute_result"
    }
   ],
   "source": [
    "a.student_details()"
   ]
  },
  {
   "cell_type": "code",
   "execution_count": 13,
   "id": "498b80de-8b75-409b-9e43-0251374e1063",
   "metadata": {},
   "outputs": [],
   "source": [
    "sd = student_detail()"
   ]
  },
  {
   "cell_type": "code",
   "execution_count": 14,
   "id": "262d3f8b-e00a-490f-9c81-cb4c40adf8f9",
   "metadata": {},
   "outputs": [
    {
     "data": {
      "text/plain": [
       "'This is a math for taking student '"
      ]
     },
     "execution_count": 14,
     "metadata": {},
     "output_type": "execute_result"
    }
   ],
   "source": [
    "sd.student_details()"
   ]
  }
 ],
 "metadata": {
  "kernelspec": {
   "display_name": "Python 3 (ipykernel)",
   "language": "python",
   "name": "python3"
  },
  "language_info": {
   "codemirror_mode": {
    "name": "ipython",
    "version": 3
   },
   "file_extension": ".py",
   "mimetype": "text/x-python",
   "name": "python",
   "nbconvert_exporter": "python",
   "pygments_lexer": "ipython3",
   "version": "3.10.8"
  }
 },
 "nbformat": 4,
 "nbformat_minor": 5
}
