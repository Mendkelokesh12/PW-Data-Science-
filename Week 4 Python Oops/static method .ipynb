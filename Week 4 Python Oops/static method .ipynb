{
 "cells": [
  {
   "cell_type": "code",
   "execution_count": 3,
   "id": "3e07c673-e40e-4793-a24c-d72d9ae154f0",
   "metadata": {},
   "outputs": [],
   "source": [
    "class pwskills:\n",
    "    \n",
    "    def student_details(self, name ,mail_id,number):\n",
    "        print(name,mail_id,number)"
   ]
  },
  {
   "cell_type": "code",
   "execution_count": 4,
   "id": "307558ce-76a5-49e1-ab5d-49bbf4f27eb8",
   "metadata": {},
   "outputs": [],
   "source": [
    "pw = pwskills()"
   ]
  },
  {
   "cell_type": "code",
   "execution_count": 5,
   "id": "dee1cfe3-b203-49f5-8162-100471b3b9e7",
   "metadata": {},
   "outputs": [
    {
     "name": "stdout",
     "output_type": "stream",
     "text": [
      "lokesh Lokeshmendke@gmail.com 9355628015\n"
     ]
    }
   ],
   "source": [
    "pw.student_details(\"lokesh\" , \"Lokeshmendke@gmail.com\",9355628015)"
   ]
  },
  {
   "cell_type": "code",
   "execution_count": 10,
   "id": "2f97a123-da36-4126-a956-694715969d3e",
   "metadata": {},
   "outputs": [],
   "source": [
    "class pwskills1:\n",
    "    \n",
    "    def student_details(self, name ,mail_id,number):\n",
    "        print(name,mail_id,number)\n",
    "        \n",
    "    @staticmethod\n",
    "    def mentor_class(list_mentor):\n",
    "        print(list_mentor)\n",
    "        \n",
    "    def mentor(self, mentor_list ):\n",
    "        print(mentor_list)"
   ]
  },
  {
   "cell_type": "code",
   "execution_count": 8,
   "id": "8ed57bf8-1195-4719-926d-7acf9473c04c",
   "metadata": {},
   "outputs": [
    {
     "name": "stdout",
     "output_type": "stream",
     "text": [
      "['Lokesh', 'Mendke']\n"
     ]
    }
   ],
   "source": [
    "pwskills1.mentor_class([\"Lokesh\" , \"Mendke\"])"
   ]
  },
  {
   "cell_type": "code",
   "execution_count": 9,
   "id": "a32931be-5133-4326-b68c-60b1d771b5d4",
   "metadata": {},
   "outputs": [],
   "source": [
    "stu1 = pwskills1() "
   ]
  },
  {
   "cell_type": "code",
   "execution_count": 20,
   "id": "fb36359b-d7b9-4bc7-a6ba-339d2150527e",
   "metadata": {},
   "outputs": [],
   "source": [
    "class pwskills2:\n",
    "    \n",
    "    def student_details(self, name ,mail_id,number):\n",
    "        print(name,mail_id,number)\n",
    "        \n",
    "    @staticmethod\n",
    "    def mentor_mail_id(maild_id_mentor):\n",
    "        print(maild_id_mentor)\n",
    "        \n",
    "    @staticmethod\n",
    "    def mentor_class(list_mentor):\n",
    "        pwskills2.mentor_mail_id(\"lokeshmendke580@gmail.com\")\n",
    "        print(list_mentor)\n",
    "    \n",
    "    @classmethod \n",
    "    def class_name(cls):\n",
    "        cls.mentor_class([\"Lokesh\",\"Mendke\"])\n",
    "        \n",
    "        \n",
    "    def mentor(self, mentor_list ):\n",
    "        print(mentor_list)\n",
    "        self.mentor_class([\"lokesh\",\"Suresh\"])"
   ]
  },
  {
   "cell_type": "code",
   "execution_count": 21,
   "id": "d4a19fb4-6e70-48ee-ae00-2d68891fd49b",
   "metadata": {},
   "outputs": [
    {
     "name": "stdout",
     "output_type": "stream",
     "text": [
      "lokeshmendke580@gmail.com\n",
      "['Lokesh', 'Mendke']\n"
     ]
    }
   ],
   "source": [
    "pwskills2.class_name()"
   ]
  },
  {
   "cell_type": "code",
   "execution_count": 22,
   "id": "3107d3a6-33b9-4d83-b5cf-57e8332bcbba",
   "metadata": {},
   "outputs": [
    {
     "name": "stdout",
     "output_type": "stream",
     "text": [
      "lokeshmendke580@gmail.com\n",
      "['Lokesh', 'Suresh', 'Mendke']\n"
     ]
    }
   ],
   "source": [
    "pwskills2.mentor_class([\"Lokesh\",\"Suresh\",\"Mendke\"])"
   ]
  },
  {
   "cell_type": "code",
   "execution_count": 23,
   "id": "d4332821-117c-468b-80b8-58fc1fb0e176",
   "metadata": {},
   "outputs": [],
   "source": [
    "pw = pwskills2()"
   ]
  },
  {
   "cell_type": "code",
   "execution_count": 25,
   "id": "70727d90-f681-4b0d-9cb2-2b7bf93ab124",
   "metadata": {},
   "outputs": [
    {
     "name": "stdout",
     "output_type": "stream",
     "text": [
      "['Ayush ', 'Mendke']\n",
      "lokeshmendke580@gmail.com\n",
      "['lokesh', 'Suresh']\n"
     ]
    }
   ],
   "source": [
    "pw.mentor([\"Ayush \",\"Mendke\"])"
   ]
  },
  {
   "cell_type": "code",
   "execution_count": null,
   "id": "6ffc0c60-cb10-4bb8-85f8-f52ffe11ffe0",
   "metadata": {},
   "outputs": [],
   "source": []
  }
 ],
 "metadata": {
  "kernelspec": {
   "display_name": "Python 3 (ipykernel)",
   "language": "python",
   "name": "python3"
  },
  "language_info": {
   "codemirror_mode": {
    "name": "ipython",
    "version": 3
   },
   "file_extension": ".py",
   "mimetype": "text/x-python",
   "name": "python",
   "nbconvert_exporter": "python",
   "pygments_lexer": "ipython3",
   "version": "3.10.8"
  }
 },
 "nbformat": 4,
 "nbformat_minor": 5
}
